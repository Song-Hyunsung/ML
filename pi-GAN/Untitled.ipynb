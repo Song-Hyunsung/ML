{
 "cells": [
  {
   "cell_type": "code",
   "execution_count": 1,
   "id": "6098caa1-82fb-49ef-8869-9fa5710a3d42",
   "metadata": {},
   "outputs": [
    {
     "name": "stdout",
     "output_type": "stream",
     "text": [
      "Initializing ImageDataset with folders: ('./data/Nasal/training', './data/Center/training')\n",
      "Found 489 target images and 489 center images\n",
      "Image filenames verified: all match one-to-one\n",
      "Loaded 489 image pairs successfully\n",
      "Transformed images: target shape torch.Size([489, 3, 16, 16]), center shape torch.Size([489, 3, 128, 128])\n",
      "Initializing ImageDataset with folders: ('./data/Nasal/val', './data/Center/val')\n",
      "Found 67 target images and 67 center images\n",
      "Image filenames verified: all match one-to-one\n",
      "Loaded 67 image pairs successfully\n",
      "Transformed images: target shape torch.Size([67, 3, 16, 16]), center shape torch.Size([67, 3, 128, 128])\n"
     ]
    },
    {
     "name": "stderr",
     "output_type": "stream",
     "text": [
      "/usr/local/lib/python3.12/site-packages/torch/functional.py:539: UserWarning: torch.meshgrid: in an upcoming release, it will be required to pass the indexing argument. (Triggered internally at /pytorch/aten/src/ATen/native/TensorShape.cpp:3637.)\n",
      "  return _VF.meshgrid(tensors, **kwargs)  # type: ignore[attr-defined]\n"
     ]
    },
    {
     "name": "stdout",
     "output_type": "stream",
     "text": [
      "[Iter     50] G loss:0.955024, D loss:1.224448, gp loss:0.093719\n",
      "[Test]\n",
      "[Iter    100] G loss:0.944517, D loss:1.203070, gp loss:0.059998\n",
      "[Test]\n",
      "[Iter    150] G loss:0.912417, D loss:1.207272, gp loss:0.022883\n",
      "[Test]\n",
      "[Iter    200] G loss:0.942387, D loss:1.185030, gp loss:0.022107\n",
      "[Test]\n",
      "[Iter    250] G loss:0.986372, D loss:1.158795, gp loss:0.019682\n",
      "[Test]\n",
      "[Iter    300] G loss:1.630973, D loss:0.975055, gp loss:0.022437\n",
      "[Test]\n",
      "[Save check point]\n",
      "[Iter    350] G loss:3.459053, D loss:0.178305, gp loss:0.015946\n",
      "[Test]\n",
      "[Iter    400] G loss:3.599237, D loss:0.161712, gp loss:0.018086\n",
      "[Test]\n",
      "[Iter    450] G loss:3.718896, D loss:0.095396, gp loss:0.015905\n",
      "[Test]\n",
      "[Iter    500] G loss:3.707329, D loss:0.092261, gp loss:0.015499\n",
      "[Test]\n",
      "[Iter    550] G loss:4.167829, D loss:0.076324, gp loss:0.012869\n",
      "[Test]\n",
      "[Iter    600] G loss:4.041781, D loss:0.073992, gp loss:0.013255\n",
      "[Test]\n",
      "[Save check point]\n",
      "[Iter    650] G loss:4.047287, D loss:0.058175, gp loss:0.011268\n",
      "[Test]\n",
      "[Iter    700] G loss:4.060808, D loss:0.058678, gp loss:0.011568\n",
      "[Test]\n",
      "[Iter    750] G loss:4.076320, D loss:0.059200, gp loss:0.012596\n",
      "[Test]\n",
      "[Iter    800] G loss:4.123062, D loss:0.055679, gp loss:0.011696\n",
      "[Test]\n",
      "[Iter    850] G loss:4.122403, D loss:0.048651, gp loss:0.010544\n",
      "[Test]\n",
      "[Iter    900] G loss:4.151769, D loss:0.046002, gp loss:0.009118\n",
      "[Test]\n",
      "[Save check point]\n",
      "[Iter    950] G loss:4.250379, D loss:0.047939, gp loss:0.008619\n",
      "[Test]\n",
      "[Iter   1000] G loss:4.242696, D loss:0.046664, gp loss:0.009438\n",
      "[Test]\n",
      "[Iter   1050] G loss:4.329335, D loss:0.044452, gp loss:0.008888\n",
      "[Test]\n",
      "[Iter   1100] G loss:4.276159, D loss:0.044368, gp loss:0.009182\n",
      "[Test]\n",
      "[Iter   1108] G loss:4.424382, D loss:0.039825, gp loss:0.005570"
     ]
    },
    {
     "ename": "KeyboardInterrupt",
     "evalue": "",
     "output_type": "error",
     "traceback": [
      "\u001b[0;31m---------------------------------------------------------------------------\u001b[0m",
      "\u001b[0;31mKeyboardInterrupt\u001b[0m                         Traceback (most recent call last)",
      "Cell \u001b[0;32mIn[1], line 11\u001b[0m\n\u001b[1;32m      5\u001b[0m model \u001b[38;5;241m=\u001b[39m piGAN((dataset, val_dataset), device_ids\u001b[38;5;241m=\u001b[39m[\u001b[38;5;241m0\u001b[39m])\n\u001b[1;32m      7\u001b[0m \u001b[38;5;66;03m# if you have a check point, load it here\u001b[39;00m\n\u001b[1;32m      8\u001b[0m \u001b[38;5;66;03m# model.load_ckpt('./output/test/ckpt001000.pth')\u001b[39;00m\n\u001b[1;32m      9\u001b[0m \n\u001b[1;32m     10\u001b[0m \u001b[38;5;66;03m# Train\u001b[39;00m\n\u001b[0;32m---> 11\u001b[0m \u001b[43mmodel\u001b[49m\u001b[38;5;241;43m.\u001b[39;49m\u001b[43mtrain\u001b[49m\u001b[43m(\u001b[49m\u001b[38;5;241;43m40000\u001b[39;49m\u001b[43m)\u001b[49m \u001b[38;5;66;03m# train for 40000 iterations \u001b[39;00m\n",
      "File \u001b[0;32m/app/Practice/pi-GAN/pi_gan.py:434\u001b[0m, in \u001b[0;36mpiGAN.train\u001b[0;34m(self, num_iters)\u001b[0m\n\u001b[1;32m    431\u001b[0m     tot_loss_gp \u001b[38;5;241m=\u001b[39m \u001b[38;5;241m0.\u001b[39m\n\u001b[1;32m    432\u001b[0m i_mod \u001b[38;5;241m=\u001b[39m i \u001b[38;5;241m%\u001b[39m \u001b[38;5;241m100\u001b[39m \u001b[38;5;241m+\u001b[39m \u001b[38;5;241m1\u001b[39m\n\u001b[0;32m--> 434\u001b[0m \u001b[38;5;28;43mself\u001b[39;49m\u001b[38;5;241;43m.\u001b[39;49m\u001b[43mtrain_step\u001b[49m\u001b[43m(\u001b[49m\u001b[43m)\u001b[49m\n\u001b[1;32m    435\u001b[0m \u001b[38;5;28mself\u001b[39m\u001b[38;5;241m.\u001b[39mlr_scheduler_G\u001b[38;5;241m.\u001b[39mstep()\n\u001b[1;32m    436\u001b[0m \u001b[38;5;28mself\u001b[39m\u001b[38;5;241m.\u001b[39mlr_scheduler_D\u001b[38;5;241m.\u001b[39mstep()\n",
      "File \u001b[0;32m/app/Practice/pi-GAN/pi_gan.py:530\u001b[0m, in \u001b[0;36mpiGAN.train_step\u001b[0;34m(self)\u001b[0m\n\u001b[1;32m    527\u001b[0m     \u001b[38;5;28mself\u001b[39m\u001b[38;5;241m.\u001b[39mloss_G \u001b[38;5;241m=\u001b[39m loss\u001b[38;5;241m.\u001b[39mitem()\n\u001b[1;32m    529\u001b[0m     \u001b[38;5;28mself\u001b[39m\u001b[38;5;241m.\u001b[39moptim_G\u001b[38;5;241m.\u001b[39mzero_grad()\n\u001b[0;32m--> 530\u001b[0m     \u001b[43mloss\u001b[49m\u001b[38;5;241;43m.\u001b[39;49m\u001b[43mbackward\u001b[49m\u001b[43m(\u001b[49m\u001b[43m)\u001b[49m\n\u001b[1;32m    531\u001b[0m     \u001b[38;5;28mself\u001b[39m\u001b[38;5;241m.\u001b[39moptim_G\u001b[38;5;241m.\u001b[39mstep()\n\u001b[1;32m    533\u001b[0m \u001b[38;5;28mself\u001b[39m\u001b[38;5;241m.\u001b[39mD\u001b[38;5;241m.\u001b[39mmodule\u001b[38;5;241m.\u001b[39mupdate_iter_()\n",
      "File \u001b[0;32m/usr/local/lib/python3.12/site-packages/torch/_tensor.py:626\u001b[0m, in \u001b[0;36mTensor.backward\u001b[0;34m(self, gradient, retain_graph, create_graph, inputs)\u001b[0m\n\u001b[1;32m    616\u001b[0m \u001b[38;5;28;01mif\u001b[39;00m has_torch_function_unary(\u001b[38;5;28mself\u001b[39m):\n\u001b[1;32m    617\u001b[0m     \u001b[38;5;28;01mreturn\u001b[39;00m handle_torch_function(\n\u001b[1;32m    618\u001b[0m         Tensor\u001b[38;5;241m.\u001b[39mbackward,\n\u001b[1;32m    619\u001b[0m         (\u001b[38;5;28mself\u001b[39m,),\n\u001b[0;32m   (...)\u001b[0m\n\u001b[1;32m    624\u001b[0m         inputs\u001b[38;5;241m=\u001b[39minputs,\n\u001b[1;32m    625\u001b[0m     )\n\u001b[0;32m--> 626\u001b[0m \u001b[43mtorch\u001b[49m\u001b[38;5;241;43m.\u001b[39;49m\u001b[43mautograd\u001b[49m\u001b[38;5;241;43m.\u001b[39;49m\u001b[43mbackward\u001b[49m\u001b[43m(\u001b[49m\n\u001b[1;32m    627\u001b[0m \u001b[43m    \u001b[49m\u001b[38;5;28;43mself\u001b[39;49m\u001b[43m,\u001b[49m\u001b[43m \u001b[49m\u001b[43mgradient\u001b[49m\u001b[43m,\u001b[49m\u001b[43m \u001b[49m\u001b[43mretain_graph\u001b[49m\u001b[43m,\u001b[49m\u001b[43m \u001b[49m\u001b[43mcreate_graph\u001b[49m\u001b[43m,\u001b[49m\u001b[43m \u001b[49m\u001b[43minputs\u001b[49m\u001b[38;5;241;43m=\u001b[39;49m\u001b[43minputs\u001b[49m\n\u001b[1;32m    628\u001b[0m \u001b[43m\u001b[49m\u001b[43m)\u001b[49m\n",
      "File \u001b[0;32m/usr/local/lib/python3.12/site-packages/torch/autograd/__init__.py:347\u001b[0m, in \u001b[0;36mbackward\u001b[0;34m(tensors, grad_tensors, retain_graph, create_graph, grad_variables, inputs)\u001b[0m\n\u001b[1;32m    342\u001b[0m     retain_graph \u001b[38;5;241m=\u001b[39m create_graph\n\u001b[1;32m    344\u001b[0m \u001b[38;5;66;03m# The reason we repeat the same comment below is that\u001b[39;00m\n\u001b[1;32m    345\u001b[0m \u001b[38;5;66;03m# some Python versions print out the first line of a multi-line function\u001b[39;00m\n\u001b[1;32m    346\u001b[0m \u001b[38;5;66;03m# calls in the traceback and some print out the last line\u001b[39;00m\n\u001b[0;32m--> 347\u001b[0m \u001b[43m_engine_run_backward\u001b[49m\u001b[43m(\u001b[49m\n\u001b[1;32m    348\u001b[0m \u001b[43m    \u001b[49m\u001b[43mtensors\u001b[49m\u001b[43m,\u001b[49m\n\u001b[1;32m    349\u001b[0m \u001b[43m    \u001b[49m\u001b[43mgrad_tensors_\u001b[49m\u001b[43m,\u001b[49m\n\u001b[1;32m    350\u001b[0m \u001b[43m    \u001b[49m\u001b[43mretain_graph\u001b[49m\u001b[43m,\u001b[49m\n\u001b[1;32m    351\u001b[0m \u001b[43m    \u001b[49m\u001b[43mcreate_graph\u001b[49m\u001b[43m,\u001b[49m\n\u001b[1;32m    352\u001b[0m \u001b[43m    \u001b[49m\u001b[43minputs\u001b[49m\u001b[43m,\u001b[49m\n\u001b[1;32m    353\u001b[0m \u001b[43m    \u001b[49m\u001b[43mallow_unreachable\u001b[49m\u001b[38;5;241;43m=\u001b[39;49m\u001b[38;5;28;43;01mTrue\u001b[39;49;00m\u001b[43m,\u001b[49m\n\u001b[1;32m    354\u001b[0m \u001b[43m    \u001b[49m\u001b[43maccumulate_grad\u001b[49m\u001b[38;5;241;43m=\u001b[39;49m\u001b[38;5;28;43;01mTrue\u001b[39;49;00m\u001b[43m,\u001b[49m\n\u001b[1;32m    355\u001b[0m \u001b[43m\u001b[49m\u001b[43m)\u001b[49m\n",
      "File \u001b[0;32m/usr/local/lib/python3.12/site-packages/torch/autograd/graph.py:823\u001b[0m, in \u001b[0;36m_engine_run_backward\u001b[0;34m(t_outputs, *args, **kwargs)\u001b[0m\n\u001b[1;32m    821\u001b[0m     unregister_hooks \u001b[38;5;241m=\u001b[39m _register_logging_hooks_on_whole_graph(t_outputs)\n\u001b[1;32m    822\u001b[0m \u001b[38;5;28;01mtry\u001b[39;00m:\n\u001b[0;32m--> 823\u001b[0m     \u001b[38;5;28;01mreturn\u001b[39;00m \u001b[43mVariable\u001b[49m\u001b[38;5;241;43m.\u001b[39;49m\u001b[43m_execution_engine\u001b[49m\u001b[38;5;241;43m.\u001b[39;49m\u001b[43mrun_backward\u001b[49m\u001b[43m(\u001b[49m\u001b[43m  \u001b[49m\u001b[38;5;66;43;03m# Calls into the C++ engine to run the backward pass\u001b[39;49;00m\n\u001b[1;32m    824\u001b[0m \u001b[43m        \u001b[49m\u001b[43mt_outputs\u001b[49m\u001b[43m,\u001b[49m\u001b[43m \u001b[49m\u001b[38;5;241;43m*\u001b[39;49m\u001b[43margs\u001b[49m\u001b[43m,\u001b[49m\u001b[43m \u001b[49m\u001b[38;5;241;43m*\u001b[39;49m\u001b[38;5;241;43m*\u001b[39;49m\u001b[43mkwargs\u001b[49m\n\u001b[1;32m    825\u001b[0m \u001b[43m    \u001b[49m\u001b[43m)\u001b[49m  \u001b[38;5;66;03m# Calls into the C++ engine to run the backward pass\u001b[39;00m\n\u001b[1;32m    826\u001b[0m \u001b[38;5;28;01mfinally\u001b[39;00m:\n\u001b[1;32m    827\u001b[0m     \u001b[38;5;28;01mif\u001b[39;00m attach_logging_hooks:\n",
      "\u001b[0;31mKeyboardInterrupt\u001b[0m: "
     ]
    }
   ],
   "source": [
    "from pi_gan import *\n",
    "from data import dataset, val_dataset\n",
    "\n",
    "# Use the piGAN class. Specify the GPU ids\n",
    "model = piGAN((dataset, val_dataset), device_ids=[0])\n",
    "\n",
    "# if you have a check point, load it here\n",
    "# model.load_ckpt('./output/test/ckpt001000.pth')\n",
    "\n",
    "# Train\n",
    "model.train(40000) # train for 40000 iterations "
   ]
  },
  {
   "cell_type": "code",
   "execution_count": null,
   "id": "d1c49b74-23f3-4eff-9822-257dcb64ae3e",
   "metadata": {},
   "outputs": [],
   "source": []
  }
 ],
 "metadata": {
  "kernelspec": {
   "display_name": "Python 3 (ipykernel)",
   "language": "python",
   "name": "python3"
  },
  "language_info": {
   "codemirror_mode": {
    "name": "ipython",
    "version": 3
   },
   "file_extension": ".py",
   "mimetype": "text/x-python",
   "name": "python",
   "nbconvert_exporter": "python",
   "pygments_lexer": "ipython3",
   "version": "3.12.9"
  }
 },
 "nbformat": 4,
 "nbformat_minor": 5
}
