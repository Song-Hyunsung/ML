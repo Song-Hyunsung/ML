{
 "cells": [
  {
   "cell_type": "code",
   "execution_count": 1,
   "id": "07aa4c59-128b-4a5d-8108-6778a99946e5",
   "metadata": {},
   "outputs": [],
   "source": [
    "import torch\n",
    "import torch.nn as nn\n",
    "import torch.optim as optim\n",
    "import numpy as np\n",
    "import os\n",
    "\n",
    "from PIL import Image\n",
    "from torch.utils.data import Dataset\n",
    "from torch.utils.data import DataLoader\n",
    "from torchvision import transforms\n",
    "from torchvision.utils import save_image\n",
    "from tqdm import tqdm"
   ]
  },
  {
   "cell_type": "markdown",
   "id": "ce0058f9-7c1c-4d3e-87e2-a197735a095b",
   "metadata": {},
   "source": [
    "# Discriminator Architecture (Pix2Pix)\n",
    "\n",
    "The `Discriminator` class implements a **PatchGAN-based** discriminator, commonly used in the **Pix2Pix** model for image-to-image translation. It classifies whether each patch in an image is real or fake.\n",
    "\n",
    "## Architecture Overview\n",
    "\n",
    "- The discriminator takes as input a **pair of images** `(x, y)`, where:\n",
    "  - `x` is the input image.\n",
    "  - `y` is the target/generated image.\n",
    "  - These two images are concatenated along the channel dimension (`dim=1`).\n",
    "  \n",
    "- It consists of:\n",
    "  1. **An Initial Convolution Layer**:\n",
    "     - Uses a `Conv2d` layer with:\n",
    "       - Input channels: `in_channels * 2` (since both `x` and `y` are concatenated).\n",
    "       - Output channels: `features[0]` (typically `64`).\n",
    "       - Kernel size: `4x4`.\n",
    "       - Stride: `2` (reduces spatial dimensions).\n",
    "       - No Batch Normalization (as in the Pix2Pix paper).\n",
    "       - Activation: `LeakyReLU(0.2)`.\n",
    "  \n",
    "  2. **A Series of CNN Blocks (`CNNBlock`)**:\n",
    "     - Each block consists of:\n",
    "       - A `Conv2d` layer with **Batch Normalization** and **LeakyReLU(0.2)**.\n",
    "       - Stride is `2` for all layers **except** the last one.\n",
    "       - Channels progress as defined in `features=[64, 128, 256, 512]`.\n",
    "  \n",
    "  3. **Final Convolution Layer**:\n",
    "     - A single **`Conv2d`** layer with:\n",
    "       - Output channels = `1` (discriminator outputs a single-channel probability map).\n",
    "       - Kernel size: `4x4`.\n",
    "       - Stride: `1`.\n",
    "       - Padding: `1`.\n",
    "       - No activation function (raw logits output).\n",
    "\n",
    "## Notes\n",
    "\n",
    "- The discriminator **does not output a single value** but rather a **feature map**, where each patch's value represents its real/fake probability.\n",
    "- The `padding_mode=\"reflect\"` is used to **reduce artifacts**."
   ]
  },
  {
   "cell_type": "code",
   "execution_count": 2,
   "id": "2bd15e70-9c23-43c4-b173-d9256cb3b5ae",
   "metadata": {},
   "outputs": [],
   "source": [
    "class CNNBlock(nn.Module):\n",
    "    def __init__(self, in_channels, out_channels, kernel_size=4, stride=2, padding=1):\n",
    "        super().__init__()\n",
    "\n",
    "        self.conv = nn.Sequential(\n",
    "            nn.Conv2d(in_channels, out_channels, kernel_size, stride, padding, bias=False, padding_mode=\"reflect\"),\n",
    "            nn.BatchNorm2d(out_channels),\n",
    "            nn.LeakyReLU(0.2)\n",
    "        )\n",
    "\n",
    "    def forward(self, x):\n",
    "        return self.conv(x)\n",
    "        \n",
    "class Discriminator(nn.Module):\n",
    "    def __init__(self, in_channels=3, features=[64, 128, 256, 512]):\n",
    "        super().__init__()\n",
    "\n",
    "        self.initial = nn.Sequential(\n",
    "            # Channels are doubled because in Pix2Pix model, the discriminator takes (x,y) pair as input\n",
    "            # Initial layer does not perform batch normalization and hence specified separately\n",
    "            nn.Conv2d(in_channels*2, features[0], kernel_size=4, stride=2, padding=1, padding_mode=\"reflect\"),\n",
    "            nn.LeakyReLU(0.2),\n",
    "        )\n",
    "\n",
    "        convolution_layers = []\n",
    "        in_channels = features[0]\n",
    "        \n",
    "        for feature in features[1:]:\n",
    "            convolution_layers.append(\n",
    "                # Stride is 2 except for the last layer\n",
    "                CNNBlock(in_channels, feature, stride=1 if feature == features[-1] else 2),\n",
    "            )\n",
    "            in_channels = feature\n",
    "\n",
    "        convolution_layers.append(\n",
    "            nn.Conv2d(\n",
    "                in_channels, 1, kernel_size=4, stride=1, padding=1, padding_mode=\"reflect\"\n",
    "            )\n",
    "        )\n",
    "        \n",
    "        self.model = nn.Sequential(*convolution_layers)\n",
    "\n",
    "    def forward(self, x, y):\n",
    "        # Concatenate x and y along the channel\n",
    "        x = torch.cat([x,y], dim=1)\n",
    "        x = self.initial(x)\n",
    "        return self.model(x)"
   ]
  },
  {
   "cell_type": "markdown",
   "id": "f0442d46-7033-4f09-b898-aa2feb1f8fc9",
   "metadata": {},
   "source": [
    "# Generator Architecture (UNet-based)\n",
    "\n",
    "The `Generator` class implements a **UNet-based** architecture, commonly used in **Pix2Pix** for image-to-image translation. It follows an **encoder-decoder** structure with **skip connections** to retain spatial information lost during downsampling.\n",
    "\n",
    "## Architecture Overview\n",
    "\n",
    "The generator consists of the following components:\n",
    "\n",
    "1. **Initial Downsampling Block**:\n",
    "   - A `Conv2d` layer with:\n",
    "     - Input channels: `in_channels` (default: `3` for RGB).\n",
    "     - Output channels: `features` (default: `64`).\n",
    "     - Kernel size: `4x4`, stride `2`, padding `1`.\n",
    "     - `LeakyReLU(0.2)` activation.\n",
    "   - No batch normalization is applied in this layer.\n",
    "\n",
    "2. **Series of Encoder Blocks**:\n",
    "   - Each encoder block (`UNetBlock`) performs **downsampling** using:\n",
    "     - A `Conv2d` layer with `stride=2` to reduce spatial dimensions.\n",
    "     - Batch Normalization.\n",
    "     - `LeakyReLU(0.2)` activation.\n",
    "   - Skip connections store intermediate outputs for later use in the decoder.\n",
    "\n",
    "3. **Bottleneck Layer**:\n",
    "   - A `Conv2d` layer with:\n",
    "     - Kernel size: `4x4`, stride `2`, padding `1`.\n",
    "     - `ReLU` activation (no batch normalization).\n",
    "   - A **bottleneck upsampling** block follows, performing:\n",
    "     - Transposed convolution (`ConvTranspose2d`).\n",
    "     - `ReLU` activation.\n",
    "     - **Dropout (`0.5`)** is applied to this layer.\n",
    "\n",
    "4. **Series of Decoder Blocks**:\n",
    "   - Each decoder block (`UNetBlock`) performs **upsampling** using:\n",
    "     - A `ConvTranspose2d` layer with `stride=2` to increase spatial dimensions.\n",
    "     - Batch Normalization.\n",
    "     - `ReLU` activation.\n",
    "     - **Dropout** applied for the first `decoder_dropout_range` layers.\n",
    "   - Decoder blocks take input from both:\n",
    "     - The previous decoder layer.\n",
    "     - The **corresponding encoder output** (via **skip connections**).\n",
    "\n",
    "5. **Final Upsampling Block**:\n",
    "   - A `ConvTranspose2d` layer with:\n",
    "     - Output channels: `in_channels` (matching input size).\n",
    "     - `Tanh` activation to normalize output values between `[-1, 1]`.\n",
    "\n",
    "## Notes\n",
    "\n",
    "- **Skip Connections** help retain high-resolution details lost during downsampling.\n",
    "- The **use of dropout** in certain decoder layers acts as regularization.\n",
    "- The generator **learns a mapping** from input images (`x`) to target images (`y`), making it suitable for **image-to-image translation**."
   ]
  },
  {
   "cell_type": "code",
   "execution_count": 3,
   "id": "27e0503e-e62c-4522-8e9a-bb9dd3131d71",
   "metadata": {},
   "outputs": [],
   "source": [
    "class UNetBlock(nn.Module):\n",
    "    def __init__(self, in_channels, out_channels, down_sample=True, activation=\"relu\", use_dropout=False):\n",
    "        super().__init__()\n",
    "\n",
    "        layers = []\n",
    "        if down_sample:\n",
    "            layers.append(nn.Conv2d(in_channels, out_channels, 4, 2, 1, bias=False, padding_mode=\"reflect\"))\n",
    "        else:\n",
    "            layers.append(nn.ConvTranspose2d(in_channels, out_channels, 4, 2, 1, bias=False))\n",
    "            \n",
    "        layers.append(nn.BatchNorm2d(out_channels))\n",
    "\n",
    "        if activation == \"relu\":\n",
    "            layers.append(nn.ReLU())\n",
    "        else:\n",
    "            layers.append(nn.LeakyReLU(0.2))\n",
    "            \n",
    "        if use_dropout:\n",
    "            layers.append(nn.Dropout(0.5))\n",
    "            \n",
    "        self.conv = nn.Sequential(*layers)\n",
    "\n",
    "    def forward(self, x):\n",
    "        return self.conv(x)\n",
    "        \n",
    "class Generator(nn.Module):\n",
    "    def __init__(self, in_channels=3, features=64, encoder_blocks=[], decoder_blocks=[], decoder_dropout_range=0):\n",
    "        super().__init__()\n",
    "\n",
    "        # Initial downward block with no batch normalization\n",
    "        self.initial = nn.Sequential(\n",
    "            nn.Conv2d(in_channels, features, 4, 2, 1, padding_mode=\"reflect\"),\n",
    "            nn.LeakyReLU(0.2)\n",
    "        )\n",
    "\n",
    "        # Series of downsampling encoders\n",
    "        self.encoders = nn.ModuleList()\n",
    "        for i, o in encoder_blocks:\n",
    "            self.encoders.append(\n",
    "                UNetBlock(features*i, features*o, down_sample=True, activation=\"leaky\", use_dropout=False)\n",
    "            )\n",
    "\n",
    "        # Bottleneck\n",
    "        self.bottleneck = nn.Sequential(\n",
    "            nn.Conv2d(features*8, features*8, 4, 2, 1, bias=False),\n",
    "            nn.ReLU()\n",
    "        )\n",
    "\n",
    "        self.bottleneck_up = nn.Sequential(\n",
    "            UNetBlock(features*8, features*8, down_sample=False, activation=\"relu\", use_dropout=True)\n",
    "        )\n",
    "\n",
    "        # Series of upsampling decoders\n",
    "        self.decoders = nn.ModuleList()\n",
    "        for idx, (i, o) in enumerate(decoder_blocks):\n",
    "            use_dropout = idx < decoder_dropout_range\n",
    "            self.decoders.append(\n",
    "                # Multiplied by two to account for skip connection concatenation\n",
    "                UNetBlock(features*i*2, features*o, down_sample=False, activation=\"relu\", use_dropout=use_dropout)\n",
    "            )\n",
    "\n",
    "        # Instead of one final layer, we create two branches:\n",
    "        # One for generating the nasal image and one for the temporal image.\n",
    "        self.final_nasal = nn.Sequential(\n",
    "            nn.ConvTranspose2d(features*2, in_channels, 4, 2, 1),\n",
    "            nn.Tanh()\n",
    "        )\n",
    "        self.final_temporal = nn.Sequential(\n",
    "            nn.ConvTranspose2d(features*2, in_channels, 4, 2, 1),\n",
    "            nn.Tanh()\n",
    "        )\n",
    "\n",
    "    def forward(self, x):\n",
    "        skip_connections = []\n",
    "        d = self.initial(x)\n",
    "        skip_connections.append(d)\n",
    "\n",
    "        for encoder in self.encoders:\n",
    "            d = encoder(d)\n",
    "            skip_connections.append(d)\n",
    "\n",
    "        bottleneck = self.bottleneck(d)\n",
    "        u = self.bottleneck_up(bottleneck)\n",
    "\n",
    "        # Reverse the skip connections to match encoder-decoder\n",
    "        for decoder, skip_encoder in zip(self.decoders, list(reversed(skip_connections))[:-1]):\n",
    "            u = decoder(torch.cat([u, skip_encoder], dim=1))\n",
    "\n",
    "        # Concatenate top level skip connection with decoder output\n",
    "        features = torch.cat([u, skip_connections[0]], dim=1)\n",
    "        \n",
    "        # Generate the two outputs using separate final layers\n",
    "        nasal_output = self.final_nasal(features)\n",
    "        temporal_output = self.final_temporal(features)\n",
    "\n",
    "        # Connect top level encoder with decoder\n",
    "        return nasal_output, temporal_output"
   ]
  },
  {
   "cell_type": "code",
   "execution_count": 4,
   "id": "0d98b12c-ceb3-4f5b-b02c-8abf13344f8c",
   "metadata": {},
   "outputs": [],
   "source": [
    "class RetinaDataSet(Dataset):\n",
    "    def __init__(self, root_dir):\n",
    "        self.root_dir = root_dir\n",
    "        self.center_dir = root_dir + '/Center'\n",
    "        self.nasal_dir = root_dir + '/Nasal'\n",
    "        self.temporal_dir = root_dir + '/Temporal'\n",
    "        \n",
    "        self.center_file_lists = os.listdir(self.center_dir)\n",
    "        self.nasal_file_lists = os.listdir(self.nasal_dir)\n",
    "        self.temporal_file_lists = os.listdir(self.temporal_dir)\n",
    "        \n",
    "        self.transformer = transforms.ToTensor()\n",
    "\n",
    "    def __len__(self):\n",
    "        return len(self.center_file_lists)\n",
    "\n",
    "    def __getitem__(self, index):\n",
    "        # Load center image\n",
    "        center_img_file = self.center_file_lists[index]\n",
    "        center_img_path = os.path.join(self.center_dir, center_img_file)\n",
    "        center_img = Image.open(center_img_path)\n",
    "        center_img_tensor = self.transformer(center_img)\n",
    "        \n",
    "        # Load nasal image\n",
    "        nasal_img_file = self.nasal_file_lists[index]\n",
    "        nasal_img_path = os.path.join(self.nasal_dir, nasal_img_file)\n",
    "        nasal_img = Image.open(nasal_img_path)\n",
    "        nasal_img_tensor = self.transformer(nasal_img)\n",
    "        \n",
    "        # Load temporal image\n",
    "        temporal_img_file = self.temporal_file_lists[index]\n",
    "        temporal_img_path = os.path.join(self.temporal_dir, temporal_img_file)\n",
    "        temporal_img = Image.open(temporal_img_path)\n",
    "        temporal_img_tensor = self.transformer(temporal_img)\n",
    "    \n",
    "        # Define and apply resize transformation\n",
    "        resize_transform = transforms.Compose([\n",
    "            transforms.Resize((256, 256))\n",
    "        ])\n",
    "        img_center_resized = resize_transform(center_img_tensor)\n",
    "        img_nasal_resized = resize_transform(nasal_img_tensor)\n",
    "        img_temporal_resized = resize_transform(temporal_img_tensor)\n",
    "    \n",
    "        # Return center image as input and both nasal and temporal as targets\n",
    "        return img_center_resized, (img_nasal_resized, img_temporal_resized)"
   ]
  },
  {
   "cell_type": "code",
   "execution_count": 5,
   "id": "b5185665-7bd6-4bd9-a618-187cc093f2e7",
   "metadata": {},
   "outputs": [],
   "source": [
    "def save_some_examples(gen, disc, val_loader, epoch, best_val, l1_lambda, folder):\n",
    "    # Get a single batch from the validation set\n",
    "    # Here, x is the center image and targets is a tuple: (nasal_target, temporal_target)\n",
    "    x, targets = next(iter(val_loader))\n",
    "    x = x.to(device).float()\n",
    "    nasal_target = targets[0].to(device).float()\n",
    "    temporal_target = targets[1].to(device).float()\n",
    "\n",
    "    # Set both generator and discriminator to evaluation mode\n",
    "    gen.eval()\n",
    "    disc.eval()\n",
    "\n",
    "    with torch.no_grad():\n",
    "        # Generate the fake images: nasal and temporal outputs from the same center input\n",
    "        nasal_fake, temporal_fake = gen(x)\n",
    "\n",
    "        # Save images for visual comparison\n",
    "        save_image(nasal_fake, folder + f\"/fake_nasal_{epoch}.png\")\n",
    "        save_image(temporal_fake, folder + f\"/fake_temporal_{epoch}.png\")\n",
    "        save_image(x, folder + f\"/real_center_{epoch}.png\")\n",
    "        save_image(nasal_target, folder + f\"/target_nasal_{epoch}.png\")\n",
    "        save_image(temporal_target, folder + f\"/target_temporal_{epoch}.png\")\n",
    "\n",
    "        # Calculate generator validation loss for the nasal branch\n",
    "        d_nasal_fake = disc(x, nasal_fake)\n",
    "        g_nasal_fake_loss = BCE_loss(d_nasal_fake, torch.ones_like(d_nasal_fake))\n",
    "        l1_nasal = L1_loss(nasal_fake, nasal_target) * l1_lambda\n",
    "\n",
    "        # Calculate generator validation loss for the temporal branch\n",
    "        d_temporal_fake = disc(x, temporal_fake)\n",
    "        g_temporal_fake_loss = BCE_loss(d_temporal_fake, torch.ones_like(d_temporal_fake))\n",
    "        l1_temporal = L1_loss(temporal_fake, temporal_target) * l1_lambda\n",
    "\n",
    "        # Total generator loss is the sum of the losses from both branches\n",
    "        g_loss = g_nasal_fake_loss + l1_nasal + g_temporal_fake_loss + l1_temporal\n",
    "\n",
    "        if g_loss < best_val:\n",
    "            best_val = g_loss\n",
    "            save_checkpoint(disc, disc_opt, filename=\"./SavedModel/c_to_nt/c_to_nt_disc_\" + str(epoch) + \".pth.tar\")\n",
    "            save_checkpoint(gen, gen_opt, filename=\"./SavedModel/c_to_nt/c_to_nt_gen_\" + str(epoch) + \".pth.tar\")\n",
    "        print(f\"Epoch {epoch} Validation Generator Loss: {g_loss.item():.4f}\")\n",
    "\n",
    "    # Switch back to training mode\n",
    "    gen.train()\n",
    "    disc.train()\n",
    "\n",
    "    return best_val, g_loss\n",
    "\n",
    "\n",
    "def save_checkpoint(model, optimizer, filename=\"my_checkpoint.pth.tar\"):\n",
    "    print(\"=> Saving checkpoint\")\n",
    "    checkpoint = {\n",
    "        \"state_dict\": model.state_dict(),\n",
    "        \"optimizer\": optimizer.state_dict(),\n",
    "    }\n",
    "    torch.save(checkpoint, filename)\n",
    "\n",
    "def load_checkpoint(checkpoint_file, model, optimizer, lr, device):\n",
    "    print(\"=> Loading checkpoint\")\n",
    "    checkpoint = torch.load(checkpoint_file, map_location=device)\n",
    "    model.load_state_dict(checkpoint[\"state_dict\"])\n",
    "    optimizer.load_state_dict(checkpoint[\"optimizer\"])\n",
    "\n",
    "    # If we don't do this then it will just have learning rate of old checkpoint\n",
    "    for param_group in optimizer.param_groups:\n",
    "        param_group[\"lr\"] = lr"
   ]
  },
  {
   "cell_type": "code",
   "execution_count": 8,
   "id": "aa6aeb1d-630a-40ba-8882-1b64be7cd130",
   "metadata": {},
   "outputs": [],
   "source": [
    "device = \"cuda\" if torch.cuda.is_available() else \"cpu\"\n",
    "train_file_dir = \"./dataset/retinal/train\"\n",
    "val_file_dir = \"./dataset/retinal/val\"\n",
    "lr = 2e-4\n",
    "batch_size = 16\n",
    "img_size = 256\n",
    "img_channels = 3\n",
    "l1_lambda = 100\n",
    "lambda_gp = 10\n",
    "num_epochs = 6001\n",
    "\n",
    "disc = Discriminator(\n",
    "    in_channels=3,\n",
    "    features=[64, 128, 256, 512]\n",
    ").to(device)\n",
    "gen = Generator(\n",
    "    in_channels=3,\n",
    "    features=64,\n",
    "    encoder_blocks=[(1,2), (2,4), (4,8), (8,8), (8,8), (8,8)],\n",
    "    decoder_blocks=[(8,8), (8,8), (8,8), (8,4), (4,2), (2,1)],\n",
    "    decoder_dropout_range=2\n",
    ").to(device)\n",
    "\n",
    "disc_opt = optim.Adam(disc.parameters(), lr=lr, betas=(0.5, 0.999))\n",
    "gen_opt = optim.Adam(gen.parameters(), lr=lr, betas=(0.5, 0.999))\n",
    "\n",
    "# Wasserstein produced bad result with PatchGAN\n",
    "BCE_loss = nn.BCEWithLogitsLoss()\n",
    "L1_loss = nn.L1Loss()\n",
    "\n",
    "train_dataset = RetinaDataSet(root_dir=train_file_dir)\n",
    "train_loader = DataLoader(train_dataset, batch_size=batch_size, shuffle=True, num_workers=4, pin_memory=True)\n",
    "\n",
    "val_dataset = RetinaDataSet(root_dir=val_file_dir)\n",
    "val_loader = DataLoader(val_dataset, batch_size=1, shuffle=True)\n",
    "torch.cuda.empty_cache()"
   ]
  },
  {
   "cell_type": "code",
   "execution_count": 9,
   "id": "a90f0dd0-ac91-406e-a643-5486fc0d595f",
   "metadata": {},
   "outputs": [
    {
     "name": "stdout",
     "output_type": "stream",
     "text": [
      "=> Loading checkpoint\n",
      "=> Loading checkpoint\n"
     ]
    },
    {
     "name": "stderr",
     "output_type": "stream",
     "text": [
      "100%|███████████████████████████████████████████████████████████████████████████████████| 31/31 [00:17<00:00,  1.81it/s]\n"
     ]
    },
    {
     "name": "stdout",
     "output_type": "stream",
     "text": [
      "=> Saving checkpoint\n",
      "=> Saving checkpoint\n",
      "Epoch 4300 Validation Generator Loss: 12.9079\n",
      "12.907947540283203\n",
      "=> Saving checkpoint\n",
      "=> Saving checkpoint\n"
     ]
    },
    {
     "name": "stderr",
     "output_type": "stream",
     "text": [
      "100%|███████████████████████████████████████████████████████████████████████████████████| 31/31 [00:17<00:00,  1.81it/s]\n",
      "100%|███████████████████████████████████████████████████████████████████████████████████| 31/31 [00:18<00:00,  1.72it/s]\n",
      "100%|███████████████████████████████████████████████████████████████████████████████████| 31/31 [00:18<00:00,  1.66it/s]\n",
      "100%|███████████████████████████████████████████████████████████████████████████████████| 31/31 [00:18<00:00,  1.67it/s]\n",
      "100%|███████████████████████████████████████████████████████████████████████████████████| 31/31 [00:17<00:00,  1.77it/s]\n",
      "100%|███████████████████████████████████████████████████████████████████████████████████| 31/31 [00:17<00:00,  1.74it/s]\n",
      "100%|███████████████████████████████████████████████████████████████████████████████████| 31/31 [00:17<00:00,  1.73it/s]\n",
      "100%|███████████████████████████████████████████████████████████████████████████████████| 31/31 [00:18<00:00,  1.69it/s]\n",
      "100%|███████████████████████████████████████████████████████████████████████████████████| 31/31 [00:17<00:00,  1.74it/s]\n",
      "100%|███████████████████████████████████████████████████████████████████████████████████| 31/31 [00:18<00:00,  1.70it/s]\n"
     ]
    },
    {
     "name": "stdout",
     "output_type": "stream",
     "text": [
      "Epoch 4310 Validation Generator Loss: 17.9765\n",
      "17.976451873779297\n"
     ]
    },
    {
     "name": "stderr",
     "output_type": "stream",
     "text": [
      "100%|███████████████████████████████████████████████████████████████████████████████████| 31/31 [00:19<00:00,  1.59it/s]\n",
      "100%|███████████████████████████████████████████████████████████████████████████████████| 31/31 [00:18<00:00,  1.70it/s]\n",
      "100%|███████████████████████████████████████████████████████████████████████████████████| 31/31 [00:19<00:00,  1.62it/s]\n",
      "100%|███████████████████████████████████████████████████████████████████████████████████| 31/31 [00:19<00:00,  1.55it/s]\n",
      "100%|███████████████████████████████████████████████████████████████████████████████████| 31/31 [00:18<00:00,  1.68it/s]\n",
      "100%|███████████████████████████████████████████████████████████████████████████████████| 31/31 [00:20<00:00,  1.50it/s]\n",
      "100%|███████████████████████████████████████████████████████████████████████████████████| 31/31 [00:17<00:00,  1.75it/s]\n",
      "100%|███████████████████████████████████████████████████████████████████████████████████| 31/31 [00:18<00:00,  1.66it/s]\n",
      "100%|███████████████████████████████████████████████████████████████████████████████████| 31/31 [00:18<00:00,  1.68it/s]\n",
      "100%|███████████████████████████████████████████████████████████████████████████████████| 31/31 [00:18<00:00,  1.72it/s]\n"
     ]
    },
    {
     "name": "stdout",
     "output_type": "stream",
     "text": [
      "Epoch 4320 Validation Generator Loss: 18.5468\n",
      "18.546764373779297\n"
     ]
    },
    {
     "name": "stderr",
     "output_type": "stream",
     "text": [
      "100%|███████████████████████████████████████████████████████████████████████████████████| 31/31 [00:17<00:00,  1.75it/s]\n",
      "100%|███████████████████████████████████████████████████████████████████████████████████| 31/31 [00:17<00:00,  1.76it/s]\n",
      "100%|███████████████████████████████████████████████████████████████████████████████████| 31/31 [00:18<00:00,  1.69it/s]\n",
      "100%|███████████████████████████████████████████████████████████████████████████████████| 31/31 [00:17<00:00,  1.79it/s]\n",
      "100%|███████████████████████████████████████████████████████████████████████████████████| 31/31 [00:17<00:00,  1.75it/s]\n",
      "100%|███████████████████████████████████████████████████████████████████████████████████| 31/31 [00:18<00:00,  1.64it/s]\n",
      "100%|███████████████████████████████████████████████████████████████████████████████████| 31/31 [00:17<00:00,  1.76it/s]\n",
      "100%|███████████████████████████████████████████████████████████████████████████████████| 31/31 [00:17<00:00,  1.75it/s]\n",
      "100%|███████████████████████████████████████████████████████████████████████████████████| 31/31 [00:17<00:00,  1.76it/s]\n",
      "100%|███████████████████████████████████████████████████████████████████████████████████| 31/31 [00:17<00:00,  1.75it/s]\n"
     ]
    },
    {
     "name": "stdout",
     "output_type": "stream",
     "text": [
      "=> Saving checkpoint\n",
      "=> Saving checkpoint\n",
      "Epoch 4330 Validation Generator Loss: 12.2861\n",
      "12.286130905151367\n"
     ]
    },
    {
     "name": "stderr",
     "output_type": "stream",
     "text": [
      "100%|███████████████████████████████████████████████████████████████████████████████████| 31/31 [00:19<00:00,  1.58it/s]\n",
      "100%|███████████████████████████████████████████████████████████████████████████████████| 31/31 [00:18<00:00,  1.65it/s]\n",
      "100%|███████████████████████████████████████████████████████████████████████████████████| 31/31 [00:17<00:00,  1.75it/s]\n",
      "100%|███████████████████████████████████████████████████████████████████████████████████| 31/31 [00:17<00:00,  1.79it/s]\n",
      "100%|███████████████████████████████████████████████████████████████████████████████████| 31/31 [00:17<00:00,  1.75it/s]\n",
      "100%|███████████████████████████████████████████████████████████████████████████████████| 31/31 [00:18<00:00,  1.70it/s]\n",
      "100%|███████████████████████████████████████████████████████████████████████████████████| 31/31 [00:17<00:00,  1.81it/s]\n",
      "100%|███████████████████████████████████████████████████████████████████████████████████| 31/31 [00:18<00:00,  1.64it/s]\n",
      "100%|███████████████████████████████████████████████████████████████████████████████████| 31/31 [00:21<00:00,  1.45it/s]\n",
      "100%|███████████████████████████████████████████████████████████████████████████████████| 31/31 [00:18<00:00,  1.64it/s]\n"
     ]
    },
    {
     "name": "stdout",
     "output_type": "stream",
     "text": [
      "=> Saving checkpoint\n",
      "=> Saving checkpoint\n",
      "Epoch 4340 Validation Generator Loss: 11.1246\n",
      "11.124577522277832\n"
     ]
    },
    {
     "name": "stderr",
     "output_type": "stream",
     "text": [
      "100%|███████████████████████████████████████████████████████████████████████████████████| 31/31 [00:18<00:00,  1.63it/s]\n",
      "100%|███████████████████████████████████████████████████████████████████████████████████| 31/31 [00:17<00:00,  1.82it/s]\n",
      "100%|███████████████████████████████████████████████████████████████████████████████████| 31/31 [00:17<00:00,  1.82it/s]\n",
      "100%|███████████████████████████████████████████████████████████████████████████████████| 31/31 [00:18<00:00,  1.64it/s]\n",
      "100%|███████████████████████████████████████████████████████████████████████████████████| 31/31 [00:19<00:00,  1.61it/s]\n",
      "100%|███████████████████████████████████████████████████████████████████████████████████| 31/31 [00:18<00:00,  1.66it/s]\n",
      "100%|███████████████████████████████████████████████████████████████████████████████████| 31/31 [00:17<00:00,  1.73it/s]\n",
      "100%|███████████████████████████████████████████████████████████████████████████████████| 31/31 [00:18<00:00,  1.67it/s]\n",
      "100%|███████████████████████████████████████████████████████████████████████████████████| 31/31 [00:17<00:00,  1.81it/s]\n",
      "100%|███████████████████████████████████████████████████████████████████████████████████| 31/31 [00:17<00:00,  1.82it/s]\n"
     ]
    },
    {
     "name": "stdout",
     "output_type": "stream",
     "text": [
      "=> Saving checkpoint\n",
      "=> Saving checkpoint\n",
      "Epoch 4350 Validation Generator Loss: 9.6097\n",
      "9.609702110290527\n",
      "=> Saving checkpoint\n",
      "=> Saving checkpoint\n"
     ]
    },
    {
     "name": "stderr",
     "output_type": "stream",
     "text": [
      "100%|███████████████████████████████████████████████████████████████████████████████████| 31/31 [00:17<00:00,  1.80it/s]\n",
      "100%|███████████████████████████████████████████████████████████████████████████████████| 31/31 [00:17<00:00,  1.78it/s]\n",
      "100%|███████████████████████████████████████████████████████████████████████████████████| 31/31 [00:16<00:00,  1.83it/s]\n",
      "100%|███████████████████████████████████████████████████████████████████████████████████| 31/31 [00:17<00:00,  1.82it/s]\n",
      "100%|███████████████████████████████████████████████████████████████████████████████████| 31/31 [00:16<00:00,  1.83it/s]\n",
      "100%|███████████████████████████████████████████████████████████████████████████████████| 31/31 [00:18<00:00,  1.71it/s]\n",
      "100%|███████████████████████████████████████████████████████████████████████████████████| 31/31 [00:16<00:00,  1.86it/s]\n",
      "100%|███████████████████████████████████████████████████████████████████████████████████| 31/31 [00:17<00:00,  1.80it/s]\n",
      "100%|███████████████████████████████████████████████████████████████████████████████████| 31/31 [00:17<00:00,  1.82it/s]\n",
      "100%|███████████████████████████████████████████████████████████████████████████████████| 31/31 [00:16<00:00,  1.83it/s]\n"
     ]
    },
    {
     "name": "stdout",
     "output_type": "stream",
     "text": [
      "Epoch 4360 Validation Generator Loss: 17.3205\n",
      "17.32052230834961\n"
     ]
    },
    {
     "name": "stderr",
     "output_type": "stream",
     "text": [
      "100%|███████████████████████████████████████████████████████████████████████████████████| 31/31 [00:17<00:00,  1.81it/s]\n",
      "100%|███████████████████████████████████████████████████████████████████████████████████| 31/31 [00:16<00:00,  1.88it/s]\n",
      "100%|███████████████████████████████████████████████████████████████████████████████████| 31/31 [00:16<00:00,  1.83it/s]\n",
      "100%|███████████████████████████████████████████████████████████████████████████████████| 31/31 [00:16<00:00,  1.87it/s]\n",
      "100%|███████████████████████████████████████████████████████████████████████████████████| 31/31 [00:17<00:00,  1.82it/s]\n",
      "100%|███████████████████████████████████████████████████████████████████████████████████| 31/31 [00:17<00:00,  1.75it/s]\n",
      "100%|███████████████████████████████████████████████████████████████████████████████████| 31/31 [00:18<00:00,  1.70it/s]\n",
      "100%|███████████████████████████████████████████████████████████████████████████████████| 31/31 [00:16<00:00,  1.92it/s]\n",
      "100%|███████████████████████████████████████████████████████████████████████████████████| 31/31 [00:17<00:00,  1.77it/s]\n",
      "100%|███████████████████████████████████████████████████████████████████████████████████| 31/31 [00:19<00:00,  1.62it/s]\n"
     ]
    },
    {
     "name": "stdout",
     "output_type": "stream",
     "text": [
      "Epoch 4370 Validation Generator Loss: 10.6861\n",
      "10.686064720153809\n"
     ]
    },
    {
     "name": "stderr",
     "output_type": "stream",
     "text": [
      "100%|███████████████████████████████████████████████████████████████████████████████████| 31/31 [00:16<00:00,  1.87it/s]\n",
      "100%|███████████████████████████████████████████████████████████████████████████████████| 31/31 [00:17<00:00,  1.79it/s]\n",
      "100%|███████████████████████████████████████████████████████████████████████████████████| 31/31 [00:16<00:00,  1.85it/s]\n",
      "100%|███████████████████████████████████████████████████████████████████████████████████| 31/31 [00:16<00:00,  1.83it/s]\n",
      "100%|███████████████████████████████████████████████████████████████████████████████████| 31/31 [00:16<00:00,  1.86it/s]\n",
      "100%|███████████████████████████████████████████████████████████████████████████████████| 31/31 [00:17<00:00,  1.82it/s]\n",
      "100%|███████████████████████████████████████████████████████████████████████████████████| 31/31 [00:16<00:00,  1.83it/s]\n",
      "100%|███████████████████████████████████████████████████████████████████████████████████| 31/31 [00:16<00:00,  1.85it/s]\n",
      "100%|███████████████████████████████████████████████████████████████████████████████████| 31/31 [00:17<00:00,  1.82it/s]\n",
      "100%|███████████████████████████████████████████████████████████████████████████████████| 31/31 [00:16<00:00,  1.83it/s]\n"
     ]
    },
    {
     "name": "stdout",
     "output_type": "stream",
     "text": [
      "Epoch 4380 Validation Generator Loss: 18.9823\n",
      "18.982343673706055\n"
     ]
    },
    {
     "name": "stderr",
     "output_type": "stream",
     "text": [
      "100%|███████████████████████████████████████████████████████████████████████████████████| 31/31 [00:16<00:00,  1.83it/s]\n",
      "100%|███████████████████████████████████████████████████████████████████████████████████| 31/31 [00:16<00:00,  1.85it/s]\n",
      "100%|███████████████████████████████████████████████████████████████████████████████████| 31/31 [00:16<00:00,  1.85it/s]\n",
      "100%|███████████████████████████████████████████████████████████████████████████████████| 31/31 [00:17<00:00,  1.80it/s]\n",
      "100%|███████████████████████████████████████████████████████████████████████████████████| 31/31 [00:17<00:00,  1.75it/s]\n",
      "100%|███████████████████████████████████████████████████████████████████████████████████| 31/31 [00:17<00:00,  1.82it/s]\n",
      "100%|███████████████████████████████████████████████████████████████████████████████████| 31/31 [00:16<00:00,  1.83it/s]\n",
      "100%|███████████████████████████████████████████████████████████████████████████████████| 31/31 [00:16<00:00,  1.86it/s]\n",
      "100%|███████████████████████████████████████████████████████████████████████████████████| 31/31 [00:17<00:00,  1.76it/s]\n",
      "100%|███████████████████████████████████████████████████████████████████████████████████| 31/31 [00:16<00:00,  1.83it/s]\n"
     ]
    },
    {
     "name": "stdout",
     "output_type": "stream",
     "text": [
      "Epoch 4390 Validation Generator Loss: 16.9819\n",
      "16.98190689086914\n"
     ]
    },
    {
     "name": "stderr",
     "output_type": "stream",
     "text": [
      "100%|███████████████████████████████████████████████████████████████████████████████████| 31/31 [00:16<00:00,  1.87it/s]\n",
      "100%|███████████████████████████████████████████████████████████████████████████████████| 31/31 [00:17<00:00,  1.80it/s]\n",
      "100%|███████████████████████████████████████████████████████████████████████████████████| 31/31 [00:17<00:00,  1.78it/s]\n",
      "100%|███████████████████████████████████████████████████████████████████████████████████| 31/31 [00:16<00:00,  1.87it/s]\n",
      "100%|███████████████████████████████████████████████████████████████████████████████████| 31/31 [00:17<00:00,  1.78it/s]\n",
      "100%|███████████████████████████████████████████████████████████████████████████████████| 31/31 [00:16<00:00,  1.84it/s]\n",
      "100%|███████████████████████████████████████████████████████████████████████████████████| 31/31 [00:17<00:00,  1.74it/s]\n",
      "100%|███████████████████████████████████████████████████████████████████████████████████| 31/31 [00:16<00:00,  1.86it/s]\n",
      "100%|███████████████████████████████████████████████████████████████████████████████████| 31/31 [00:16<00:00,  1.86it/s]\n",
      "100%|███████████████████████████████████████████████████████████████████████████████████| 31/31 [00:16<00:00,  1.83it/s]\n"
     ]
    },
    {
     "name": "stdout",
     "output_type": "stream",
     "text": [
      "Epoch 4400 Validation Generator Loss: 12.0990\n",
      "12.098970413208008\n",
      "=> Saving checkpoint\n",
      "=> Saving checkpoint\n"
     ]
    },
    {
     "name": "stderr",
     "output_type": "stream",
     "text": [
      "100%|███████████████████████████████████████████████████████████████████████████████████| 31/31 [00:22<00:00,  1.39it/s]\n",
      "100%|███████████████████████████████████████████████████████████████████████████████████| 31/31 [00:18<00:00,  1.70it/s]\n",
      "100%|███████████████████████████████████████████████████████████████████████████████████| 31/31 [00:22<00:00,  1.41it/s]\n",
      "100%|███████████████████████████████████████████████████████████████████████████████████| 31/31 [00:18<00:00,  1.63it/s]\n",
      "100%|███████████████████████████████████████████████████████████████████████████████████| 31/31 [00:18<00:00,  1.71it/s]\n",
      "100%|███████████████████████████████████████████████████████████████████████████████████| 31/31 [00:20<00:00,  1.53it/s]\n",
      "100%|███████████████████████████████████████████████████████████████████████████████████| 31/31 [00:18<00:00,  1.67it/s]\n",
      "100%|███████████████████████████████████████████████████████████████████████████████████| 31/31 [00:18<00:00,  1.68it/s]\n",
      "100%|███████████████████████████████████████████████████████████████████████████████████| 31/31 [00:18<00:00,  1.66it/s]\n",
      "100%|███████████████████████████████████████████████████████████████████████████████████| 31/31 [00:19<00:00,  1.61it/s]\n"
     ]
    },
    {
     "name": "stdout",
     "output_type": "stream",
     "text": [
      "Epoch 4410 Validation Generator Loss: 9.7216\n",
      "9.721601486206055\n"
     ]
    },
    {
     "name": "stderr",
     "output_type": "stream",
     "text": [
      "100%|███████████████████████████████████████████████████████████████████████████████████| 31/31 [00:17<00:00,  1.77it/s]\n",
      "100%|███████████████████████████████████████████████████████████████████████████████████| 31/31 [00:17<00:00,  1.81it/s]\n",
      "100%|███████████████████████████████████████████████████████████████████████████████████| 31/31 [00:16<00:00,  1.83it/s]\n",
      "100%|███████████████████████████████████████████████████████████████████████████████████| 31/31 [00:17<00:00,  1.78it/s]\n",
      "100%|███████████████████████████████████████████████████████████████████████████████████| 31/31 [00:17<00:00,  1.82it/s]\n",
      "100%|███████████████████████████████████████████████████████████████████████████████████| 31/31 [00:17<00:00,  1.79it/s]\n",
      "100%|███████████████████████████████████████████████████████████████████████████████████| 31/31 [00:17<00:00,  1.80it/s]\n",
      "100%|███████████████████████████████████████████████████████████████████████████████████| 31/31 [00:16<00:00,  1.85it/s]\n",
      "100%|███████████████████████████████████████████████████████████████████████████████████| 31/31 [00:17<00:00,  1.76it/s]\n",
      "100%|███████████████████████████████████████████████████████████████████████████████████| 31/31 [00:17<00:00,  1.81it/s]\n"
     ]
    },
    {
     "name": "stdout",
     "output_type": "stream",
     "text": [
      "Epoch 4420 Validation Generator Loss: 16.9621\n",
      "16.962060928344727\n"
     ]
    },
    {
     "name": "stderr",
     "output_type": "stream",
     "text": [
      "100%|███████████████████████████████████████████████████████████████████████████████████| 31/31 [00:17<00:00,  1.81it/s]\n",
      "100%|███████████████████████████████████████████████████████████████████████████████████| 31/31 [00:17<00:00,  1.79it/s]\n",
      "100%|███████████████████████████████████████████████████████████████████████████████████| 31/31 [00:17<00:00,  1.82it/s]\n",
      "100%|███████████████████████████████████████████████████████████████████████████████████| 31/31 [00:16<00:00,  1.84it/s]\n",
      "100%|███████████████████████████████████████████████████████████████████████████████████| 31/31 [00:17<00:00,  1.78it/s]\n",
      "100%|███████████████████████████████████████████████████████████████████████████████████| 31/31 [00:16<00:00,  1.85it/s]\n",
      "100%|███████████████████████████████████████████████████████████████████████████████████| 31/31 [00:17<00:00,  1.82it/s]\n",
      "100%|███████████████████████████████████████████████████████████████████████████████████| 31/31 [00:17<00:00,  1.81it/s]\n",
      "100%|███████████████████████████████████████████████████████████████████████████████████| 31/31 [00:17<00:00,  1.74it/s]\n",
      "100%|███████████████████████████████████████████████████████████████████████████████████| 31/31 [00:17<00:00,  1.79it/s]\n"
     ]
    },
    {
     "name": "stdout",
     "output_type": "stream",
     "text": [
      "Epoch 4430 Validation Generator Loss: 9.6444\n",
      "9.644420623779297\n"
     ]
    },
    {
     "name": "stderr",
     "output_type": "stream",
     "text": [
      "100%|███████████████████████████████████████████████████████████████████████████████████| 31/31 [00:17<00:00,  1.74it/s]\n",
      "100%|███████████████████████████████████████████████████████████████████████████████████| 31/31 [00:17<00:00,  1.80it/s]\n",
      "100%|███████████████████████████████████████████████████████████████████████████████████| 31/31 [00:17<00:00,  1.78it/s]\n",
      "100%|███████████████████████████████████████████████████████████████████████████████████| 31/31 [00:16<00:00,  1.83it/s]\n",
      "100%|███████████████████████████████████████████████████████████████████████████████████| 31/31 [00:17<00:00,  1.82it/s]\n",
      "100%|███████████████████████████████████████████████████████████████████████████████████| 31/31 [00:17<00:00,  1.73it/s]\n",
      "100%|███████████████████████████████████████████████████████████████████████████████████| 31/31 [00:16<00:00,  1.82it/s]\n",
      "100%|███████████████████████████████████████████████████████████████████████████████████| 31/31 [00:18<00:00,  1.67it/s]\n",
      "100%|███████████████████████████████████████████████████████████████████████████████████| 31/31 [00:17<00:00,  1.82it/s]\n",
      "100%|███████████████████████████████████████████████████████████████████████████████████| 31/31 [00:16<00:00,  1.85it/s]\n"
     ]
    },
    {
     "name": "stdout",
     "output_type": "stream",
     "text": [
      "Epoch 4440 Validation Generator Loss: 10.8597\n",
      "10.85970401763916\n"
     ]
    },
    {
     "name": "stderr",
     "output_type": "stream",
     "text": [
      "100%|███████████████████████████████████████████████████████████████████████████████████| 31/31 [00:17<00:00,  1.81it/s]\n",
      "100%|███████████████████████████████████████████████████████████████████████████████████| 31/31 [00:17<00:00,  1.82it/s]\n",
      "100%|███████████████████████████████████████████████████████████████████████████████████| 31/31 [00:16<00:00,  1.84it/s]\n",
      "100%|███████████████████████████████████████████████████████████████████████████████████| 31/31 [00:16<00:00,  1.83it/s]\n",
      "100%|███████████████████████████████████████████████████████████████████████████████████| 31/31 [00:17<00:00,  1.80it/s]\n",
      "100%|███████████████████████████████████████████████████████████████████████████████████| 31/31 [00:17<00:00,  1.81it/s]\n",
      "100%|███████████████████████████████████████████████████████████████████████████████████| 31/31 [00:17<00:00,  1.75it/s]\n",
      "100%|███████████████████████████████████████████████████████████████████████████████████| 31/31 [00:17<00:00,  1.78it/s]\n",
      "100%|███████████████████████████████████████████████████████████████████████████████████| 31/31 [00:16<00:00,  1.85it/s]\n",
      "100%|███████████████████████████████████████████████████████████████████████████████████| 31/31 [00:17<00:00,  1.77it/s]\n"
     ]
    },
    {
     "name": "stdout",
     "output_type": "stream",
     "text": [
      "Epoch 4450 Validation Generator Loss: 21.7164\n",
      "21.716384887695312\n",
      "=> Saving checkpoint\n",
      "=> Saving checkpoint\n"
     ]
    },
    {
     "name": "stderr",
     "output_type": "stream",
     "text": [
      "100%|███████████████████████████████████████████████████████████████████████████████████| 31/31 [00:17<00:00,  1.77it/s]\n",
      "100%|███████████████████████████████████████████████████████████████████████████████████| 31/31 [00:17<00:00,  1.80it/s]\n",
      "100%|███████████████████████████████████████████████████████████████████████████████████| 31/31 [00:17<00:00,  1.78it/s]\n",
      "100%|███████████████████████████████████████████████████████████████████████████████████| 31/31 [00:17<00:00,  1.81it/s]\n",
      "100%|███████████████████████████████████████████████████████████████████████████████████| 31/31 [00:17<00:00,  1.79it/s]\n",
      "100%|███████████████████████████████████████████████████████████████████████████████████| 31/31 [00:17<00:00,  1.80it/s]\n",
      "100%|███████████████████████████████████████████████████████████████████████████████████| 31/31 [00:16<00:00,  1.83it/s]\n",
      "100%|███████████████████████████████████████████████████████████████████████████████████| 31/31 [00:17<00:00,  1.78it/s]\n",
      "100%|███████████████████████████████████████████████████████████████████████████████████| 31/31 [00:17<00:00,  1.82it/s]\n",
      "100%|███████████████████████████████████████████████████████████████████████████████████| 31/31 [00:16<00:00,  1.86it/s]\n"
     ]
    },
    {
     "name": "stdout",
     "output_type": "stream",
     "text": [
      "Epoch 4460 Validation Generator Loss: 12.4476\n",
      "12.447635650634766\n"
     ]
    },
    {
     "name": "stderr",
     "output_type": "stream",
     "text": [
      "100%|███████████████████████████████████████████████████████████████████████████████████| 31/31 [00:17<00:00,  1.79it/s]\n",
      "100%|███████████████████████████████████████████████████████████████████████████████████| 31/31 [00:16<00:00,  1.82it/s]\n",
      "100%|███████████████████████████████████████████████████████████████████████████████████| 31/31 [00:16<00:00,  1.83it/s]\n",
      "100%|███████████████████████████████████████████████████████████████████████████████████| 31/31 [00:16<00:00,  1.87it/s]\n",
      "100%|███████████████████████████████████████████████████████████████████████████████████| 31/31 [00:17<00:00,  1.80it/s]\n",
      "100%|███████████████████████████████████████████████████████████████████████████████████| 31/31 [00:17<00:00,  1.79it/s]\n",
      "100%|███████████████████████████████████████████████████████████████████████████████████| 31/31 [00:16<00:00,  1.86it/s]\n",
      "100%|███████████████████████████████████████████████████████████████████████████████████| 31/31 [00:16<00:00,  1.84it/s]\n",
      "100%|███████████████████████████████████████████████████████████████████████████████████| 31/31 [00:17<00:00,  1.82it/s]\n",
      "100%|███████████████████████████████████████████████████████████████████████████████████| 31/31 [00:17<00:00,  1.77it/s]\n"
     ]
    },
    {
     "name": "stdout",
     "output_type": "stream",
     "text": [
      "Epoch 4470 Validation Generator Loss: 16.4035\n",
      "16.403470993041992\n"
     ]
    },
    {
     "name": "stderr",
     "output_type": "stream",
     "text": [
      "100%|███████████████████████████████████████████████████████████████████████████████████| 31/31 [00:16<00:00,  1.85it/s]\n",
      "100%|███████████████████████████████████████████████████████████████████████████████████| 31/31 [00:16<00:00,  1.86it/s]\n",
      "100%|███████████████████████████████████████████████████████████████████████████████████| 31/31 [00:17<00:00,  1.82it/s]\n",
      "100%|███████████████████████████████████████████████████████████████████████████████████| 31/31 [00:17<00:00,  1.81it/s]\n",
      "100%|███████████████████████████████████████████████████████████████████████████████████| 31/31 [00:16<00:00,  1.83it/s]\n",
      "100%|███████████████████████████████████████████████████████████████████████████████████| 31/31 [00:16<00:00,  1.83it/s]\n",
      "100%|███████████████████████████████████████████████████████████████████████████████████| 31/31 [00:16<00:00,  1.86it/s]\n",
      "100%|███████████████████████████████████████████████████████████████████████████████████| 31/31 [00:17<00:00,  1.81it/s]\n",
      "100%|███████████████████████████████████████████████████████████████████████████████████| 31/31 [00:17<00:00,  1.77it/s]\n",
      "100%|███████████████████████████████████████████████████████████████████████████████████| 31/31 [00:17<00:00,  1.79it/s]\n"
     ]
    },
    {
     "name": "stdout",
     "output_type": "stream",
     "text": [
      "Epoch 4480 Validation Generator Loss: 23.0837\n",
      "23.083709716796875\n"
     ]
    },
    {
     "name": "stderr",
     "output_type": "stream",
     "text": [
      "100%|███████████████████████████████████████████████████████████████████████████████████| 31/31 [00:18<00:00,  1.69it/s]\n",
      "100%|███████████████████████████████████████████████████████████████████████████████████| 31/31 [00:17<00:00,  1.77it/s]\n",
      "100%|███████████████████████████████████████████████████████████████████████████████████| 31/31 [00:16<00:00,  1.83it/s]\n",
      "100%|███████████████████████████████████████████████████████████████████████████████████| 31/31 [00:17<00:00,  1.74it/s]\n",
      "100%|███████████████████████████████████████████████████████████████████████████████████| 31/31 [00:18<00:00,  1.65it/s]\n",
      "100%|███████████████████████████████████████████████████████████████████████████████████| 31/31 [00:18<00:00,  1.68it/s]\n",
      "100%|███████████████████████████████████████████████████████████████████████████████████| 31/31 [00:16<00:00,  1.84it/s]\n",
      "100%|███████████████████████████████████████████████████████████████████████████████████| 31/31 [00:16<00:00,  1.84it/s]\n",
      "100%|███████████████████████████████████████████████████████████████████████████████████| 31/31 [00:16<00:00,  1.83it/s]\n",
      "100%|███████████████████████████████████████████████████████████████████████████████████| 31/31 [00:16<00:00,  1.87it/s]\n"
     ]
    },
    {
     "name": "stdout",
     "output_type": "stream",
     "text": [
      "Epoch 4490 Validation Generator Loss: 13.5520\n",
      "13.552044868469238\n"
     ]
    },
    {
     "name": "stderr",
     "output_type": "stream",
     "text": [
      "100%|███████████████████████████████████████████████████████████████████████████████████| 31/31 [00:17<00:00,  1.82it/s]\n",
      "100%|███████████████████████████████████████████████████████████████████████████████████| 31/31 [00:17<00:00,  1.80it/s]\n",
      "100%|███████████████████████████████████████████████████████████████████████████████████| 31/31 [00:17<00:00,  1.76it/s]\n",
      "100%|███████████████████████████████████████████████████████████████████████████████████| 31/31 [00:17<00:00,  1.78it/s]\n",
      "100%|███████████████████████████████████████████████████████████████████████████████████| 31/31 [00:17<00:00,  1.72it/s]\n",
      "100%|███████████████████████████████████████████████████████████████████████████████████| 31/31 [00:17<00:00,  1.80it/s]\n",
      "100%|███████████████████████████████████████████████████████████████████████████████████| 31/31 [00:18<00:00,  1.71it/s]\n",
      "100%|███████████████████████████████████████████████████████████████████████████████████| 31/31 [00:17<00:00,  1.78it/s]\n",
      "100%|███████████████████████████████████████████████████████████████████████████████████| 31/31 [00:16<00:00,  1.83it/s]\n",
      "100%|███████████████████████████████████████████████████████████████████████████████████| 31/31 [00:17<00:00,  1.78it/s]\n"
     ]
    },
    {
     "name": "stdout",
     "output_type": "stream",
     "text": [
      "Epoch 4500 Validation Generator Loss: 10.6711\n",
      "10.671058654785156\n",
      "=> Saving checkpoint\n",
      "=> Saving checkpoint\n"
     ]
    },
    {
     "name": "stderr",
     "output_type": "stream",
     "text": [
      "100%|███████████████████████████████████████████████████████████████████████████████████| 31/31 [00:17<00:00,  1.73it/s]\n",
      "100%|███████████████████████████████████████████████████████████████████████████████████| 31/31 [00:17<00:00,  1.75it/s]\n",
      "100%|███████████████████████████████████████████████████████████████████████████████████| 31/31 [00:17<00:00,  1.79it/s]\n",
      "100%|███████████████████████████████████████████████████████████████████████████████████| 31/31 [00:17<00:00,  1.77it/s]\n",
      "100%|███████████████████████████████████████████████████████████████████████████████████| 31/31 [00:17<00:00,  1.75it/s]\n",
      "100%|███████████████████████████████████████████████████████████████████████████████████| 31/31 [00:17<00:00,  1.81it/s]\n",
      "100%|███████████████████████████████████████████████████████████████████████████████████| 31/31 [00:16<00:00,  1.84it/s]\n",
      "100%|███████████████████████████████████████████████████████████████████████████████████| 31/31 [00:17<00:00,  1.75it/s]\n",
      "100%|███████████████████████████████████████████████████████████████████████████████████| 31/31 [00:16<00:00,  1.84it/s]\n",
      "100%|███████████████████████████████████████████████████████████████████████████████████| 31/31 [00:16<00:00,  1.85it/s]\n"
     ]
    },
    {
     "name": "stdout",
     "output_type": "stream",
     "text": [
      "Epoch 4510 Validation Generator Loss: 14.6928\n",
      "14.692817687988281\n"
     ]
    },
    {
     "name": "stderr",
     "output_type": "stream",
     "text": [
      "100%|███████████████████████████████████████████████████████████████████████████████████| 31/31 [00:16<00:00,  1.83it/s]\n",
      "100%|███████████████████████████████████████████████████████████████████████████████████| 31/31 [00:17<00:00,  1.81it/s]\n",
      "100%|███████████████████████████████████████████████████████████████████████████████████| 31/31 [00:16<00:00,  1.83it/s]\n",
      "100%|███████████████████████████████████████████████████████████████████████████████████| 31/31 [00:16<00:00,  1.84it/s]\n",
      "100%|███████████████████████████████████████████████████████████████████████████████████| 31/31 [00:16<00:00,  1.84it/s]\n",
      "100%|███████████████████████████████████████████████████████████████████████████████████| 31/31 [00:16<00:00,  1.87it/s]\n",
      "100%|███████████████████████████████████████████████████████████████████████████████████| 31/31 [00:16<00:00,  1.86it/s]\n",
      "100%|███████████████████████████████████████████████████████████████████████████████████| 31/31 [00:17<00:00,  1.78it/s]\n",
      "100%|███████████████████████████████████████████████████████████████████████████████████| 31/31 [00:17<00:00,  1.80it/s]\n",
      "100%|███████████████████████████████████████████████████████████████████████████████████| 31/31 [00:16<00:00,  1.83it/s]\n"
     ]
    },
    {
     "name": "stdout",
     "output_type": "stream",
     "text": [
      "=> Saving checkpoint\n",
      "=> Saving checkpoint\n",
      "Epoch 4520 Validation Generator Loss: 9.1045\n",
      "9.104450225830078\n"
     ]
    },
    {
     "name": "stderr",
     "output_type": "stream",
     "text": [
      "100%|███████████████████████████████████████████████████████████████████████████████████| 31/31 [00:17<00:00,  1.77it/s]\n",
      "100%|███████████████████████████████████████████████████████████████████████████████████| 31/31 [00:17<00:00,  1.76it/s]\n",
      "100%|███████████████████████████████████████████████████████████████████████████████████| 31/31 [00:17<00:00,  1.82it/s]\n",
      "100%|███████████████████████████████████████████████████████████████████████████████████| 31/31 [00:17<00:00,  1.78it/s]\n",
      "100%|███████████████████████████████████████████████████████████████████████████████████| 31/31 [00:16<00:00,  1.84it/s]\n",
      "100%|███████████████████████████████████████████████████████████████████████████████████| 31/31 [00:17<00:00,  1.81it/s]\n",
      "100%|███████████████████████████████████████████████████████████████████████████████████| 31/31 [00:17<00:00,  1.80it/s]\n",
      "100%|███████████████████████████████████████████████████████████████████████████████████| 31/31 [00:17<00:00,  1.78it/s]\n",
      "100%|███████████████████████████████████████████████████████████████████████████████████| 31/31 [00:16<00:00,  1.82it/s]\n",
      "100%|███████████████████████████████████████████████████████████████████████████████████| 31/31 [00:17<00:00,  1.78it/s]\n"
     ]
    },
    {
     "name": "stdout",
     "output_type": "stream",
     "text": [
      "Epoch 4530 Validation Generator Loss: 13.8644\n",
      "13.864392280578613\n"
     ]
    },
    {
     "name": "stderr",
     "output_type": "stream",
     "text": [
      "100%|███████████████████████████████████████████████████████████████████████████████████| 31/31 [00:17<00:00,  1.79it/s]\n",
      "100%|███████████████████████████████████████████████████████████████████████████████████| 31/31 [00:16<00:00,  1.84it/s]\n",
      "100%|███████████████████████████████████████████████████████████████████████████████████| 31/31 [00:17<00:00,  1.79it/s]\n",
      "100%|███████████████████████████████████████████████████████████████████████████████████| 31/31 [00:17<00:00,  1.75it/s]\n",
      "100%|███████████████████████████████████████████████████████████████████████████████████| 31/31 [00:18<00:00,  1.64it/s]\n",
      "100%|███████████████████████████████████████████████████████████████████████████████████| 31/31 [00:17<00:00,  1.74it/s]\n",
      "100%|███████████████████████████████████████████████████████████████████████████████████| 31/31 [00:17<00:00,  1.81it/s]\n",
      "100%|███████████████████████████████████████████████████████████████████████████████████| 31/31 [00:16<00:00,  1.82it/s]\n",
      "100%|███████████████████████████████████████████████████████████████████████████████████| 31/31 [00:17<00:00,  1.78it/s]\n",
      "100%|███████████████████████████████████████████████████████████████████████████████████| 31/31 [00:16<00:00,  1.83it/s]\n"
     ]
    },
    {
     "name": "stdout",
     "output_type": "stream",
     "text": [
      "Epoch 4540 Validation Generator Loss: 17.6576\n",
      "17.657596588134766\n"
     ]
    },
    {
     "name": "stderr",
     "output_type": "stream",
     "text": [
      "100%|███████████████████████████████████████████████████████████████████████████████████| 31/31 [00:19<00:00,  1.63it/s]\n",
      "100%|███████████████████████████████████████████████████████████████████████████████████| 31/31 [00:18<00:00,  1.66it/s]\n",
      "100%|███████████████████████████████████████████████████████████████████████████████████| 31/31 [00:17<00:00,  1.73it/s]\n",
      "100%|███████████████████████████████████████████████████████████████████████████████████| 31/31 [00:18<00:00,  1.64it/s]\n",
      "100%|███████████████████████████████████████████████████████████████████████████████████| 31/31 [00:18<00:00,  1.65it/s]\n",
      "100%|███████████████████████████████████████████████████████████████████████████████████| 31/31 [00:18<00:00,  1.67it/s]\n",
      "100%|███████████████████████████████████████████████████████████████████████████████████| 31/31 [00:17<00:00,  1.73it/s]\n",
      "100%|███████████████████████████████████████████████████████████████████████████████████| 31/31 [00:18<00:00,  1.71it/s]\n",
      "100%|███████████████████████████████████████████████████████████████████████████████████| 31/31 [00:17<00:00,  1.82it/s]\n",
      "100%|███████████████████████████████████████████████████████████████████████████████████| 31/31 [00:17<00:00,  1.82it/s]\n"
     ]
    },
    {
     "name": "stdout",
     "output_type": "stream",
     "text": [
      "Epoch 4550 Validation Generator Loss: 14.2253\n",
      "14.225327491760254\n",
      "=> Saving checkpoint\n",
      "=> Saving checkpoint\n"
     ]
    },
    {
     "name": "stderr",
     "output_type": "stream",
     "text": [
      "100%|███████████████████████████████████████████████████████████████████████████████████| 31/31 [00:17<00:00,  1.80it/s]\n",
      "100%|███████████████████████████████████████████████████████████████████████████████████| 31/31 [00:17<00:00,  1.78it/s]\n",
      "100%|███████████████████████████████████████████████████████████████████████████████████| 31/31 [00:16<00:00,  1.85it/s]\n",
      "100%|███████████████████████████████████████████████████████████████████████████████████| 31/31 [00:17<00:00,  1.79it/s]\n",
      "100%|███████████████████████████████████████████████████████████████████████████████████| 31/31 [00:16<00:00,  1.83it/s]\n",
      "100%|███████████████████████████████████████████████████████████████████████████████████| 31/31 [00:17<00:00,  1.82it/s]\n",
      "100%|███████████████████████████████████████████████████████████████████████████████████| 31/31 [00:16<00:00,  1.85it/s]\n",
      "100%|███████████████████████████████████████████████████████████████████████████████████| 31/31 [00:17<00:00,  1.81it/s]\n",
      "100%|███████████████████████████████████████████████████████████████████████████████████| 31/31 [00:17<00:00,  1.82it/s]\n",
      "100%|███████████████████████████████████████████████████████████████████████████████████| 31/31 [00:16<00:00,  1.85it/s]\n"
     ]
    },
    {
     "name": "stdout",
     "output_type": "stream",
     "text": [
      "Epoch 4560 Validation Generator Loss: 14.1959\n",
      "14.19590950012207\n"
     ]
    },
    {
     "name": "stderr",
     "output_type": "stream",
     "text": [
      "100%|███████████████████████████████████████████████████████████████████████████████████| 31/31 [00:17<00:00,  1.81it/s]\n",
      "100%|███████████████████████████████████████████████████████████████████████████████████| 31/31 [00:16<00:00,  1.83it/s]\n",
      "100%|███████████████████████████████████████████████████████████████████████████████████| 31/31 [00:16<00:00,  1.83it/s]\n",
      "100%|███████████████████████████████████████████████████████████████████████████████████| 31/31 [00:16<00:00,  1.84it/s]\n",
      "100%|███████████████████████████████████████████████████████████████████████████████████| 31/31 [00:16<00:00,  1.83it/s]\n",
      "100%|███████████████████████████████████████████████████████████████████████████████████| 31/31 [00:16<00:00,  1.85it/s]\n",
      "100%|███████████████████████████████████████████████████████████████████████████████████| 31/31 [00:16<00:00,  1.88it/s]\n",
      "100%|███████████████████████████████████████████████████████████████████████████████████| 31/31 [00:16<00:00,  1.87it/s]\n",
      "100%|███████████████████████████████████████████████████████████████████████████████████| 31/31 [00:17<00:00,  1.82it/s]\n",
      "100%|███████████████████████████████████████████████████████████████████████████████████| 31/31 [00:16<00:00,  1.83it/s]\n"
     ]
    },
    {
     "name": "stdout",
     "output_type": "stream",
     "text": [
      "Epoch 4570 Validation Generator Loss: 13.8757\n",
      "13.875663757324219\n"
     ]
    },
    {
     "name": "stderr",
     "output_type": "stream",
     "text": [
      "100%|███████████████████████████████████████████████████████████████████████████████████| 31/31 [00:16<00:00,  1.87it/s]\n",
      "100%|███████████████████████████████████████████████████████████████████████████████████| 31/31 [00:16<00:00,  1.85it/s]\n",
      "100%|███████████████████████████████████████████████████████████████████████████████████| 31/31 [00:16<00:00,  1.87it/s]\n",
      "100%|███████████████████████████████████████████████████████████████████████████████████| 31/31 [00:16<00:00,  1.88it/s]\n",
      "100%|███████████████████████████████████████████████████████████████████████████████████| 31/31 [00:16<00:00,  1.86it/s]\n",
      "100%|███████████████████████████████████████████████████████████████████████████████████| 31/31 [00:16<00:00,  1.87it/s]\n",
      "100%|███████████████████████████████████████████████████████████████████████████████████| 31/31 [00:17<00:00,  1.80it/s]\n",
      "100%|███████████████████████████████████████████████████████████████████████████████████| 31/31 [00:17<00:00,  1.81it/s]\n",
      "100%|███████████████████████████████████████████████████████████████████████████████████| 31/31 [00:17<00:00,  1.80it/s]\n",
      "100%|███████████████████████████████████████████████████████████████████████████████████| 31/31 [00:17<00:00,  1.77it/s]\n"
     ]
    },
    {
     "name": "stdout",
     "output_type": "stream",
     "text": [
      "Epoch 4580 Validation Generator Loss: 22.5255\n",
      "22.525463104248047\n"
     ]
    },
    {
     "name": "stderr",
     "output_type": "stream",
     "text": [
      "100%|███████████████████████████████████████████████████████████████████████████████████| 31/31 [00:18<00:00,  1.72it/s]\n",
      "100%|███████████████████████████████████████████████████████████████████████████████████| 31/31 [00:17<00:00,  1.80it/s]\n",
      "100%|███████████████████████████████████████████████████████████████████████████████████| 31/31 [00:17<00:00,  1.76it/s]\n",
      "100%|███████████████████████████████████████████████████████████████████████████████████| 31/31 [00:17<00:00,  1.78it/s]\n",
      "100%|███████████████████████████████████████████████████████████████████████████████████| 31/31 [00:16<00:00,  1.88it/s]\n",
      "100%|███████████████████████████████████████████████████████████████████████████████████| 31/31 [00:17<00:00,  1.81it/s]\n",
      "100%|███████████████████████████████████████████████████████████████████████████████████| 31/31 [00:16<00:00,  1.86it/s]\n",
      "100%|███████████████████████████████████████████████████████████████████████████████████| 31/31 [00:17<00:00,  1.75it/s]\n",
      "100%|███████████████████████████████████████████████████████████████████████████████████| 31/31 [00:17<00:00,  1.75it/s]\n",
      "100%|███████████████████████████████████████████████████████████████████████████████████| 31/31 [00:17<00:00,  1.81it/s]\n"
     ]
    },
    {
     "name": "stdout",
     "output_type": "stream",
     "text": [
      "Epoch 4590 Validation Generator Loss: 11.6339\n",
      "11.633895874023438\n"
     ]
    },
    {
     "name": "stderr",
     "output_type": "stream",
     "text": [
      "100%|███████████████████████████████████████████████████████████████████████████████████| 31/31 [00:16<00:00,  1.87it/s]\n",
      "100%|███████████████████████████████████████████████████████████████████████████████████| 31/31 [00:17<00:00,  1.78it/s]\n",
      "100%|███████████████████████████████████████████████████████████████████████████████████| 31/31 [00:16<00:00,  1.87it/s]\n",
      "100%|███████████████████████████████████████████████████████████████████████████████████| 31/31 [00:17<00:00,  1.80it/s]\n",
      "100%|███████████████████████████████████████████████████████████████████████████████████| 31/31 [00:17<00:00,  1.82it/s]\n",
      "100%|███████████████████████████████████████████████████████████████████████████████████| 31/31 [00:16<00:00,  1.87it/s]\n",
      "100%|███████████████████████████████████████████████████████████████████████████████████| 31/31 [00:16<00:00,  1.84it/s]\n",
      "100%|███████████████████████████████████████████████████████████████████████████████████| 31/31 [00:17<00:00,  1.81it/s]\n",
      "100%|███████████████████████████████████████████████████████████████████████████████████| 31/31 [00:16<00:00,  1.86it/s]\n",
      "100%|███████████████████████████████████████████████████████████████████████████████████| 31/31 [00:17<00:00,  1.82it/s]\n"
     ]
    },
    {
     "name": "stdout",
     "output_type": "stream",
     "text": [
      "Epoch 4600 Validation Generator Loss: 16.3651\n",
      "16.365116119384766\n",
      "=> Saving checkpoint\n",
      "=> Saving checkpoint\n"
     ]
    },
    {
     "name": "stderr",
     "output_type": "stream",
     "text": [
      "100%|███████████████████████████████████████████████████████████████████████████████████| 31/31 [00:16<00:00,  1.85it/s]\n",
      "100%|███████████████████████████████████████████████████████████████████████████████████| 31/31 [00:17<00:00,  1.77it/s]\n",
      "100%|███████████████████████████████████████████████████████████████████████████████████| 31/31 [00:16<00:00,  1.89it/s]\n",
      "100%|███████████████████████████████████████████████████████████████████████████████████| 31/31 [00:17<00:00,  1.76it/s]\n",
      "100%|███████████████████████████████████████████████████████████████████████████████████| 31/31 [00:16<00:00,  1.83it/s]\n",
      "100%|███████████████████████████████████████████████████████████████████████████████████| 31/31 [00:17<00:00,  1.81it/s]\n",
      "100%|███████████████████████████████████████████████████████████████████████████████████| 31/31 [00:17<00:00,  1.77it/s]\n",
      "100%|███████████████████████████████████████████████████████████████████████████████████| 31/31 [00:16<00:00,  1.85it/s]\n",
      "100%|███████████████████████████████████████████████████████████████████████████████████| 31/31 [00:16<00:00,  1.85it/s]\n",
      "100%|███████████████████████████████████████████████████████████████████████████████████| 31/31 [00:17<00:00,  1.82it/s]\n"
     ]
    },
    {
     "name": "stdout",
     "output_type": "stream",
     "text": [
      "Epoch 4610 Validation Generator Loss: 14.6763\n",
      "14.676251411437988\n"
     ]
    },
    {
     "name": "stderr",
     "output_type": "stream",
     "text": [
      "100%|███████████████████████████████████████████████████████████████████████████████████| 31/31 [00:17<00:00,  1.77it/s]\n",
      "100%|███████████████████████████████████████████████████████████████████████████████████| 31/31 [00:17<00:00,  1.76it/s]\n",
      "100%|███████████████████████████████████████████████████████████████████████████████████| 31/31 [00:18<00:00,  1.67it/s]\n",
      "100%|███████████████████████████████████████████████████████████████████████████████████| 31/31 [00:17<00:00,  1.76it/s]\n",
      "100%|███████████████████████████████████████████████████████████████████████████████████| 31/31 [00:17<00:00,  1.74it/s]\n",
      "100%|███████████████████████████████████████████████████████████████████████████████████| 31/31 [00:17<00:00,  1.79it/s]\n",
      "100%|███████████████████████████████████████████████████████████████████████████████████| 31/31 [00:17<00:00,  1.81it/s]\n",
      "100%|███████████████████████████████████████████████████████████████████████████████████| 31/31 [00:17<00:00,  1.78it/s]\n",
      "100%|███████████████████████████████████████████████████████████████████████████████████| 31/31 [00:17<00:00,  1.77it/s]\n",
      "100%|███████████████████████████████████████████████████████████████████████████████████| 31/31 [00:17<00:00,  1.74it/s]\n"
     ]
    },
    {
     "name": "stdout",
     "output_type": "stream",
     "text": [
      "Epoch 4620 Validation Generator Loss: 25.5263\n",
      "25.526290893554688\n"
     ]
    },
    {
     "name": "stderr",
     "output_type": "stream",
     "text": [
      "100%|███████████████████████████████████████████████████████████████████████████████████| 31/31 [00:17<00:00,  1.76it/s]\n",
      "100%|███████████████████████████████████████████████████████████████████████████████████| 31/31 [00:17<00:00,  1.81it/s]\n",
      "100%|███████████████████████████████████████████████████████████████████████████████████| 31/31 [00:17<00:00,  1.76it/s]\n",
      "100%|███████████████████████████████████████████████████████████████████████████████████| 31/31 [00:17<00:00,  1.80it/s]\n",
      "100%|███████████████████████████████████████████████████████████████████████████████████| 31/31 [00:17<00:00,  1.77it/s]\n",
      "100%|███████████████████████████████████████████████████████████████████████████████████| 31/31 [00:17<00:00,  1.79it/s]\n",
      "100%|███████████████████████████████████████████████████████████████████████████████████| 31/31 [00:17<00:00,  1.75it/s]\n",
      "100%|███████████████████████████████████████████████████████████████████████████████████| 31/31 [00:17<00:00,  1.74it/s]\n",
      "100%|███████████████████████████████████████████████████████████████████████████████████| 31/31 [00:17<00:00,  1.77it/s]\n",
      "100%|███████████████████████████████████████████████████████████████████████████████████| 31/31 [00:17<00:00,  1.76it/s]\n"
     ]
    },
    {
     "name": "stdout",
     "output_type": "stream",
     "text": [
      "Epoch 4630 Validation Generator Loss: 11.1770\n",
      "11.177009582519531\n"
     ]
    },
    {
     "name": "stderr",
     "output_type": "stream",
     "text": [
      "100%|███████████████████████████████████████████████████████████████████████████████████| 31/31 [00:18<00:00,  1.71it/s]\n",
      "100%|███████████████████████████████████████████████████████████████████████████████████| 31/31 [00:17<00:00,  1.81it/s]\n",
      "100%|███████████████████████████████████████████████████████████████████████████████████| 31/31 [00:17<00:00,  1.81it/s]\n",
      "100%|███████████████████████████████████████████████████████████████████████████████████| 31/31 [00:17<00:00,  1.81it/s]\n",
      "100%|███████████████████████████████████████████████████████████████████████████████████| 31/31 [00:17<00:00,  1.74it/s]\n",
      "100%|███████████████████████████████████████████████████████████████████████████████████| 31/31 [00:17<00:00,  1.75it/s]\n",
      "100%|███████████████████████████████████████████████████████████████████████████████████| 31/31 [00:18<00:00,  1.68it/s]\n",
      "100%|███████████████████████████████████████████████████████████████████████████████████| 31/31 [00:17<00:00,  1.80it/s]\n",
      "100%|███████████████████████████████████████████████████████████████████████████████████| 31/31 [00:18<00:00,  1.71it/s]\n",
      "100%|███████████████████████████████████████████████████████████████████████████████████| 31/31 [00:18<00:00,  1.66it/s]\n"
     ]
    },
    {
     "name": "stdout",
     "output_type": "stream",
     "text": [
      "Epoch 4640 Validation Generator Loss: 14.6405\n",
      "14.640522003173828\n"
     ]
    },
    {
     "name": "stderr",
     "output_type": "stream",
     "text": [
      "100%|███████████████████████████████████████████████████████████████████████████████████| 31/31 [00:19<00:00,  1.58it/s]\n",
      "100%|███████████████████████████████████████████████████████████████████████████████████| 31/31 [00:17<00:00,  1.78it/s]\n",
      "100%|███████████████████████████████████████████████████████████████████████████████████| 31/31 [00:17<00:00,  1.79it/s]\n",
      "100%|███████████████████████████████████████████████████████████████████████████████████| 31/31 [00:17<00:00,  1.79it/s]\n",
      "100%|███████████████████████████████████████████████████████████████████████████████████| 31/31 [00:17<00:00,  1.78it/s]\n",
      "100%|███████████████████████████████████████████████████████████████████████████████████| 31/31 [00:17<00:00,  1.76it/s]\n",
      "100%|███████████████████████████████████████████████████████████████████████████████████| 31/31 [00:17<00:00,  1.76it/s]\n",
      "100%|███████████████████████████████████████████████████████████████████████████████████| 31/31 [00:17<00:00,  1.77it/s]\n",
      "100%|███████████████████████████████████████████████████████████████████████████████████| 31/31 [00:17<00:00,  1.79it/s]\n",
      "100%|███████████████████████████████████████████████████████████████████████████████████| 31/31 [00:16<00:00,  1.83it/s]\n"
     ]
    },
    {
     "name": "stdout",
     "output_type": "stream",
     "text": [
      "Epoch 4650 Validation Generator Loss: 14.4708\n",
      "14.470771789550781\n",
      "=> Saving checkpoint\n",
      "=> Saving checkpoint\n"
     ]
    },
    {
     "name": "stderr",
     "output_type": "stream",
     "text": [
      "100%|███████████████████████████████████████████████████████████████████████████████████| 31/31 [00:17<00:00,  1.76it/s]\n",
      "100%|███████████████████████████████████████████████████████████████████████████████████| 31/31 [00:17<00:00,  1.82it/s]\n",
      "100%|███████████████████████████████████████████████████████████████████████████████████| 31/31 [00:17<00:00,  1.80it/s]\n",
      "100%|███████████████████████████████████████████████████████████████████████████████████| 31/31 [00:17<00:00,  1.77it/s]\n",
      "100%|███████████████████████████████████████████████████████████████████████████████████| 31/31 [00:17<00:00,  1.78it/s]\n",
      "100%|███████████████████████████████████████████████████████████████████████████████████| 31/31 [00:17<00:00,  1.73it/s]\n",
      "100%|███████████████████████████████████████████████████████████████████████████████████| 31/31 [00:18<00:00,  1.71it/s]\n",
      "100%|███████████████████████████████████████████████████████████████████████████████████| 31/31 [00:17<00:00,  1.77it/s]\n",
      "100%|███████████████████████████████████████████████████████████████████████████████████| 31/31 [00:17<00:00,  1.79it/s]\n",
      "100%|███████████████████████████████████████████████████████████████████████████████████| 31/31 [00:17<00:00,  1.79it/s]\n"
     ]
    },
    {
     "name": "stdout",
     "output_type": "stream",
     "text": [
      "Epoch 4660 Validation Generator Loss: 12.6631\n",
      "12.663121223449707\n"
     ]
    },
    {
     "name": "stderr",
     "output_type": "stream",
     "text": [
      "100%|███████████████████████████████████████████████████████████████████████████████████| 31/31 [00:17<00:00,  1.82it/s]\n",
      "100%|███████████████████████████████████████████████████████████████████████████████████| 31/31 [00:17<00:00,  1.78it/s]\n",
      "100%|███████████████████████████████████████████████████████████████████████████████████| 31/31 [00:17<00:00,  1.77it/s]\n",
      "100%|███████████████████████████████████████████████████████████████████████████████████| 31/31 [00:18<00:00,  1.72it/s]\n",
      "100%|███████████████████████████████████████████████████████████████████████████████████| 31/31 [00:17<00:00,  1.73it/s]\n",
      "100%|███████████████████████████████████████████████████████████████████████████████████| 31/31 [00:17<00:00,  1.76it/s]\n",
      "100%|███████████████████████████████████████████████████████████████████████████████████| 31/31 [00:18<00:00,  1.71it/s]\n",
      "100%|███████████████████████████████████████████████████████████████████████████████████| 31/31 [00:17<00:00,  1.77it/s]\n",
      "100%|███████████████████████████████████████████████████████████████████████████████████| 31/31 [00:19<00:00,  1.63it/s]\n",
      "100%|███████████████████████████████████████████████████████████████████████████████████| 31/31 [00:18<00:00,  1.64it/s]\n"
     ]
    },
    {
     "name": "stdout",
     "output_type": "stream",
     "text": [
      "Epoch 4670 Validation Generator Loss: 14.4394\n",
      "14.43937873840332\n"
     ]
    },
    {
     "name": "stderr",
     "output_type": "stream",
     "text": [
      "100%|███████████████████████████████████████████████████████████████████████████████████| 31/31 [00:17<00:00,  1.76it/s]\n",
      "100%|███████████████████████████████████████████████████████████████████████████████████| 31/31 [00:17<00:00,  1.75it/s]\n",
      "100%|███████████████████████████████████████████████████████████████████████████████████| 31/31 [00:18<00:00,  1.71it/s]\n",
      "100%|███████████████████████████████████████████████████████████████████████████████████| 31/31 [00:18<00:00,  1.71it/s]\n",
      "100%|███████████████████████████████████████████████████████████████████████████████████| 31/31 [00:17<00:00,  1.74it/s]\n",
      "100%|███████████████████████████████████████████████████████████████████████████████████| 31/31 [00:17<00:00,  1.74it/s]\n",
      "100%|███████████████████████████████████████████████████████████████████████████████████| 31/31 [00:17<00:00,  1.81it/s]\n",
      "100%|███████████████████████████████████████████████████████████████████████████████████| 31/31 [00:17<00:00,  1.82it/s]\n",
      "100%|███████████████████████████████████████████████████████████████████████████████████| 31/31 [00:16<00:00,  1.84it/s]\n",
      "100%|███████████████████████████████████████████████████████████████████████████████████| 31/31 [00:18<00:00,  1.64it/s]\n"
     ]
    },
    {
     "name": "stdout",
     "output_type": "stream",
     "text": [
      "Epoch 4680 Validation Generator Loss: 20.1943\n",
      "20.194255828857422\n"
     ]
    },
    {
     "name": "stderr",
     "output_type": "stream",
     "text": [
      "100%|███████████████████████████████████████████████████████████████████████████████████| 31/31 [00:19<00:00,  1.62it/s]\n",
      "100%|███████████████████████████████████████████████████████████████████████████████████| 31/31 [00:17<00:00,  1.74it/s]\n",
      "100%|███████████████████████████████████████████████████████████████████████████████████| 31/31 [00:17<00:00,  1.73it/s]\n",
      "100%|███████████████████████████████████████████████████████████████████████████████████| 31/31 [00:17<00:00,  1.72it/s]\n",
      "100%|███████████████████████████████████████████████████████████████████████████████████| 31/31 [00:17<00:00,  1.81it/s]\n",
      "100%|███████████████████████████████████████████████████████████████████████████████████| 31/31 [00:17<00:00,  1.77it/s]\n",
      "100%|███████████████████████████████████████████████████████████████████████████████████| 31/31 [00:18<00:00,  1.64it/s]\n",
      "100%|███████████████████████████████████████████████████████████████████████████████████| 31/31 [00:18<00:00,  1.72it/s]\n",
      "100%|███████████████████████████████████████████████████████████████████████████████████| 31/31 [00:17<00:00,  1.81it/s]\n",
      "100%|███████████████████████████████████████████████████████████████████████████████████| 31/31 [00:17<00:00,  1.77it/s]\n"
     ]
    },
    {
     "name": "stdout",
     "output_type": "stream",
     "text": [
      "Epoch 4690 Validation Generator Loss: 12.7935\n",
      "12.793481826782227\n"
     ]
    },
    {
     "name": "stderr",
     "output_type": "stream",
     "text": [
      "100%|███████████████████████████████████████████████████████████████████████████████████| 31/31 [00:17<00:00,  1.79it/s]\n",
      "100%|███████████████████████████████████████████████████████████████████████████████████| 31/31 [00:16<00:00,  1.84it/s]\n",
      "100%|███████████████████████████████████████████████████████████████████████████████████| 31/31 [00:17<00:00,  1.79it/s]\n",
      "100%|███████████████████████████████████████████████████████████████████████████████████| 31/31 [00:16<00:00,  1.85it/s]\n",
      "100%|███████████████████████████████████████████████████████████████████████████████████| 31/31 [00:16<00:00,  1.84it/s]\n",
      "100%|███████████████████████████████████████████████████████████████████████████████████| 31/31 [00:16<00:00,  1.84it/s]\n",
      "100%|███████████████████████████████████████████████████████████████████████████████████| 31/31 [00:17<00:00,  1.82it/s]\n",
      "100%|███████████████████████████████████████████████████████████████████████████████████| 31/31 [00:16<00:00,  1.83it/s]\n",
      "100%|███████████████████████████████████████████████████████████████████████████████████| 31/31 [00:17<00:00,  1.81it/s]\n",
      "100%|███████████████████████████████████████████████████████████████████████████████████| 31/31 [00:16<00:00,  1.85it/s]\n"
     ]
    },
    {
     "name": "stdout",
     "output_type": "stream",
     "text": [
      "Epoch 4700 Validation Generator Loss: 11.8356\n",
      "11.835575103759766\n",
      "=> Saving checkpoint\n",
      "=> Saving checkpoint\n"
     ]
    },
    {
     "name": "stderr",
     "output_type": "stream",
     "text": [
      "100%|███████████████████████████████████████████████████████████████████████████████████| 31/31 [00:17<00:00,  1.79it/s]\n",
      "100%|███████████████████████████████████████████████████████████████████████████████████| 31/31 [00:18<00:00,  1.70it/s]\n",
      "100%|███████████████████████████████████████████████████████████████████████████████████| 31/31 [00:18<00:00,  1.70it/s]\n",
      "100%|███████████████████████████████████████████████████████████████████████████████████| 31/31 [00:19<00:00,  1.58it/s]\n",
      "100%|███████████████████████████████████████████████████████████████████████████████████| 31/31 [00:21<00:00,  1.47it/s]\n",
      "100%|███████████████████████████████████████████████████████████████████████████████████| 31/31 [00:19<00:00,  1.60it/s]\n",
      "100%|███████████████████████████████████████████████████████████████████████████████████| 31/31 [00:19<00:00,  1.57it/s]\n",
      "100%|███████████████████████████████████████████████████████████████████████████████████| 31/31 [00:19<00:00,  1.62it/s]\n",
      "100%|███████████████████████████████████████████████████████████████████████████████████| 31/31 [00:18<00:00,  1.72it/s]\n",
      "100%|███████████████████████████████████████████████████████████████████████████████████| 31/31 [00:18<00:00,  1.67it/s]\n"
     ]
    },
    {
     "name": "stdout",
     "output_type": "stream",
     "text": [
      "Epoch 4710 Validation Generator Loss: 17.0475\n",
      "17.047489166259766\n"
     ]
    },
    {
     "name": "stderr",
     "output_type": "stream",
     "text": [
      "100%|███████████████████████████████████████████████████████████████████████████████████| 31/31 [00:18<00:00,  1.68it/s]\n",
      "100%|███████████████████████████████████████████████████████████████████████████████████| 31/31 [00:17<00:00,  1.73it/s]\n",
      "100%|███████████████████████████████████████████████████████████████████████████████████| 31/31 [00:17<00:00,  1.74it/s]\n",
      "100%|███████████████████████████████████████████████████████████████████████████████████| 31/31 [00:18<00:00,  1.69it/s]\n",
      "100%|███████████████████████████████████████████████████████████████████████████████████| 31/31 [00:19<00:00,  1.62it/s]\n",
      "100%|███████████████████████████████████████████████████████████████████████████████████| 31/31 [00:19<00:00,  1.56it/s]\n",
      "100%|███████████████████████████████████████████████████████████████████████████████████| 31/31 [00:18<00:00,  1.69it/s]\n",
      "100%|███████████████████████████████████████████████████████████████████████████████████| 31/31 [00:18<00:00,  1.68it/s]\n",
      "100%|███████████████████████████████████████████████████████████████████████████████████| 31/31 [00:18<00:00,  1.71it/s]\n",
      "100%|███████████████████████████████████████████████████████████████████████████████████| 31/31 [00:18<00:00,  1.65it/s]\n"
     ]
    },
    {
     "name": "stdout",
     "output_type": "stream",
     "text": [
      "Epoch 4720 Validation Generator Loss: 27.1923\n",
      "27.192340850830078\n"
     ]
    },
    {
     "name": "stderr",
     "output_type": "stream",
     "text": [
      "100%|███████████████████████████████████████████████████████████████████████████████████| 31/31 [00:18<00:00,  1.66it/s]\n",
      "100%|███████████████████████████████████████████████████████████████████████████████████| 31/31 [00:18<00:00,  1.70it/s]\n",
      "100%|███████████████████████████████████████████████████████████████████████████████████| 31/31 [00:18<00:00,  1.69it/s]\n",
      "100%|███████████████████████████████████████████████████████████████████████████████████| 31/31 [00:17<00:00,  1.72it/s]\n",
      "100%|███████████████████████████████████████████████████████████████████████████████████| 31/31 [00:18<00:00,  1.70it/s]\n",
      "100%|███████████████████████████████████████████████████████████████████████████████████| 31/31 [00:18<00:00,  1.71it/s]\n",
      "100%|███████████████████████████████████████████████████████████████████████████████████| 31/31 [00:18<00:00,  1.69it/s]\n",
      "100%|███████████████████████████████████████████████████████████████████████████████████| 31/31 [00:18<00:00,  1.68it/s]\n",
      "100%|███████████████████████████████████████████████████████████████████████████████████| 31/31 [00:18<00:00,  1.69it/s]\n",
      "100%|███████████████████████████████████████████████████████████████████████████████████| 31/31 [00:18<00:00,  1.69it/s]\n"
     ]
    },
    {
     "name": "stdout",
     "output_type": "stream",
     "text": [
      "Epoch 4730 Validation Generator Loss: 13.7873\n",
      "13.787275314331055\n"
     ]
    },
    {
     "name": "stderr",
     "output_type": "stream",
     "text": [
      "100%|███████████████████████████████████████████████████████████████████████████████████| 31/31 [00:18<00:00,  1.66it/s]\n",
      "100%|███████████████████████████████████████████████████████████████████████████████████| 31/31 [00:19<00:00,  1.61it/s]\n",
      "100%|███████████████████████████████████████████████████████████████████████████████████| 31/31 [00:18<00:00,  1.67it/s]\n",
      "100%|███████████████████████████████████████████████████████████████████████████████████| 31/31 [00:18<00:00,  1.72it/s]\n",
      "100%|███████████████████████████████████████████████████████████████████████████████████| 31/31 [00:18<00:00,  1.65it/s]\n",
      "100%|███████████████████████████████████████████████████████████████████████████████████| 31/31 [00:18<00:00,  1.67it/s]\n",
      "100%|███████████████████████████████████████████████████████████████████████████████████| 31/31 [00:17<00:00,  1.73it/s]\n",
      "100%|███████████████████████████████████████████████████████████████████████████████████| 31/31 [00:18<00:00,  1.63it/s]\n",
      "100%|███████████████████████████████████████████████████████████████████████████████████| 31/31 [00:17<00:00,  1.73it/s]\n",
      "100%|███████████████████████████████████████████████████████████████████████████████████| 31/31 [00:17<00:00,  1.78it/s]\n"
     ]
    },
    {
     "name": "stdout",
     "output_type": "stream",
     "text": [
      "Epoch 4740 Validation Generator Loss: 18.2267\n",
      "18.226696014404297\n"
     ]
    },
    {
     "name": "stderr",
     "output_type": "stream",
     "text": [
      "100%|███████████████████████████████████████████████████████████████████████████████████| 31/31 [00:17<00:00,  1.79it/s]\n",
      "100%|███████████████████████████████████████████████████████████████████████████████████| 31/31 [00:17<00:00,  1.79it/s]\n",
      "100%|███████████████████████████████████████████████████████████████████████████████████| 31/31 [00:17<00:00,  1.73it/s]\n",
      "100%|███████████████████████████████████████████████████████████████████████████████████| 31/31 [00:17<00:00,  1.77it/s]\n",
      "100%|███████████████████████████████████████████████████████████████████████████████████| 31/31 [00:17<00:00,  1.78it/s]\n",
      "100%|███████████████████████████████████████████████████████████████████████████████████| 31/31 [00:17<00:00,  1.77it/s]\n",
      "100%|███████████████████████████████████████████████████████████████████████████████████| 31/31 [00:18<00:00,  1.69it/s]\n",
      "100%|███████████████████████████████████████████████████████████████████████████████████| 31/31 [00:18<00:00,  1.71it/s]\n",
      "100%|███████████████████████████████████████████████████████████████████████████████████| 31/31 [00:17<00:00,  1.75it/s]\n",
      "100%|███████████████████████████████████████████████████████████████████████████████████| 31/31 [00:17<00:00,  1.79it/s]\n"
     ]
    },
    {
     "name": "stdout",
     "output_type": "stream",
     "text": [
      "Epoch 4750 Validation Generator Loss: 12.7470\n",
      "12.746983528137207\n",
      "=> Saving checkpoint\n",
      "=> Saving checkpoint\n"
     ]
    },
    {
     "name": "stderr",
     "output_type": "stream",
     "text": [
      "100%|███████████████████████████████████████████████████████████████████████████████████| 31/31 [00:17<00:00,  1.79it/s]\n",
      "100%|███████████████████████████████████████████████████████████████████████████████████| 31/31 [00:18<00:00,  1.71it/s]\n",
      "100%|███████████████████████████████████████████████████████████████████████████████████| 31/31 [00:19<00:00,  1.58it/s]\n",
      "100%|███████████████████████████████████████████████████████████████████████████████████| 31/31 [00:17<00:00,  1.77it/s]\n",
      "100%|███████████████████████████████████████████████████████████████████████████████████| 31/31 [00:18<00:00,  1.72it/s]\n",
      "100%|███████████████████████████████████████████████████████████████████████████████████| 31/31 [00:18<00:00,  1.71it/s]\n",
      "100%|███████████████████████████████████████████████████████████████████████████████████| 31/31 [00:17<00:00,  1.75it/s]\n",
      "100%|███████████████████████████████████████████████████████████████████████████████████| 31/31 [00:16<00:00,  1.84it/s]\n",
      "100%|███████████████████████████████████████████████████████████████████████████████████| 31/31 [00:17<00:00,  1.80it/s]\n",
      "100%|███████████████████████████████████████████████████████████████████████████████████| 31/31 [00:16<00:00,  1.83it/s]\n"
     ]
    },
    {
     "name": "stdout",
     "output_type": "stream",
     "text": [
      "Epoch 4760 Validation Generator Loss: 9.9390\n",
      "9.939029693603516\n"
     ]
    },
    {
     "name": "stderr",
     "output_type": "stream",
     "text": [
      "100%|███████████████████████████████████████████████████████████████████████████████████| 31/31 [00:17<00:00,  1.79it/s]\n",
      "100%|███████████████████████████████████████████████████████████████████████████████████| 31/31 [00:17<00:00,  1.82it/s]\n",
      "100%|███████████████████████████████████████████████████████████████████████████████████| 31/31 [00:18<00:00,  1.70it/s]\n",
      "100%|███████████████████████████████████████████████████████████████████████████████████| 31/31 [00:17<00:00,  1.79it/s]\n",
      "100%|███████████████████████████████████████████████████████████████████████████████████| 31/31 [00:16<00:00,  1.83it/s]\n",
      "100%|███████████████████████████████████████████████████████████████████████████████████| 31/31 [00:17<00:00,  1.79it/s]\n",
      "100%|███████████████████████████████████████████████████████████████████████████████████| 31/31 [00:16<00:00,  1.83it/s]\n",
      "100%|███████████████████████████████████████████████████████████████████████████████████| 31/31 [00:17<00:00,  1.77it/s]\n",
      "100%|███████████████████████████████████████████████████████████████████████████████████| 31/31 [00:17<00:00,  1.73it/s]\n",
      "100%|███████████████████████████████████████████████████████████████████████████████████| 31/31 [00:17<00:00,  1.78it/s]\n"
     ]
    },
    {
     "name": "stdout",
     "output_type": "stream",
     "text": [
      "Epoch 4770 Validation Generator Loss: 21.8241\n",
      "21.824085235595703\n"
     ]
    },
    {
     "name": "stderr",
     "output_type": "stream",
     "text": [
      "100%|███████████████████████████████████████████████████████████████████████████████████| 31/31 [00:17<00:00,  1.73it/s]\n",
      "100%|███████████████████████████████████████████████████████████████████████████████████| 31/31 [00:18<00:00,  1.69it/s]\n",
      "100%|███████████████████████████████████████████████████████████████████████████████████| 31/31 [00:18<00:00,  1.70it/s]\n",
      "100%|███████████████████████████████████████████████████████████████████████████████████| 31/31 [00:17<00:00,  1.78it/s]\n",
      "100%|███████████████████████████████████████████████████████████████████████████████████| 31/31 [00:17<00:00,  1.79it/s]\n",
      "100%|███████████████████████████████████████████████████████████████████████████████████| 31/31 [00:17<00:00,  1.79it/s]\n",
      "100%|███████████████████████████████████████████████████████████████████████████████████| 31/31 [00:17<00:00,  1.78it/s]\n",
      "100%|███████████████████████████████████████████████████████████████████████████████████| 31/31 [00:17<00:00,  1.77it/s]\n",
      "100%|███████████████████████████████████████████████████████████████████████████████████| 31/31 [00:17<00:00,  1.78it/s]\n",
      "100%|███████████████████████████████████████████████████████████████████████████████████| 31/31 [00:17<00:00,  1.81it/s]\n"
     ]
    },
    {
     "name": "stdout",
     "output_type": "stream",
     "text": [
      "Epoch 4780 Validation Generator Loss: 12.0203\n",
      "12.020320892333984\n"
     ]
    },
    {
     "name": "stderr",
     "output_type": "stream",
     "text": [
      "100%|███████████████████████████████████████████████████████████████████████████████████| 31/31 [00:17<00:00,  1.78it/s]\n",
      "100%|███████████████████████████████████████████████████████████████████████████████████| 31/31 [00:16<00:00,  1.85it/s]\n",
      "100%|███████████████████████████████████████████████████████████████████████████████████| 31/31 [00:16<00:00,  1.82it/s]\n",
      "100%|███████████████████████████████████████████████████████████████████████████████████| 31/31 [00:17<00:00,  1.80it/s]\n",
      "100%|███████████████████████████████████████████████████████████████████████████████████| 31/31 [00:17<00:00,  1.77it/s]\n",
      "100%|███████████████████████████████████████████████████████████████████████████████████| 31/31 [00:17<00:00,  1.78it/s]\n",
      "100%|███████████████████████████████████████████████████████████████████████████████████| 31/31 [00:17<00:00,  1.79it/s]\n",
      "100%|███████████████████████████████████████████████████████████████████████████████████| 31/31 [00:17<00:00,  1.78it/s]\n",
      "100%|███████████████████████████████████████████████████████████████████████████████████| 31/31 [00:17<00:00,  1.80it/s]\n",
      "100%|███████████████████████████████████████████████████████████████████████████████████| 31/31 [00:17<00:00,  1.80it/s]\n"
     ]
    },
    {
     "name": "stdout",
     "output_type": "stream",
     "text": [
      "Epoch 4790 Validation Generator Loss: 17.9614\n",
      "17.96141815185547\n"
     ]
    },
    {
     "name": "stderr",
     "output_type": "stream",
     "text": [
      "100%|███████████████████████████████████████████████████████████████████████████████████| 31/31 [00:17<00:00,  1.74it/s]\n",
      "100%|███████████████████████████████████████████████████████████████████████████████████| 31/31 [00:17<00:00,  1.80it/s]\n",
      "100%|███████████████████████████████████████████████████████████████████████████████████| 31/31 [00:17<00:00,  1.78it/s]\n",
      "100%|███████████████████████████████████████████████████████████████████████████████████| 31/31 [00:17<00:00,  1.81it/s]\n",
      "100%|███████████████████████████████████████████████████████████████████████████████████| 31/31 [00:17<00:00,  1.81it/s]\n",
      "100%|███████████████████████████████████████████████████████████████████████████████████| 31/31 [00:16<00:00,  1.83it/s]\n",
      "100%|███████████████████████████████████████████████████████████████████████████████████| 31/31 [00:16<00:00,  1.84it/s]\n",
      "100%|███████████████████████████████████████████████████████████████████████████████████| 31/31 [00:16<00:00,  1.82it/s]\n",
      "100%|███████████████████████████████████████████████████████████████████████████████████| 31/31 [00:17<00:00,  1.82it/s]\n",
      "100%|███████████████████████████████████████████████████████████████████████████████████| 31/31 [00:17<00:00,  1.79it/s]\n"
     ]
    },
    {
     "name": "stdout",
     "output_type": "stream",
     "text": [
      "Epoch 4800 Validation Generator Loss: 13.7562\n",
      "13.756153106689453\n",
      "=> Saving checkpoint\n",
      "=> Saving checkpoint\n"
     ]
    },
    {
     "name": "stderr",
     "output_type": "stream",
     "text": [
      "100%|███████████████████████████████████████████████████████████████████████████████████| 31/31 [00:17<00:00,  1.81it/s]\n",
      "100%|███████████████████████████████████████████████████████████████████████████████████| 31/31 [00:17<00:00,  1.81it/s]\n",
      "100%|███████████████████████████████████████████████████████████████████████████████████| 31/31 [00:18<00:00,  1.71it/s]\n",
      "100%|███████████████████████████████████████████████████████████████████████████████████| 31/31 [00:17<00:00,  1.76it/s]\n",
      "100%|███████████████████████████████████████████████████████████████████████████████████| 31/31 [00:17<00:00,  1.75it/s]\n",
      "100%|███████████████████████████████████████████████████████████████████████████████████| 31/31 [00:19<00:00,  1.55it/s]\n",
      "100%|███████████████████████████████████████████████████████████████████████████████████| 31/31 [00:16<00:00,  1.84it/s]\n",
      "100%|███████████████████████████████████████████████████████████████████████████████████| 31/31 [00:16<00:00,  1.83it/s]\n",
      "100%|███████████████████████████████████████████████████████████████████████████████████| 31/31 [00:17<00:00,  1.82it/s]\n",
      "100%|███████████████████████████████████████████████████████████████████████████████████| 31/31 [00:16<00:00,  1.83it/s]\n"
     ]
    },
    {
     "name": "stdout",
     "output_type": "stream",
     "text": [
      "Epoch 4810 Validation Generator Loss: 26.2764\n",
      "26.276445388793945\n"
     ]
    },
    {
     "name": "stderr",
     "output_type": "stream",
     "text": [
      "100%|███████████████████████████████████████████████████████████████████████████████████| 31/31 [00:16<00:00,  1.82it/s]\n",
      "100%|███████████████████████████████████████████████████████████████████████████████████| 31/31 [00:17<00:00,  1.79it/s]\n",
      "100%|███████████████████████████████████████████████████████████████████████████████████| 31/31 [00:17<00:00,  1.81it/s]\n",
      "100%|███████████████████████████████████████████████████████████████████████████████████| 31/31 [00:17<00:00,  1.79it/s]\n",
      "100%|███████████████████████████████████████████████████████████████████████████████████| 31/31 [00:17<00:00,  1.77it/s]\n",
      "100%|███████████████████████████████████████████████████████████████████████████████████| 31/31 [00:16<00:00,  1.83it/s]\n",
      "100%|███████████████████████████████████████████████████████████████████████████████████| 31/31 [00:17<00:00,  1.82it/s]\n",
      "100%|███████████████████████████████████████████████████████████████████████████████████| 31/31 [00:17<00:00,  1.80it/s]\n",
      "100%|███████████████████████████████████████████████████████████████████████████████████| 31/31 [00:17<00:00,  1.76it/s]\n",
      "100%|███████████████████████████████████████████████████████████████████████████████████| 31/31 [00:17<00:00,  1.75it/s]\n"
     ]
    },
    {
     "name": "stdout",
     "output_type": "stream",
     "text": [
      "Epoch 4820 Validation Generator Loss: 17.9413\n",
      "17.94127082824707\n"
     ]
    },
    {
     "name": "stderr",
     "output_type": "stream",
     "text": [
      "100%|███████████████████████████████████████████████████████████████████████████████████| 31/31 [00:18<00:00,  1.72it/s]\n",
      "100%|███████████████████████████████████████████████████████████████████████████████████| 31/31 [00:17<00:00,  1.77it/s]\n",
      "100%|███████████████████████████████████████████████████████████████████████████████████| 31/31 [00:17<00:00,  1.77it/s]\n",
      "100%|███████████████████████████████████████████████████████████████████████████████████| 31/31 [00:17<00:00,  1.79it/s]\n",
      "100%|███████████████████████████████████████████████████████████████████████████████████| 31/31 [00:17<00:00,  1.75it/s]\n",
      "100%|███████████████████████████████████████████████████████████████████████████████████| 31/31 [00:17<00:00,  1.77it/s]\n",
      "100%|███████████████████████████████████████████████████████████████████████████████████| 31/31 [00:17<00:00,  1.78it/s]\n",
      "100%|███████████████████████████████████████████████████████████████████████████████████| 31/31 [00:17<00:00,  1.76it/s]\n",
      "100%|███████████████████████████████████████████████████████████████████████████████████| 31/31 [00:17<00:00,  1.74it/s]\n",
      "100%|███████████████████████████████████████████████████████████████████████████████████| 31/31 [00:19<00:00,  1.62it/s]\n"
     ]
    },
    {
     "name": "stdout",
     "output_type": "stream",
     "text": [
      "Epoch 4830 Validation Generator Loss: 13.3820\n",
      "13.38200569152832\n"
     ]
    },
    {
     "name": "stderr",
     "output_type": "stream",
     "text": [
      "100%|███████████████████████████████████████████████████████████████████████████████████| 31/31 [00:18<00:00,  1.71it/s]\n",
      "100%|███████████████████████████████████████████████████████████████████████████████████| 31/31 [00:17<00:00,  1.80it/s]\n",
      "100%|███████████████████████████████████████████████████████████████████████████████████| 31/31 [00:17<00:00,  1.81it/s]\n",
      "100%|███████████████████████████████████████████████████████████████████████████████████| 31/31 [00:17<00:00,  1.80it/s]\n",
      "100%|███████████████████████████████████████████████████████████████████████████████████| 31/31 [00:17<00:00,  1.81it/s]\n",
      "100%|███████████████████████████████████████████████████████████████████████████████████| 31/31 [00:16<00:00,  1.83it/s]\n",
      "100%|███████████████████████████████████████████████████████████████████████████████████| 31/31 [00:17<00:00,  1.76it/s]\n",
      "100%|███████████████████████████████████████████████████████████████████████████████████| 31/31 [00:16<00:00,  1.83it/s]\n",
      "100%|███████████████████████████████████████████████████████████████████████████████████| 31/31 [00:17<00:00,  1.81it/s]\n",
      "100%|███████████████████████████████████████████████████████████████████████████████████| 31/31 [00:17<00:00,  1.81it/s]\n"
     ]
    },
    {
     "name": "stdout",
     "output_type": "stream",
     "text": [
      "Epoch 4840 Validation Generator Loss: 22.2581\n",
      "22.258136749267578\n"
     ]
    },
    {
     "name": "stderr",
     "output_type": "stream",
     "text": [
      "100%|███████████████████████████████████████████████████████████████████████████████████| 31/31 [00:16<00:00,  1.84it/s]\n",
      "100%|███████████████████████████████████████████████████████████████████████████████████| 31/31 [00:16<00:00,  1.84it/s]\n",
      "100%|███████████████████████████████████████████████████████████████████████████████████| 31/31 [00:16<00:00,  1.83it/s]\n",
      "100%|███████████████████████████████████████████████████████████████████████████████████| 31/31 [00:17<00:00,  1.81it/s]\n",
      "100%|███████████████████████████████████████████████████████████████████████████████████| 31/31 [00:16<00:00,  1.85it/s]\n",
      "100%|███████████████████████████████████████████████████████████████████████████████████| 31/31 [00:17<00:00,  1.81it/s]\n",
      "100%|███████████████████████████████████████████████████████████████████████████████████| 31/31 [00:16<00:00,  1.84it/s]\n",
      "100%|███████████████████████████████████████████████████████████████████████████████████| 31/31 [00:16<00:00,  1.83it/s]\n",
      "100%|███████████████████████████████████████████████████████████████████████████████████| 31/31 [00:16<00:00,  1.83it/s]\n",
      "100%|███████████████████████████████████████████████████████████████████████████████████| 31/31 [00:17<00:00,  1.79it/s]\n"
     ]
    },
    {
     "name": "stdout",
     "output_type": "stream",
     "text": [
      "Epoch 4850 Validation Generator Loss: 11.3019\n",
      "11.301898956298828\n",
      "=> Saving checkpoint\n",
      "=> Saving checkpoint\n"
     ]
    },
    {
     "name": "stderr",
     "output_type": "stream",
     "text": [
      "100%|███████████████████████████████████████████████████████████████████████████████████| 31/31 [00:16<00:00,  1.83it/s]\n",
      "100%|███████████████████████████████████████████████████████████████████████████████████| 31/31 [00:17<00:00,  1.82it/s]\n",
      "100%|███████████████████████████████████████████████████████████████████████████████████| 31/31 [00:17<00:00,  1.82it/s]\n",
      "100%|███████████████████████████████████████████████████████████████████████████████████| 31/31 [00:17<00:00,  1.76it/s]\n",
      "100%|███████████████████████████████████████████████████████████████████████████████████| 31/31 [00:16<00:00,  1.83it/s]\n",
      "100%|███████████████████████████████████████████████████████████████████████████████████| 31/31 [00:17<00:00,  1.82it/s]\n",
      "100%|███████████████████████████████████████████████████████████████████████████████████| 31/31 [00:16<00:00,  1.83it/s]\n",
      "100%|███████████████████████████████████████████████████████████████████████████████████| 31/31 [00:16<00:00,  1.83it/s]\n",
      "100%|███████████████████████████████████████████████████████████████████████████████████| 31/31 [00:16<00:00,  1.84it/s]\n",
      "100%|███████████████████████████████████████████████████████████████████████████████████| 31/31 [00:17<00:00,  1.81it/s]\n"
     ]
    },
    {
     "name": "stdout",
     "output_type": "stream",
     "text": [
      "Epoch 4860 Validation Generator Loss: 18.1834\n",
      "18.183414459228516\n"
     ]
    },
    {
     "name": "stderr",
     "output_type": "stream",
     "text": [
      "100%|███████████████████████████████████████████████████████████████████████████████████| 31/31 [00:17<00:00,  1.77it/s]\n",
      "100%|███████████████████████████████████████████████████████████████████████████████████| 31/31 [00:17<00:00,  1.82it/s]\n",
      "100%|███████████████████████████████████████████████████████████████████████████████████| 31/31 [00:17<00:00,  1.82it/s]\n",
      "100%|███████████████████████████████████████████████████████████████████████████████████| 31/31 [00:16<00:00,  1.85it/s]\n",
      "100%|███████████████████████████████████████████████████████████████████████████████████| 31/31 [00:17<00:00,  1.82it/s]\n",
      "100%|███████████████████████████████████████████████████████████████████████████████████| 31/31 [00:17<00:00,  1.81it/s]\n",
      "100%|███████████████████████████████████████████████████████████████████████████████████| 31/31 [00:16<00:00,  1.85it/s]\n",
      "100%|███████████████████████████████████████████████████████████████████████████████████| 31/31 [00:16<00:00,  1.82it/s]\n",
      "100%|███████████████████████████████████████████████████████████████████████████████████| 31/31 [00:16<00:00,  1.83it/s]\n",
      "100%|███████████████████████████████████████████████████████████████████████████████████| 31/31 [00:17<00:00,  1.81it/s]\n"
     ]
    },
    {
     "name": "stdout",
     "output_type": "stream",
     "text": [
      "Epoch 4870 Validation Generator Loss: 14.1610\n",
      "14.160974502563477\n"
     ]
    },
    {
     "name": "stderr",
     "output_type": "stream",
     "text": [
      "100%|███████████████████████████████████████████████████████████████████████████████████| 31/31 [00:17<00:00,  1.82it/s]\n",
      "100%|███████████████████████████████████████████████████████████████████████████████████| 31/31 [00:17<00:00,  1.82it/s]\n",
      "100%|███████████████████████████████████████████████████████████████████████████████████| 31/31 [00:16<00:00,  1.88it/s]\n",
      "100%|███████████████████████████████████████████████████████████████████████████████████| 31/31 [00:16<00:00,  1.84it/s]\n",
      "100%|███████████████████████████████████████████████████████████████████████████████████| 31/31 [00:17<00:00,  1.81it/s]\n",
      "100%|███████████████████████████████████████████████████████████████████████████████████| 31/31 [00:16<00:00,  1.85it/s]\n",
      "100%|███████████████████████████████████████████████████████████████████████████████████| 31/31 [00:16<00:00,  1.84it/s]\n",
      "100%|███████████████████████████████████████████████████████████████████████████████████| 31/31 [00:17<00:00,  1.80it/s]\n",
      "100%|███████████████████████████████████████████████████████████████████████████████████| 31/31 [00:17<00:00,  1.80it/s]\n",
      "100%|███████████████████████████████████████████████████████████████████████████████████| 31/31 [00:16<00:00,  1.87it/s]\n"
     ]
    },
    {
     "name": "stdout",
     "output_type": "stream",
     "text": [
      "Epoch 4880 Validation Generator Loss: 17.0816\n",
      "17.081573486328125\n"
     ]
    },
    {
     "name": "stderr",
     "output_type": "stream",
     "text": [
      "100%|███████████████████████████████████████████████████████████████████████████████████| 31/31 [00:16<00:00,  1.84it/s]\n",
      "100%|███████████████████████████████████████████████████████████████████████████████████| 31/31 [00:16<00:00,  1.86it/s]\n",
      "100%|███████████████████████████████████████████████████████████████████████████████████| 31/31 [00:16<00:00,  1.84it/s]\n",
      "100%|███████████████████████████████████████████████████████████████████████████████████| 31/31 [00:16<00:00,  1.84it/s]\n",
      "100%|███████████████████████████████████████████████████████████████████████████████████| 31/31 [00:16<00:00,  1.84it/s]\n",
      "100%|███████████████████████████████████████████████████████████████████████████████████| 31/31 [00:17<00:00,  1.81it/s]\n",
      "100%|███████████████████████████████████████████████████████████████████████████████████| 31/31 [00:16<00:00,  1.83it/s]\n",
      "100%|███████████████████████████████████████████████████████████████████████████████████| 31/31 [00:16<00:00,  1.85it/s]\n",
      "100%|███████████████████████████████████████████████████████████████████████████████████| 31/31 [00:17<00:00,  1.79it/s]\n",
      "100%|███████████████████████████████████████████████████████████████████████████████████| 31/31 [00:16<00:00,  1.84it/s]\n"
     ]
    },
    {
     "name": "stdout",
     "output_type": "stream",
     "text": [
      "Epoch 4890 Validation Generator Loss: 13.8445\n",
      "13.844507217407227\n"
     ]
    },
    {
     "name": "stderr",
     "output_type": "stream",
     "text": [
      "100%|███████████████████████████████████████████████████████████████████████████████████| 31/31 [00:16<00:00,  1.84it/s]\n",
      "100%|███████████████████████████████████████████████████████████████████████████████████| 31/31 [00:16<00:00,  1.83it/s]\n",
      "100%|███████████████████████████████████████████████████████████████████████████████████| 31/31 [00:16<00:00,  1.87it/s]\n",
      "100%|███████████████████████████████████████████████████████████████████████████████████| 31/31 [00:16<00:00,  1.85it/s]\n",
      "100%|███████████████████████████████████████████████████████████████████████████████████| 31/31 [00:17<00:00,  1.79it/s]\n",
      "100%|███████████████████████████████████████████████████████████████████████████████████| 31/31 [00:17<00:00,  1.78it/s]\n",
      "100%|███████████████████████████████████████████████████████████████████████████████████| 31/31 [00:16<00:00,  1.84it/s]\n",
      "100%|███████████████████████████████████████████████████████████████████████████████████| 31/31 [00:16<00:00,  1.84it/s]\n",
      "100%|███████████████████████████████████████████████████████████████████████████████████| 31/31 [00:16<00:00,  1.83it/s]\n",
      "100%|███████████████████████████████████████████████████████████████████████████████████| 31/31 [00:16<00:00,  1.83it/s]\n"
     ]
    },
    {
     "name": "stdout",
     "output_type": "stream",
     "text": [
      "Epoch 4900 Validation Generator Loss: 16.8336\n",
      "16.833616256713867\n",
      "=> Saving checkpoint\n",
      "=> Saving checkpoint\n"
     ]
    },
    {
     "name": "stderr",
     "output_type": "stream",
     "text": [
      "100%|███████████████████████████████████████████████████████████████████████████████████| 31/31 [00:16<00:00,  1.84it/s]\n",
      "100%|███████████████████████████████████████████████████████████████████████████████████| 31/31 [00:17<00:00,  1.80it/s]\n",
      "100%|███████████████████████████████████████████████████████████████████████████████████| 31/31 [00:16<00:00,  1.83it/s]\n",
      "100%|███████████████████████████████████████████████████████████████████████████████████| 31/31 [00:16<00:00,  1.82it/s]\n",
      "100%|███████████████████████████████████████████████████████████████████████████████████| 31/31 [00:16<00:00,  1.84it/s]\n",
      "100%|███████████████████████████████████████████████████████████████████████████████████| 31/31 [00:16<00:00,  1.82it/s]\n",
      "100%|███████████████████████████████████████████████████████████████████████████████████| 31/31 [00:16<00:00,  1.86it/s]\n",
      "100%|███████████████████████████████████████████████████████████████████████████████████| 31/31 [00:16<00:00,  1.84it/s]\n",
      "100%|███████████████████████████████████████████████████████████████████████████████████| 31/31 [00:16<00:00,  1.86it/s]\n",
      "100%|███████████████████████████████████████████████████████████████████████████████████| 31/31 [00:17<00:00,  1.82it/s]\n"
     ]
    },
    {
     "name": "stdout",
     "output_type": "stream",
     "text": [
      "Epoch 4910 Validation Generator Loss: 18.7269\n",
      "18.726890563964844\n"
     ]
    },
    {
     "name": "stderr",
     "output_type": "stream",
     "text": [
      "100%|███████████████████████████████████████████████████████████████████████████████████| 31/31 [00:16<00:00,  1.83it/s]\n",
      "100%|███████████████████████████████████████████████████████████████████████████████████| 31/31 [00:16<00:00,  1.85it/s]\n",
      "100%|███████████████████████████████████████████████████████████████████████████████████| 31/31 [00:17<00:00,  1.79it/s]\n",
      "100%|███████████████████████████████████████████████████████████████████████████████████| 31/31 [00:17<00:00,  1.76it/s]\n",
      "100%|███████████████████████████████████████████████████████████████████████████████████| 31/31 [00:17<00:00,  1.76it/s]\n",
      "100%|███████████████████████████████████████████████████████████████████████████████████| 31/31 [00:18<00:00,  1.69it/s]\n",
      "100%|███████████████████████████████████████████████████████████████████████████████████| 31/31 [00:17<00:00,  1.78it/s]\n",
      "100%|███████████████████████████████████████████████████████████████████████████████████| 31/31 [00:16<00:00,  1.87it/s]\n",
      "100%|███████████████████████████████████████████████████████████████████████████████████| 31/31 [00:16<00:00,  1.85it/s]\n",
      "100%|███████████████████████████████████████████████████████████████████████████████████| 31/31 [00:17<00:00,  1.78it/s]\n"
     ]
    },
    {
     "name": "stdout",
     "output_type": "stream",
     "text": [
      "Epoch 4920 Validation Generator Loss: 24.0717\n",
      "24.071739196777344\n"
     ]
    },
    {
     "name": "stderr",
     "output_type": "stream",
     "text": [
      "100%|███████████████████████████████████████████████████████████████████████████████████| 31/31 [00:17<00:00,  1.78it/s]\n",
      "100%|███████████████████████████████████████████████████████████████████████████████████| 31/31 [00:17<00:00,  1.77it/s]\n",
      "100%|███████████████████████████████████████████████████████████████████████████████████| 31/31 [00:17<00:00,  1.82it/s]\n",
      "100%|███████████████████████████████████████████████████████████████████████████████████| 31/31 [00:17<00:00,  1.80it/s]\n",
      "100%|███████████████████████████████████████████████████████████████████████████████████| 31/31 [00:17<00:00,  1.81it/s]\n",
      "100%|███████████████████████████████████████████████████████████████████████████████████| 31/31 [00:16<00:00,  1.84it/s]\n",
      "100%|███████████████████████████████████████████████████████████████████████████████████| 31/31 [00:17<00:00,  1.80it/s]\n",
      "100%|███████████████████████████████████████████████████████████████████████████████████| 31/31 [00:17<00:00,  1.82it/s]\n",
      "100%|███████████████████████████████████████████████████████████████████████████████████| 31/31 [00:16<00:00,  1.85it/s]\n",
      "100%|███████████████████████████████████████████████████████████████████████████████████| 31/31 [00:17<00:00,  1.80it/s]\n"
     ]
    },
    {
     "name": "stdout",
     "output_type": "stream",
     "text": [
      "Epoch 4930 Validation Generator Loss: 21.7129\n",
      "21.712888717651367\n"
     ]
    },
    {
     "name": "stderr",
     "output_type": "stream",
     "text": [
      "100%|███████████████████████████████████████████████████████████████████████████████████| 31/31 [00:17<00:00,  1.81it/s]\n",
      "100%|███████████████████████████████████████████████████████████████████████████████████| 31/31 [00:16<00:00,  1.84it/s]\n",
      "100%|███████████████████████████████████████████████████████████████████████████████████| 31/31 [00:18<00:00,  1.72it/s]\n",
      "100%|███████████████████████████████████████████████████████████████████████████████████| 31/31 [00:16<00:00,  1.82it/s]\n",
      "100%|███████████████████████████████████████████████████████████████████████████████████| 31/31 [00:17<00:00,  1.80it/s]\n",
      "100%|███████████████████████████████████████████████████████████████████████████████████| 31/31 [00:17<00:00,  1.79it/s]\n",
      "100%|███████████████████████████████████████████████████████████████████████████████████| 31/31 [00:17<00:00,  1.82it/s]\n",
      "100%|███████████████████████████████████████████████████████████████████████████████████| 31/31 [00:16<00:00,  1.84it/s]\n",
      "100%|███████████████████████████████████████████████████████████████████████████████████| 31/31 [00:17<00:00,  1.78it/s]\n",
      "100%|███████████████████████████████████████████████████████████████████████████████████| 31/31 [00:16<00:00,  1.85it/s]\n"
     ]
    },
    {
     "name": "stdout",
     "output_type": "stream",
     "text": [
      "Epoch 4940 Validation Generator Loss: 14.3709\n",
      "14.370931625366211\n"
     ]
    },
    {
     "name": "stderr",
     "output_type": "stream",
     "text": [
      "100%|███████████████████████████████████████████████████████████████████████████████████| 31/31 [00:17<00:00,  1.80it/s]\n",
      "100%|███████████████████████████████████████████████████████████████████████████████████| 31/31 [00:16<00:00,  1.85it/s]\n",
      "100%|███████████████████████████████████████████████████████████████████████████████████| 31/31 [00:16<00:00,  1.86it/s]\n",
      "100%|███████████████████████████████████████████████████████████████████████████████████| 31/31 [00:16<00:00,  1.88it/s]\n",
      "100%|███████████████████████████████████████████████████████████████████████████████████| 31/31 [00:16<00:00,  1.86it/s]\n",
      "100%|███████████████████████████████████████████████████████████████████████████████████| 31/31 [00:16<00:00,  1.87it/s]\n",
      "100%|███████████████████████████████████████████████████████████████████████████████████| 31/31 [00:16<00:00,  1.89it/s]\n",
      "100%|███████████████████████████████████████████████████████████████████████████████████| 31/31 [00:16<00:00,  1.89it/s]\n",
      "100%|███████████████████████████████████████████████████████████████████████████████████| 31/31 [00:16<00:00,  1.83it/s]\n",
      "100%|███████████████████████████████████████████████████████████████████████████████████| 31/31 [00:16<00:00,  1.88it/s]\n"
     ]
    },
    {
     "name": "stdout",
     "output_type": "stream",
     "text": [
      "Epoch 4950 Validation Generator Loss: 16.7432\n",
      "16.74321746826172\n",
      "=> Saving checkpoint\n",
      "=> Saving checkpoint\n"
     ]
    },
    {
     "name": "stderr",
     "output_type": "stream",
     "text": [
      "100%|███████████████████████████████████████████████████████████████████████████████████| 31/31 [00:16<00:00,  1.85it/s]\n",
      "100%|███████████████████████████████████████████████████████████████████████████████████| 31/31 [00:16<00:00,  1.90it/s]\n",
      "100%|███████████████████████████████████████████████████████████████████████████████████| 31/31 [00:16<00:00,  1.90it/s]\n",
      "100%|███████████████████████████████████████████████████████████████████████████████████| 31/31 [00:16<00:00,  1.83it/s]\n",
      "100%|███████████████████████████████████████████████████████████████████████████████████| 31/31 [00:16<00:00,  1.87it/s]\n",
      "100%|███████████████████████████████████████████████████████████████████████████████████| 31/31 [00:16<00:00,  1.83it/s]\n",
      "100%|███████████████████████████████████████████████████████████████████████████████████| 31/31 [00:17<00:00,  1.81it/s]\n",
      "100%|███████████████████████████████████████████████████████████████████████████████████| 31/31 [00:16<00:00,  1.87it/s]\n",
      "100%|███████████████████████████████████████████████████████████████████████████████████| 31/31 [00:17<00:00,  1.82it/s]\n",
      "100%|███████████████████████████████████████████████████████████████████████████████████| 31/31 [00:16<00:00,  1.86it/s]\n"
     ]
    },
    {
     "name": "stdout",
     "output_type": "stream",
     "text": [
      "Epoch 4960 Validation Generator Loss: 21.2938\n",
      "21.29378890991211\n"
     ]
    },
    {
     "name": "stderr",
     "output_type": "stream",
     "text": [
      "100%|███████████████████████████████████████████████████████████████████████████████████| 31/31 [00:18<00:00,  1.70it/s]\n",
      "100%|███████████████████████████████████████████████████████████████████████████████████| 31/31 [00:17<00:00,  1.77it/s]\n",
      "100%|███████████████████████████████████████████████████████████████████████████████████| 31/31 [00:17<00:00,  1.78it/s]\n",
      "100%|███████████████████████████████████████████████████████████████████████████████████| 31/31 [00:17<00:00,  1.79it/s]\n",
      "100%|███████████████████████████████████████████████████████████████████████████████████| 31/31 [00:17<00:00,  1.79it/s]\n",
      "100%|███████████████████████████████████████████████████████████████████████████████████| 31/31 [00:17<00:00,  1.78it/s]\n",
      "100%|███████████████████████████████████████████████████████████████████████████████████| 31/31 [00:17<00:00,  1.82it/s]\n",
      "100%|███████████████████████████████████████████████████████████████████████████████████| 31/31 [00:17<00:00,  1.78it/s]\n",
      "100%|███████████████████████████████████████████████████████████████████████████████████| 31/31 [00:16<00:00,  1.85it/s]\n",
      "100%|███████████████████████████████████████████████████████████████████████████████████| 31/31 [00:16<00:00,  1.83it/s]\n"
     ]
    },
    {
     "name": "stdout",
     "output_type": "stream",
     "text": [
      "Epoch 4970 Validation Generator Loss: 10.0729\n",
      "10.072858810424805\n"
     ]
    },
    {
     "name": "stderr",
     "output_type": "stream",
     "text": [
      "100%|███████████████████████████████████████████████████████████████████████████████████| 31/31 [00:18<00:00,  1.72it/s]\n",
      "100%|███████████████████████████████████████████████████████████████████████████████████| 31/31 [00:17<00:00,  1.82it/s]\n",
      "100%|███████████████████████████████████████████████████████████████████████████████████| 31/31 [00:17<00:00,  1.78it/s]\n",
      "100%|███████████████████████████████████████████████████████████████████████████████████| 31/31 [00:17<00:00,  1.79it/s]\n",
      "100%|███████████████████████████████████████████████████████████████████████████████████| 31/31 [00:17<00:00,  1.74it/s]\n",
      "100%|███████████████████████████████████████████████████████████████████████████████████| 31/31 [00:20<00:00,  1.55it/s]\n",
      "100%|███████████████████████████████████████████████████████████████████████████████████| 31/31 [00:19<00:00,  1.57it/s]\n",
      "100%|███████████████████████████████████████████████████████████████████████████████████| 31/31 [00:20<00:00,  1.54it/s]\n",
      "100%|███████████████████████████████████████████████████████████████████████████████████| 31/31 [00:18<00:00,  1.71it/s]\n",
      "100%|███████████████████████████████████████████████████████████████████████████████████| 31/31 [00:17<00:00,  1.78it/s]\n"
     ]
    },
    {
     "name": "stdout",
     "output_type": "stream",
     "text": [
      "Epoch 4980 Validation Generator Loss: 12.2780\n",
      "12.277978897094727\n"
     ]
    },
    {
     "name": "stderr",
     "output_type": "stream",
     "text": [
      "100%|███████████████████████████████████████████████████████████████████████████████████| 31/31 [00:17<00:00,  1.79it/s]\n",
      "100%|███████████████████████████████████████████████████████████████████████████████████| 31/31 [00:16<00:00,  1.83it/s]\n",
      "100%|███████████████████████████████████████████████████████████████████████████████████| 31/31 [00:17<00:00,  1.79it/s]\n",
      "100%|███████████████████████████████████████████████████████████████████████████████████| 31/31 [00:17<00:00,  1.79it/s]\n",
      "100%|███████████████████████████████████████████████████████████████████████████████████| 31/31 [00:17<00:00,  1.79it/s]\n",
      "100%|███████████████████████████████████████████████████████████████████████████████████| 31/31 [00:17<00:00,  1.82it/s]\n",
      "100%|███████████████████████████████████████████████████████████████████████████████████| 31/31 [00:17<00:00,  1.79it/s]\n",
      "100%|███████████████████████████████████████████████████████████████████████████████████| 31/31 [00:17<00:00,  1.76it/s]\n",
      "100%|███████████████████████████████████████████████████████████████████████████████████| 31/31 [00:16<00:00,  1.85it/s]\n",
      "100%|███████████████████████████████████████████████████████████████████████████████████| 31/31 [00:17<00:00,  1.76it/s]\n"
     ]
    },
    {
     "name": "stdout",
     "output_type": "stream",
     "text": [
      "Epoch 4990 Validation Generator Loss: 9.3138\n",
      "9.313840866088867\n"
     ]
    },
    {
     "name": "stderr",
     "output_type": "stream",
     "text": [
      "100%|███████████████████████████████████████████████████████████████████████████████████| 31/31 [00:17<00:00,  1.79it/s]\n",
      "100%|███████████████████████████████████████████████████████████████████████████████████| 31/31 [00:16<00:00,  1.83it/s]\n",
      "100%|███████████████████████████████████████████████████████████████████████████████████| 31/31 [00:17<00:00,  1.80it/s]\n",
      "100%|███████████████████████████████████████████████████████████████████████████████████| 31/31 [00:17<00:00,  1.78it/s]\n",
      "100%|███████████████████████████████████████████████████████████████████████████████████| 31/31 [00:17<00:00,  1.81it/s]\n",
      "100%|███████████████████████████████████████████████████████████████████████████████████| 31/31 [00:17<00:00,  1.79it/s]\n",
      "100%|███████████████████████████████████████████████████████████████████████████████████| 31/31 [00:17<00:00,  1.77it/s]\n",
      "100%|███████████████████████████████████████████████████████████████████████████████████| 31/31 [00:17<00:00,  1.76it/s]\n",
      "100%|███████████████████████████████████████████████████████████████████████████████████| 31/31 [00:17<00:00,  1.81it/s]\n",
      "100%|███████████████████████████████████████████████████████████████████████████████████| 31/31 [00:16<00:00,  1.88it/s]\n"
     ]
    },
    {
     "name": "stdout",
     "output_type": "stream",
     "text": [
      "Epoch 5000 Validation Generator Loss: 12.9989\n",
      "12.998882293701172\n",
      "=> Saving checkpoint\n",
      "=> Saving checkpoint\n"
     ]
    },
    {
     "name": "stderr",
     "output_type": "stream",
     "text": [
      "100%|███████████████████████████████████████████████████████████████████████████████████| 31/31 [00:17<00:00,  1.82it/s]\n",
      "100%|███████████████████████████████████████████████████████████████████████████████████| 31/31 [00:17<00:00,  1.78it/s]\n",
      "100%|███████████████████████████████████████████████████████████████████████████████████| 31/31 [00:17<00:00,  1.81it/s]\n",
      "100%|███████████████████████████████████████████████████████████████████████████████████| 31/31 [00:19<00:00,  1.62it/s]\n",
      "100%|███████████████████████████████████████████████████████████████████████████████████| 31/31 [00:16<00:00,  1.83it/s]\n",
      "100%|███████████████████████████████████████████████████████████████████████████████████| 31/31 [00:16<00:00,  1.83it/s]\n",
      "100%|███████████████████████████████████████████████████████████████████████████████████| 31/31 [00:16<00:00,  1.87it/s]\n",
      "100%|███████████████████████████████████████████████████████████████████████████████████| 31/31 [00:16<00:00,  1.87it/s]\n",
      "100%|███████████████████████████████████████████████████████████████████████████████████| 31/31 [00:18<00:00,  1.70it/s]\n",
      "100%|███████████████████████████████████████████████████████████████████████████████████| 31/31 [00:16<00:00,  1.86it/s]\n"
     ]
    },
    {
     "name": "stdout",
     "output_type": "stream",
     "text": [
      "Epoch 5010 Validation Generator Loss: 11.7875\n",
      "11.787518501281738\n"
     ]
    },
    {
     "name": "stderr",
     "output_type": "stream",
     "text": [
      "100%|███████████████████████████████████████████████████████████████████████████████████| 31/31 [00:16<00:00,  1.87it/s]\n",
      "100%|███████████████████████████████████████████████████████████████████████████████████| 31/31 [00:16<00:00,  1.86it/s]\n",
      "100%|███████████████████████████████████████████████████████████████████████████████████| 31/31 [00:17<00:00,  1.77it/s]\n",
      "100%|███████████████████████████████████████████████████████████████████████████████████| 31/31 [00:17<00:00,  1.77it/s]\n",
      "100%|███████████████████████████████████████████████████████████████████████████████████| 31/31 [00:17<00:00,  1.74it/s]\n",
      "100%|███████████████████████████████████████████████████████████████████████████████████| 31/31 [00:17<00:00,  1.79it/s]\n",
      "100%|███████████████████████████████████████████████████████████████████████████████████| 31/31 [00:16<00:00,  1.83it/s]\n",
      "100%|███████████████████████████████████████████████████████████████████████████████████| 31/31 [00:17<00:00,  1.79it/s]\n",
      "100%|███████████████████████████████████████████████████████████████████████████████████| 31/31 [00:18<00:00,  1.71it/s]\n",
      "100%|███████████████████████████████████████████████████████████████████████████████████| 31/31 [00:19<00:00,  1.56it/s]\n"
     ]
    },
    {
     "name": "stdout",
     "output_type": "stream",
     "text": [
      "Epoch 5020 Validation Generator Loss: 14.1113\n",
      "14.11133861541748\n"
     ]
    },
    {
     "name": "stderr",
     "output_type": "stream",
     "text": [
      "100%|███████████████████████████████████████████████████████████████████████████████████| 31/31 [00:18<00:00,  1.67it/s]\n",
      "100%|███████████████████████████████████████████████████████████████████████████████████| 31/31 [00:18<00:00,  1.68it/s]\n",
      "100%|███████████████████████████████████████████████████████████████████████████████████| 31/31 [00:19<00:00,  1.58it/s]\n",
      "100%|███████████████████████████████████████████████████████████████████████████████████| 31/31 [00:19<00:00,  1.58it/s]\n",
      "100%|███████████████████████████████████████████████████████████████████████████████████| 31/31 [00:19<00:00,  1.61it/s]\n",
      "100%|███████████████████████████████████████████████████████████████████████████████████| 31/31 [00:20<00:00,  1.55it/s]\n",
      "100%|███████████████████████████████████████████████████████████████████████████████████| 31/31 [00:19<00:00,  1.57it/s]\n",
      "100%|███████████████████████████████████████████████████████████████████████████████████| 31/31 [00:19<00:00,  1.61it/s]\n",
      "100%|███████████████████████████████████████████████████████████████████████████████████| 31/31 [00:19<00:00,  1.60it/s]\n",
      "100%|███████████████████████████████████████████████████████████████████████████████████| 31/31 [00:18<00:00,  1.68it/s]\n"
     ]
    },
    {
     "name": "stdout",
     "output_type": "stream",
     "text": [
      "Epoch 5030 Validation Generator Loss: 14.0373\n",
      "14.037345886230469\n"
     ]
    },
    {
     "name": "stderr",
     "output_type": "stream",
     "text": [
      "100%|███████████████████████████████████████████████████████████████████████████████████| 31/31 [00:17<00:00,  1.78it/s]\n",
      "100%|███████████████████████████████████████████████████████████████████████████████████| 31/31 [00:17<00:00,  1.77it/s]\n",
      "100%|███████████████████████████████████████████████████████████████████████████████████| 31/31 [00:18<00:00,  1.65it/s]\n",
      "100%|███████████████████████████████████████████████████████████████████████████████████| 31/31 [00:18<00:00,  1.65it/s]\n",
      "100%|███████████████████████████████████████████████████████████████████████████████████| 31/31 [00:18<00:00,  1.64it/s]\n",
      "100%|███████████████████████████████████████████████████████████████████████████████████| 31/31 [00:18<00:00,  1.71it/s]\n",
      "100%|███████████████████████████████████████████████████████████████████████████████████| 31/31 [00:18<00:00,  1.68it/s]\n",
      "100%|███████████████████████████████████████████████████████████████████████████████████| 31/31 [00:18<00:00,  1.66it/s]\n",
      "100%|███████████████████████████████████████████████████████████████████████████████████| 31/31 [00:18<00:00,  1.63it/s]\n",
      "100%|███████████████████████████████████████████████████████████████████████████████████| 31/31 [00:21<00:00,  1.41it/s]\n"
     ]
    },
    {
     "name": "stdout",
     "output_type": "stream",
     "text": [
      "Epoch 5040 Validation Generator Loss: 12.1883\n",
      "12.188281059265137\n"
     ]
    },
    {
     "name": "stderr",
     "output_type": "stream",
     "text": [
      "100%|███████████████████████████████████████████████████████████████████████████████████| 31/31 [00:22<00:00,  1.38it/s]\n",
      "100%|███████████████████████████████████████████████████████████████████████████████████| 31/31 [00:20<00:00,  1.50it/s]\n",
      "100%|███████████████████████████████████████████████████████████████████████████████████| 31/31 [00:20<00:00,  1.54it/s]\n",
      "100%|███████████████████████████████████████████████████████████████████████████████████| 31/31 [00:21<00:00,  1.46it/s]\n",
      "100%|███████████████████████████████████████████████████████████████████████████████████| 31/31 [00:20<00:00,  1.49it/s]\n",
      "100%|███████████████████████████████████████████████████████████████████████████████████| 31/31 [00:21<00:00,  1.47it/s]\n",
      "100%|███████████████████████████████████████████████████████████████████████████████████| 31/31 [00:20<00:00,  1.55it/s]\n",
      "100%|███████████████████████████████████████████████████████████████████████████████████| 31/31 [00:18<00:00,  1.69it/s]\n",
      "100%|███████████████████████████████████████████████████████████████████████████████████| 31/31 [00:18<00:00,  1.69it/s]\n",
      "100%|███████████████████████████████████████████████████████████████████████████████████| 31/31 [00:18<00:00,  1.64it/s]\n"
     ]
    },
    {
     "name": "stdout",
     "output_type": "stream",
     "text": [
      "Epoch 5050 Validation Generator Loss: 12.8663\n",
      "12.866287231445312\n",
      "=> Saving checkpoint\n",
      "=> Saving checkpoint\n"
     ]
    },
    {
     "name": "stderr",
     "output_type": "stream",
     "text": [
      "100%|███████████████████████████████████████████████████████████████████████████████████| 31/31 [00:18<00:00,  1.71it/s]\n",
      "100%|███████████████████████████████████████████████████████████████████████████████████| 31/31 [00:20<00:00,  1.54it/s]\n",
      "100%|███████████████████████████████████████████████████████████████████████████████████| 31/31 [00:21<00:00,  1.41it/s]\n",
      "100%|███████████████████████████████████████████████████████████████████████████████████| 31/31 [00:17<00:00,  1.73it/s]\n",
      "100%|███████████████████████████████████████████████████████████████████████████████████| 31/31 [00:17<00:00,  1.75it/s]\n",
      "100%|███████████████████████████████████████████████████████████████████████████████████| 31/31 [00:17<00:00,  1.73it/s]\n",
      "100%|███████████████████████████████████████████████████████████████████████████████████| 31/31 [00:17<00:00,  1.81it/s]\n",
      "100%|███████████████████████████████████████████████████████████████████████████████████| 31/31 [00:17<00:00,  1.75it/s]\n",
      "100%|███████████████████████████████████████████████████████████████████████████████████| 31/31 [00:17<00:00,  1.79it/s]\n",
      "100%|███████████████████████████████████████████████████████████████████████████████████| 31/31 [00:17<00:00,  1.74it/s]\n"
     ]
    },
    {
     "name": "stdout",
     "output_type": "stream",
     "text": [
      "Epoch 5060 Validation Generator Loss: 14.5724\n",
      "14.572412490844727\n"
     ]
    },
    {
     "name": "stderr",
     "output_type": "stream",
     "text": [
      "100%|███████████████████████████████████████████████████████████████████████████████████| 31/31 [00:17<00:00,  1.81it/s]\n",
      "100%|███████████████████████████████████████████████████████████████████████████████████| 31/31 [00:16<00:00,  1.85it/s]\n",
      "100%|███████████████████████████████████████████████████████████████████████████████████| 31/31 [00:16<00:00,  1.83it/s]\n",
      "100%|███████████████████████████████████████████████████████████████████████████████████| 31/31 [00:16<00:00,  1.85it/s]\n",
      "100%|███████████████████████████████████████████████████████████████████████████████████| 31/31 [00:16<00:00,  1.86it/s]\n",
      "100%|███████████████████████████████████████████████████████████████████████████████████| 31/31 [00:16<00:00,  1.82it/s]\n",
      "100%|███████████████████████████████████████████████████████████████████████████████████| 31/31 [00:16<00:00,  1.83it/s]\n",
      "100%|███████████████████████████████████████████████████████████████████████████████████| 31/31 [00:16<00:00,  1.83it/s]\n",
      "100%|███████████████████████████████████████████████████████████████████████████████████| 31/31 [00:17<00:00,  1.82it/s]\n",
      "100%|███████████████████████████████████████████████████████████████████████████████████| 31/31 [00:17<00:00,  1.78it/s]\n"
     ]
    },
    {
     "name": "stdout",
     "output_type": "stream",
     "text": [
      "Epoch 5070 Validation Generator Loss: 18.2336\n",
      "18.23361587524414\n"
     ]
    },
    {
     "name": "stderr",
     "output_type": "stream",
     "text": [
      "100%|███████████████████████████████████████████████████████████████████████████████████| 31/31 [00:16<00:00,  1.84it/s]\n",
      "100%|███████████████████████████████████████████████████████████████████████████████████| 31/31 [00:17<00:00,  1.78it/s]\n",
      "100%|███████████████████████████████████████████████████████████████████████████████████| 31/31 [00:16<00:00,  1.83it/s]\n",
      "100%|███████████████████████████████████████████████████████████████████████████████████| 31/31 [00:16<00:00,  1.87it/s]\n",
      "100%|███████████████████████████████████████████████████████████████████████████████████| 31/31 [00:16<00:00,  1.83it/s]\n",
      "100%|███████████████████████████████████████████████████████████████████████████████████| 31/31 [00:16<00:00,  1.84it/s]\n",
      "100%|███████████████████████████████████████████████████████████████████████████████████| 31/31 [00:17<00:00,  1.82it/s]\n",
      "100%|███████████████████████████████████████████████████████████████████████████████████| 31/31 [00:17<00:00,  1.81it/s]\n",
      "100%|███████████████████████████████████████████████████████████████████████████████████| 31/31 [00:17<00:00,  1.82it/s]\n",
      "100%|███████████████████████████████████████████████████████████████████████████████████| 31/31 [00:17<00:00,  1.75it/s]\n"
     ]
    },
    {
     "name": "stdout",
     "output_type": "stream",
     "text": [
      "Epoch 5080 Validation Generator Loss: 19.9813\n",
      "19.981311798095703\n"
     ]
    },
    {
     "name": "stderr",
     "output_type": "stream",
     "text": [
      "100%|███████████████████████████████████████████████████████████████████████████████████| 31/31 [00:18<00:00,  1.69it/s]\n",
      "100%|███████████████████████████████████████████████████████████████████████████████████| 31/31 [00:17<00:00,  1.77it/s]\n",
      "100%|███████████████████████████████████████████████████████████████████████████████████| 31/31 [00:17<00:00,  1.77it/s]\n",
      "100%|███████████████████████████████████████████████████████████████████████████████████| 31/31 [00:18<00:00,  1.64it/s]\n",
      "100%|███████████████████████████████████████████████████████████████████████████████████| 31/31 [00:18<00:00,  1.72it/s]\n",
      "100%|███████████████████████████████████████████████████████████████████████████████████| 31/31 [00:17<00:00,  1.80it/s]\n",
      "100%|███████████████████████████████████████████████████████████████████████████████████| 31/31 [00:17<00:00,  1.81it/s]\n",
      "100%|███████████████████████████████████████████████████████████████████████████████████| 31/31 [00:17<00:00,  1.74it/s]\n",
      "100%|███████████████████████████████████████████████████████████████████████████████████| 31/31 [00:17<00:00,  1.78it/s]\n",
      "100%|███████████████████████████████████████████████████████████████████████████████████| 31/31 [00:17<00:00,  1.81it/s]\n"
     ]
    },
    {
     "name": "stdout",
     "output_type": "stream",
     "text": [
      "Epoch 5090 Validation Generator Loss: 11.5577\n",
      "11.557741165161133\n"
     ]
    },
    {
     "name": "stderr",
     "output_type": "stream",
     "text": [
      "100%|███████████████████████████████████████████████████████████████████████████████████| 31/31 [00:18<00:00,  1.70it/s]\n",
      "100%|███████████████████████████████████████████████████████████████████████████████████| 31/31 [00:17<00:00,  1.78it/s]\n",
      "100%|███████████████████████████████████████████████████████████████████████████████████| 31/31 [00:17<00:00,  1.76it/s]\n",
      "100%|███████████████████████████████████████████████████████████████████████████████████| 31/31 [00:17<00:00,  1.79it/s]\n",
      "100%|███████████████████████████████████████████████████████████████████████████████████| 31/31 [00:17<00:00,  1.80it/s]\n",
      "100%|███████████████████████████████████████████████████████████████████████████████████| 31/31 [00:17<00:00,  1.76it/s]\n",
      "100%|███████████████████████████████████████████████████████████████████████████████████| 31/31 [00:17<00:00,  1.76it/s]\n",
      "100%|███████████████████████████████████████████████████████████████████████████████████| 31/31 [00:17<00:00,  1.77it/s]\n",
      "100%|███████████████████████████████████████████████████████████████████████████████████| 31/31 [00:17<00:00,  1.75it/s]\n",
      "100%|███████████████████████████████████████████████████████████████████████████████████| 31/31 [00:17<00:00,  1.77it/s]\n"
     ]
    },
    {
     "name": "stdout",
     "output_type": "stream",
     "text": [
      "Epoch 5100 Validation Generator Loss: 15.0104\n",
      "15.010383605957031\n",
      "=> Saving checkpoint\n",
      "=> Saving checkpoint\n"
     ]
    },
    {
     "name": "stderr",
     "output_type": "stream",
     "text": [
      "100%|███████████████████████████████████████████████████████████████████████████████████| 31/31 [00:17<00:00,  1.76it/s]\n",
      "100%|███████████████████████████████████████████████████████████████████████████████████| 31/31 [00:17<00:00,  1.75it/s]\n",
      "100%|███████████████████████████████████████████████████████████████████████████████████| 31/31 [00:17<00:00,  1.78it/s]\n",
      "100%|███████████████████████████████████████████████████████████████████████████████████| 31/31 [00:17<00:00,  1.79it/s]\n",
      "100%|███████████████████████████████████████████████████████████████████████████████████| 31/31 [00:17<00:00,  1.79it/s]\n",
      "100%|███████████████████████████████████████████████████████████████████████████████████| 31/31 [00:17<00:00,  1.75it/s]\n",
      "100%|███████████████████████████████████████████████████████████████████████████████████| 31/31 [00:16<00:00,  1.84it/s]\n",
      "100%|███████████████████████████████████████████████████████████████████████████████████| 31/31 [00:17<00:00,  1.77it/s]\n",
      "100%|███████████████████████████████████████████████████████████████████████████████████| 31/31 [00:18<00:00,  1.70it/s]\n",
      "100%|███████████████████████████████████████████████████████████████████████████████████| 31/31 [00:17<00:00,  1.79it/s]\n"
     ]
    },
    {
     "name": "stdout",
     "output_type": "stream",
     "text": [
      "Epoch 5110 Validation Generator Loss: 13.4795\n",
      "13.479537963867188\n"
     ]
    },
    {
     "name": "stderr",
     "output_type": "stream",
     "text": [
      "100%|███████████████████████████████████████████████████████████████████████████████████| 31/31 [00:17<00:00,  1.82it/s]\n",
      "100%|███████████████████████████████████████████████████████████████████████████████████| 31/31 [00:16<00:00,  1.89it/s]\n",
      "100%|███████████████████████████████████████████████████████████████████████████████████| 31/31 [00:16<00:00,  1.83it/s]\n",
      "100%|███████████████████████████████████████████████████████████████████████████████████| 31/31 [00:16<00:00,  1.89it/s]\n",
      "100%|███████████████████████████████████████████████████████████████████████████████████| 31/31 [00:17<00:00,  1.80it/s]\n",
      "100%|███████████████████████████████████████████████████████████████████████████████████| 31/31 [00:17<00:00,  1.81it/s]\n",
      "100%|███████████████████████████████████████████████████████████████████████████████████| 31/31 [00:17<00:00,  1.79it/s]\n",
      "100%|███████████████████████████████████████████████████████████████████████████████████| 31/31 [00:18<00:00,  1.65it/s]\n",
      "100%|███████████████████████████████████████████████████████████████████████████████████| 31/31 [00:19<00:00,  1.59it/s]\n",
      "100%|███████████████████████████████████████████████████████████████████████████████████| 31/31 [00:17<00:00,  1.75it/s]\n"
     ]
    },
    {
     "name": "stdout",
     "output_type": "stream",
     "text": [
      "Epoch 5120 Validation Generator Loss: 13.5461\n",
      "13.546100616455078\n"
     ]
    },
    {
     "name": "stderr",
     "output_type": "stream",
     "text": [
      "100%|███████████████████████████████████████████████████████████████████████████████████| 31/31 [00:18<00:00,  1.69it/s]\n",
      "100%|███████████████████████████████████████████████████████████████████████████████████| 31/31 [00:17<00:00,  1.76it/s]\n",
      "100%|███████████████████████████████████████████████████████████████████████████████████| 31/31 [00:17<00:00,  1.73it/s]\n",
      "100%|███████████████████████████████████████████████████████████████████████████████████| 31/31 [00:18<00:00,  1.71it/s]\n",
      "100%|███████████████████████████████████████████████████████████████████████████████████| 31/31 [00:17<00:00,  1.79it/s]\n",
      "100%|███████████████████████████████████████████████████████████████████████████████████| 31/31 [00:17<00:00,  1.76it/s]\n",
      "100%|███████████████████████████████████████████████████████████████████████████████████| 31/31 [00:17<00:00,  1.81it/s]\n",
      "100%|███████████████████████████████████████████████████████████████████████████████████| 31/31 [00:18<00:00,  1.70it/s]\n",
      "100%|███████████████████████████████████████████████████████████████████████████████████| 31/31 [00:18<00:00,  1.68it/s]\n",
      "100%|███████████████████████████████████████████████████████████████████████████████████| 31/31 [00:17<00:00,  1.78it/s]\n"
     ]
    },
    {
     "name": "stdout",
     "output_type": "stream",
     "text": [
      "Epoch 5130 Validation Generator Loss: 16.3496\n",
      "16.3496036529541\n"
     ]
    },
    {
     "name": "stderr",
     "output_type": "stream",
     "text": [
      "100%|███████████████████████████████████████████████████████████████████████████████████| 31/31 [00:17<00:00,  1.79it/s]\n",
      "100%|███████████████████████████████████████████████████████████████████████████████████| 31/31 [00:17<00:00,  1.80it/s]\n",
      "100%|███████████████████████████████████████████████████████████████████████████████████| 31/31 [00:17<00:00,  1.75it/s]\n",
      "100%|███████████████████████████████████████████████████████████████████████████████████| 31/31 [00:16<00:00,  1.87it/s]\n",
      "100%|███████████████████████████████████████████████████████████████████████████████████| 31/31 [00:16<00:00,  1.85it/s]\n",
      "100%|███████████████████████████████████████████████████████████████████████████████████| 31/31 [00:16<00:00,  1.85it/s]\n",
      "100%|███████████████████████████████████████████████████████████████████████████████████| 31/31 [00:16<00:00,  1.86it/s]\n",
      "100%|███████████████████████████████████████████████████████████████████████████████████| 31/31 [00:16<00:00,  1.87it/s]\n",
      "100%|███████████████████████████████████████████████████████████████████████████████████| 31/31 [00:17<00:00,  1.79it/s]\n",
      "100%|███████████████████████████████████████████████████████████████████████████████████| 31/31 [00:16<00:00,  1.86it/s]\n"
     ]
    },
    {
     "name": "stdout",
     "output_type": "stream",
     "text": [
      "Epoch 5140 Validation Generator Loss: 12.6626\n",
      "12.662607192993164\n"
     ]
    },
    {
     "name": "stderr",
     "output_type": "stream",
     "text": [
      "100%|███████████████████████████████████████████████████████████████████████████████████| 31/31 [00:18<00:00,  1.65it/s]\n",
      "100%|███████████████████████████████████████████████████████████████████████████████████| 31/31 [00:18<00:00,  1.68it/s]\n",
      "100%|███████████████████████████████████████████████████████████████████████████████████| 31/31 [00:17<00:00,  1.80it/s]\n",
      "100%|███████████████████████████████████████████████████████████████████████████████████| 31/31 [00:16<00:00,  1.85it/s]\n",
      "100%|███████████████████████████████████████████████████████████████████████████████████| 31/31 [00:16<00:00,  1.89it/s]\n",
      "100%|███████████████████████████████████████████████████████████████████████████████████| 31/31 [00:17<00:00,  1.80it/s]\n",
      "100%|███████████████████████████████████████████████████████████████████████████████████| 31/31 [00:16<00:00,  1.83it/s]\n",
      "100%|███████████████████████████████████████████████████████████████████████████████████| 31/31 [00:16<00:00,  1.89it/s]\n",
      "100%|███████████████████████████████████████████████████████████████████████████████████| 31/31 [00:17<00:00,  1.75it/s]\n",
      "100%|███████████████████████████████████████████████████████████████████████████████████| 31/31 [00:16<00:00,  1.83it/s]\n"
     ]
    },
    {
     "name": "stdout",
     "output_type": "stream",
     "text": [
      "Epoch 5150 Validation Generator Loss: 17.5751\n",
      "17.57513427734375\n",
      "=> Saving checkpoint\n",
      "=> Saving checkpoint\n"
     ]
    },
    {
     "name": "stderr",
     "output_type": "stream",
     "text": [
      "100%|███████████████████████████████████████████████████████████████████████████████████| 31/31 [00:17<00:00,  1.79it/s]\n",
      "100%|███████████████████████████████████████████████████████████████████████████████████| 31/31 [00:17<00:00,  1.82it/s]\n",
      "100%|███████████████████████████████████████████████████████████████████████████████████| 31/31 [00:16<00:00,  1.85it/s]\n",
      "100%|███████████████████████████████████████████████████████████████████████████████████| 31/31 [00:16<00:00,  1.82it/s]\n",
      "100%|███████████████████████████████████████████████████████████████████████████████████| 31/31 [00:16<00:00,  1.84it/s]\n",
      "100%|███████████████████████████████████████████████████████████████████████████████████| 31/31 [00:16<00:00,  1.83it/s]\n",
      "100%|███████████████████████████████████████████████████████████████████████████████████| 31/31 [00:17<00:00,  1.81it/s]\n",
      "100%|███████████████████████████████████████████████████████████████████████████████████| 31/31 [00:17<00:00,  1.82it/s]\n",
      "100%|███████████████████████████████████████████████████████████████████████████████████| 31/31 [00:17<00:00,  1.81it/s]\n",
      "100%|███████████████████████████████████████████████████████████████████████████████████| 31/31 [00:17<00:00,  1.79it/s]\n"
     ]
    },
    {
     "name": "stdout",
     "output_type": "stream",
     "text": [
      "Epoch 5160 Validation Generator Loss: 26.5843\n",
      "26.584278106689453\n"
     ]
    },
    {
     "name": "stderr",
     "output_type": "stream",
     "text": [
      "100%|███████████████████████████████████████████████████████████████████████████████████| 31/31 [00:16<00:00,  1.84it/s]\n",
      "100%|███████████████████████████████████████████████████████████████████████████████████| 31/31 [00:16<00:00,  1.86it/s]\n",
      "100%|███████████████████████████████████████████████████████████████████████████████████| 31/31 [00:17<00:00,  1.81it/s]\n",
      "100%|███████████████████████████████████████████████████████████████████████████████████| 31/31 [00:16<00:00,  1.85it/s]\n",
      "100%|███████████████████████████████████████████████████████████████████████████████████| 31/31 [00:17<00:00,  1.78it/s]\n",
      "100%|███████████████████████████████████████████████████████████████████████████████████| 31/31 [00:16<00:00,  1.84it/s]\n",
      "100%|███████████████████████████████████████████████████████████████████████████████████| 31/31 [00:17<00:00,  1.80it/s]\n",
      "100%|███████████████████████████████████████████████████████████████████████████████████| 31/31 [00:17<00:00,  1.81it/s]\n",
      "100%|███████████████████████████████████████████████████████████████████████████████████| 31/31 [00:17<00:00,  1.80it/s]\n",
      "100%|███████████████████████████████████████████████████████████████████████████████████| 31/31 [00:16<00:00,  1.84it/s]\n"
     ]
    },
    {
     "name": "stdout",
     "output_type": "stream",
     "text": [
      "Epoch 5170 Validation Generator Loss: 18.6464\n",
      "18.646373748779297\n"
     ]
    },
    {
     "name": "stderr",
     "output_type": "stream",
     "text": [
      "100%|███████████████████████████████████████████████████████████████████████████████████| 31/31 [00:16<00:00,  1.85it/s]\n",
      "100%|███████████████████████████████████████████████████████████████████████████████████| 31/31 [00:17<00:00,  1.81it/s]\n",
      "100%|███████████████████████████████████████████████████████████████████████████████████| 31/31 [00:17<00:00,  1.79it/s]\n",
      "100%|███████████████████████████████████████████████████████████████████████████████████| 31/31 [00:17<00:00,  1.80it/s]\n",
      "100%|███████████████████████████████████████████████████████████████████████████████████| 31/31 [00:16<00:00,  1.85it/s]\n",
      "100%|███████████████████████████████████████████████████████████████████████████████████| 31/31 [00:17<00:00,  1.79it/s]\n",
      "100%|███████████████████████████████████████████████████████████████████████████████████| 31/31 [00:17<00:00,  1.79it/s]\n",
      "100%|███████████████████████████████████████████████████████████████████████████████████| 31/31 [00:16<00:00,  1.83it/s]\n",
      "100%|███████████████████████████████████████████████████████████████████████████████████| 31/31 [00:18<00:00,  1.65it/s]\n",
      "100%|███████████████████████████████████████████████████████████████████████████████████| 31/31 [00:16<00:00,  1.86it/s]\n"
     ]
    },
    {
     "name": "stdout",
     "output_type": "stream",
     "text": [
      "Epoch 5180 Validation Generator Loss: 12.9860\n",
      "12.986030578613281\n"
     ]
    },
    {
     "name": "stderr",
     "output_type": "stream",
     "text": [
      "100%|███████████████████████████████████████████████████████████████████████████████████| 31/31 [00:16<00:00,  1.85it/s]\n",
      "100%|███████████████████████████████████████████████████████████████████████████████████| 31/31 [00:16<00:00,  1.85it/s]\n",
      "100%|███████████████████████████████████████████████████████████████████████████████████| 31/31 [00:17<00:00,  1.82it/s]\n",
      "100%|███████████████████████████████████████████████████████████████████████████████████| 31/31 [00:17<00:00,  1.77it/s]\n",
      "100%|███████████████████████████████████████████████████████████████████████████████████| 31/31 [00:17<00:00,  1.78it/s]\n",
      "100%|███████████████████████████████████████████████████████████████████████████████████| 31/31 [00:16<00:00,  1.88it/s]\n",
      "100%|███████████████████████████████████████████████████████████████████████████████████| 31/31 [00:19<00:00,  1.60it/s]\n",
      "100%|███████████████████████████████████████████████████████████████████████████████████| 31/31 [00:18<00:00,  1.65it/s]\n",
      "100%|███████████████████████████████████████████████████████████████████████████████████| 31/31 [00:17<00:00,  1.73it/s]\n",
      "100%|███████████████████████████████████████████████████████████████████████████████████| 31/31 [00:18<00:00,  1.67it/s]\n"
     ]
    },
    {
     "name": "stdout",
     "output_type": "stream",
     "text": [
      "Epoch 5190 Validation Generator Loss: 16.5997\n",
      "16.599679946899414\n"
     ]
    },
    {
     "name": "stderr",
     "output_type": "stream",
     "text": [
      "100%|███████████████████████████████████████████████████████████████████████████████████| 31/31 [00:17<00:00,  1.80it/s]\n",
      "100%|███████████████████████████████████████████████████████████████████████████████████| 31/31 [00:18<00:00,  1.65it/s]\n",
      "100%|███████████████████████████████████████████████████████████████████████████████████| 31/31 [00:18<00:00,  1.70it/s]\n",
      "100%|███████████████████████████████████████████████████████████████████████████████████| 31/31 [00:17<00:00,  1.73it/s]\n",
      "100%|███████████████████████████████████████████████████████████████████████████████████| 31/31 [00:17<00:00,  1.81it/s]\n",
      "100%|███████████████████████████████████████████████████████████████████████████████████| 31/31 [00:18<00:00,  1.68it/s]\n",
      "100%|███████████████████████████████████████████████████████████████████████████████████| 31/31 [00:17<00:00,  1.80it/s]\n",
      "100%|███████████████████████████████████████████████████████████████████████████████████| 31/31 [00:16<00:00,  1.82it/s]\n",
      "100%|███████████████████████████████████████████████████████████████████████████████████| 31/31 [00:17<00:00,  1.82it/s]\n",
      "100%|███████████████████████████████████████████████████████████████████████████████████| 31/31 [00:17<00:00,  1.79it/s]\n"
     ]
    },
    {
     "name": "stdout",
     "output_type": "stream",
     "text": [
      "Epoch 5200 Validation Generator Loss: 12.4152\n",
      "12.415186882019043\n",
      "=> Saving checkpoint\n",
      "=> Saving checkpoint\n"
     ]
    },
    {
     "name": "stderr",
     "output_type": "stream",
     "text": [
      "100%|███████████████████████████████████████████████████████████████████████████████████| 31/31 [00:17<00:00,  1.78it/s]\n",
      "100%|███████████████████████████████████████████████████████████████████████████████████| 31/31 [00:17<00:00,  1.78it/s]\n",
      "100%|███████████████████████████████████████████████████████████████████████████████████| 31/31 [00:17<00:00,  1.79it/s]\n",
      "100%|███████████████████████████████████████████████████████████████████████████████████| 31/31 [00:17<00:00,  1.80it/s]\n",
      "100%|███████████████████████████████████████████████████████████████████████████████████| 31/31 [00:17<00:00,  1.78it/s]\n",
      "100%|███████████████████████████████████████████████████████████████████████████████████| 31/31 [00:17<00:00,  1.81it/s]\n",
      "100%|███████████████████████████████████████████████████████████████████████████████████| 31/31 [00:17<00:00,  1.80it/s]\n",
      "100%|███████████████████████████████████████████████████████████████████████████████████| 31/31 [00:17<00:00,  1.78it/s]\n",
      "100%|███████████████████████████████████████████████████████████████████████████████████| 31/31 [00:17<00:00,  1.82it/s]\n",
      "100%|███████████████████████████████████████████████████████████████████████████████████| 31/31 [00:16<00:00,  1.83it/s]\n"
     ]
    },
    {
     "name": "stdout",
     "output_type": "stream",
     "text": [
      "Epoch 5210 Validation Generator Loss: 19.4817\n",
      "19.481735229492188\n"
     ]
    },
    {
     "name": "stderr",
     "output_type": "stream",
     "text": [
      "100%|███████████████████████████████████████████████████████████████████████████████████| 31/31 [00:17<00:00,  1.79it/s]\n",
      "100%|███████████████████████████████████████████████████████████████████████████████████| 31/31 [00:17<00:00,  1.81it/s]\n",
      "100%|███████████████████████████████████████████████████████████████████████████████████| 31/31 [00:17<00:00,  1.81it/s]\n",
      "100%|███████████████████████████████████████████████████████████████████████████████████| 31/31 [00:17<00:00,  1.77it/s]\n",
      "100%|███████████████████████████████████████████████████████████████████████████████████| 31/31 [00:17<00:00,  1.79it/s]\n",
      "100%|███████████████████████████████████████████████████████████████████████████████████| 31/31 [00:17<00:00,  1.78it/s]\n",
      "100%|███████████████████████████████████████████████████████████████████████████████████| 31/31 [00:17<00:00,  1.81it/s]\n",
      "100%|███████████████████████████████████████████████████████████████████████████████████| 31/31 [00:17<00:00,  1.78it/s]\n",
      "100%|███████████████████████████████████████████████████████████████████████████████████| 31/31 [00:17<00:00,  1.76it/s]\n",
      "100%|███████████████████████████████████████████████████████████████████████████████████| 31/31 [00:16<00:00,  1.84it/s]\n"
     ]
    },
    {
     "name": "stdout",
     "output_type": "stream",
     "text": [
      "Epoch 5220 Validation Generator Loss: 26.2571\n",
      "26.2570858001709\n"
     ]
    },
    {
     "name": "stderr",
     "output_type": "stream",
     "text": [
      "100%|███████████████████████████████████████████████████████████████████████████████████| 31/31 [00:17<00:00,  1.77it/s]\n",
      "100%|███████████████████████████████████████████████████████████████████████████████████| 31/31 [00:17<00:00,  1.81it/s]\n",
      "100%|███████████████████████████████████████████████████████████████████████████████████| 31/31 [00:17<00:00,  1.81it/s]\n",
      "100%|███████████████████████████████████████████████████████████████████████████████████| 31/31 [00:17<00:00,  1.82it/s]\n",
      "100%|███████████████████████████████████████████████████████████████████████████████████| 31/31 [00:17<00:00,  1.79it/s]\n",
      "100%|███████████████████████████████████████████████████████████████████████████████████| 31/31 [00:17<00:00,  1.76it/s]\n",
      "100%|███████████████████████████████████████████████████████████████████████████████████| 31/31 [00:17<00:00,  1.76it/s]\n",
      "100%|███████████████████████████████████████████████████████████████████████████████████| 31/31 [00:17<00:00,  1.81it/s]\n",
      "100%|███████████████████████████████████████████████████████████████████████████████████| 31/31 [00:17<00:00,  1.75it/s]\n",
      "100%|███████████████████████████████████████████████████████████████████████████████████| 31/31 [00:18<00:00,  1.70it/s]\n"
     ]
    },
    {
     "name": "stdout",
     "output_type": "stream",
     "text": [
      "Epoch 5230 Validation Generator Loss: 13.5423\n",
      "13.542314529418945\n"
     ]
    },
    {
     "name": "stderr",
     "output_type": "stream",
     "text": [
      "100%|███████████████████████████████████████████████████████████████████████████████████| 31/31 [00:17<00:00,  1.74it/s]\n",
      "100%|███████████████████████████████████████████████████████████████████████████████████| 31/31 [00:17<00:00,  1.80it/s]\n",
      "100%|███████████████████████████████████████████████████████████████████████████████████| 31/31 [00:17<00:00,  1.79it/s]\n",
      "100%|███████████████████████████████████████████████████████████████████████████████████| 31/31 [00:18<00:00,  1.66it/s]\n",
      "100%|███████████████████████████████████████████████████████████████████████████████████| 31/31 [00:17<00:00,  1.81it/s]\n",
      "100%|███████████████████████████████████████████████████████████████████████████████████| 31/31 [00:17<00:00,  1.77it/s]\n",
      "100%|███████████████████████████████████████████████████████████████████████████████████| 31/31 [00:18<00:00,  1.65it/s]\n",
      "100%|███████████████████████████████████████████████████████████████████████████████████| 31/31 [00:18<00:00,  1.69it/s]\n",
      "100%|███████████████████████████████████████████████████████████████████████████████████| 31/31 [00:17<00:00,  1.77it/s]\n",
      "100%|███████████████████████████████████████████████████████████████████████████████████| 31/31 [00:17<00:00,  1.78it/s]\n"
     ]
    },
    {
     "name": "stdout",
     "output_type": "stream",
     "text": [
      "Epoch 5240 Validation Generator Loss: 11.1946\n",
      "11.194622039794922\n"
     ]
    },
    {
     "name": "stderr",
     "output_type": "stream",
     "text": [
      "100%|███████████████████████████████████████████████████████████████████████████████████| 31/31 [00:17<00:00,  1.75it/s]\n",
      "100%|███████████████████████████████████████████████████████████████████████████████████| 31/31 [00:17<00:00,  1.75it/s]\n",
      "100%|███████████████████████████████████████████████████████████████████████████████████| 31/31 [00:17<00:00,  1.78it/s]\n",
      "100%|███████████████████████████████████████████████████████████████████████████████████| 31/31 [00:16<00:00,  1.84it/s]\n",
      "100%|███████████████████████████████████████████████████████████████████████████████████| 31/31 [00:17<00:00,  1.81it/s]\n",
      "100%|███████████████████████████████████████████████████████████████████████████████████| 31/31 [00:16<00:00,  1.84it/s]\n",
      "100%|███████████████████████████████████████████████████████████████████████████████████| 31/31 [00:16<00:00,  1.85it/s]\n",
      "100%|███████████████████████████████████████████████████████████████████████████████████| 31/31 [00:17<00:00,  1.80it/s]\n",
      "100%|███████████████████████████████████████████████████████████████████████████████████| 31/31 [00:16<00:00,  1.83it/s]\n",
      "100%|███████████████████████████████████████████████████████████████████████████████████| 31/31 [00:16<00:00,  1.84it/s]\n"
     ]
    },
    {
     "name": "stdout",
     "output_type": "stream",
     "text": [
      "Epoch 5250 Validation Generator Loss: 13.9374\n",
      "13.937398910522461\n",
      "=> Saving checkpoint\n",
      "=> Saving checkpoint\n"
     ]
    },
    {
     "name": "stderr",
     "output_type": "stream",
     "text": [
      "100%|███████████████████████████████████████████████████████████████████████████████████| 31/31 [00:17<00:00,  1.78it/s]\n",
      "100%|███████████████████████████████████████████████████████████████████████████████████| 31/31 [00:17<00:00,  1.79it/s]\n",
      "100%|███████████████████████████████████████████████████████████████████████████████████| 31/31 [00:16<00:00,  1.83it/s]\n",
      "100%|███████████████████████████████████████████████████████████████████████████████████| 31/31 [00:16<00:00,  1.83it/s]\n",
      "100%|███████████████████████████████████████████████████████████████████████████████████| 31/31 [00:17<00:00,  1.79it/s]\n",
      "100%|███████████████████████████████████████████████████████████████████████████████████| 31/31 [00:17<00:00,  1.80it/s]\n",
      "100%|███████████████████████████████████████████████████████████████████████████████████| 31/31 [00:17<00:00,  1.75it/s]\n",
      "100%|███████████████████████████████████████████████████████████████████████████████████| 31/31 [00:17<00:00,  1.78it/s]\n",
      "100%|███████████████████████████████████████████████████████████████████████████████████| 31/31 [00:17<00:00,  1.73it/s]\n",
      "100%|███████████████████████████████████████████████████████████████████████████████████| 31/31 [00:17<00:00,  1.77it/s]\n"
     ]
    },
    {
     "name": "stdout",
     "output_type": "stream",
     "text": [
      "Epoch 5260 Validation Generator Loss: 14.4848\n",
      "14.48476791381836\n"
     ]
    },
    {
     "name": "stderr",
     "output_type": "stream",
     "text": [
      "100%|███████████████████████████████████████████████████████████████████████████████████| 31/31 [00:18<00:00,  1.70it/s]\n",
      "100%|███████████████████████████████████████████████████████████████████████████████████| 31/31 [00:17<00:00,  1.78it/s]\n",
      "100%|███████████████████████████████████████████████████████████████████████████████████| 31/31 [00:16<00:00,  1.86it/s]\n",
      "100%|███████████████████████████████████████████████████████████████████████████████████| 31/31 [00:16<00:00,  1.85it/s]\n",
      "100%|███████████████████████████████████████████████████████████████████████████████████| 31/31 [00:16<00:00,  1.84it/s]\n",
      "100%|███████████████████████████████████████████████████████████████████████████████████| 31/31 [00:17<00:00,  1.76it/s]\n",
      "100%|███████████████████████████████████████████████████████████████████████████████████| 31/31 [00:17<00:00,  1.76it/s]\n",
      "100%|███████████████████████████████████████████████████████████████████████████████████| 31/31 [00:17<00:00,  1.76it/s]\n",
      "100%|███████████████████████████████████████████████████████████████████████████████████| 31/31 [00:17<00:00,  1.77it/s]\n",
      "100%|███████████████████████████████████████████████████████████████████████████████████| 31/31 [00:17<00:00,  1.81it/s]\n"
     ]
    },
    {
     "name": "stdout",
     "output_type": "stream",
     "text": [
      "Epoch 5270 Validation Generator Loss: 13.0637\n",
      "13.063701629638672\n"
     ]
    },
    {
     "name": "stderr",
     "output_type": "stream",
     "text": [
      "100%|███████████████████████████████████████████████████████████████████████████████████| 31/31 [00:17<00:00,  1.78it/s]\n",
      "100%|███████████████████████████████████████████████████████████████████████████████████| 31/31 [00:17<00:00,  1.76it/s]\n",
      "100%|███████████████████████████████████████████████████████████████████████████████████| 31/31 [00:17<00:00,  1.77it/s]\n",
      "100%|███████████████████████████████████████████████████████████████████████████████████| 31/31 [00:17<00:00,  1.82it/s]\n",
      "100%|███████████████████████████████████████████████████████████████████████████████████| 31/31 [00:17<00:00,  1.82it/s]\n",
      "100%|███████████████████████████████████████████████████████████████████████████████████| 31/31 [00:16<00:00,  1.85it/s]\n",
      "100%|███████████████████████████████████████████████████████████████████████████████████| 31/31 [00:18<00:00,  1.63it/s]\n",
      "100%|███████████████████████████████████████████████████████████████████████████████████| 31/31 [00:19<00:00,  1.60it/s]\n",
      "100%|███████████████████████████████████████████████████████████████████████████████████| 31/31 [00:19<00:00,  1.60it/s]\n",
      "100%|███████████████████████████████████████████████████████████████████████████████████| 31/31 [00:18<00:00,  1.67it/s]\n"
     ]
    },
    {
     "name": "stdout",
     "output_type": "stream",
     "text": [
      "Epoch 5280 Validation Generator Loss: 13.7569\n",
      "13.756916046142578\n"
     ]
    },
    {
     "name": "stderr",
     "output_type": "stream",
     "text": [
      "100%|███████████████████████████████████████████████████████████████████████████████████| 31/31 [00:17<00:00,  1.72it/s]\n",
      "100%|███████████████████████████████████████████████████████████████████████████████████| 31/31 [00:18<00:00,  1.66it/s]\n",
      "100%|███████████████████████████████████████████████████████████████████████████████████| 31/31 [00:18<00:00,  1.67it/s]\n",
      "100%|███████████████████████████████████████████████████████████████████████████████████| 31/31 [00:18<00:00,  1.64it/s]\n",
      "100%|███████████████████████████████████████████████████████████████████████████████████| 31/31 [00:18<00:00,  1.69it/s]\n",
      "100%|███████████████████████████████████████████████████████████████████████████████████| 31/31 [00:18<00:00,  1.69it/s]\n",
      "100%|███████████████████████████████████████████████████████████████████████████████████| 31/31 [00:18<00:00,  1.69it/s]\n",
      "100%|███████████████████████████████████████████████████████████████████████████████████| 31/31 [00:17<00:00,  1.73it/s]\n",
      "100%|███████████████████████████████████████████████████████████████████████████████████| 31/31 [00:18<00:00,  1.69it/s]\n",
      "100%|███████████████████████████████████████████████████████████████████████████████████| 31/31 [00:18<00:00,  1.69it/s]\n"
     ]
    },
    {
     "name": "stdout",
     "output_type": "stream",
     "text": [
      "Epoch 5290 Validation Generator Loss: 11.5054\n",
      "11.505427360534668\n"
     ]
    },
    {
     "name": "stderr",
     "output_type": "stream",
     "text": [
      "100%|███████████████████████████████████████████████████████████████████████████████████| 31/31 [00:18<00:00,  1.68it/s]\n",
      "100%|███████████████████████████████████████████████████████████████████████████████████| 31/31 [00:17<00:00,  1.79it/s]\n",
      "100%|███████████████████████████████████████████████████████████████████████████████████| 31/31 [00:17<00:00,  1.80it/s]\n",
      "100%|███████████████████████████████████████████████████████████████████████████████████| 31/31 [00:18<00:00,  1.72it/s]\n",
      "100%|███████████████████████████████████████████████████████████████████████████████████| 31/31 [00:17<00:00,  1.74it/s]\n",
      "100%|███████████████████████████████████████████████████████████████████████████████████| 31/31 [00:18<00:00,  1.70it/s]\n",
      "100%|███████████████████████████████████████████████████████████████████████████████████| 31/31 [00:17<00:00,  1.76it/s]\n",
      "100%|███████████████████████████████████████████████████████████████████████████████████| 31/31 [00:17<00:00,  1.74it/s]\n",
      "100%|███████████████████████████████████████████████████████████████████████████████████| 31/31 [00:18<00:00,  1.66it/s]\n",
      "100%|███████████████████████████████████████████████████████████████████████████████████| 31/31 [00:18<00:00,  1.70it/s]\n"
     ]
    },
    {
     "name": "stdout",
     "output_type": "stream",
     "text": [
      "Epoch 5300 Validation Generator Loss: 14.4114\n",
      "14.411368370056152\n",
      "=> Saving checkpoint\n",
      "=> Saving checkpoint\n"
     ]
    },
    {
     "name": "stderr",
     "output_type": "stream",
     "text": [
      "100%|███████████████████████████████████████████████████████████████████████████████████| 31/31 [00:17<00:00,  1.74it/s]\n",
      "100%|███████████████████████████████████████████████████████████████████████████████████| 31/31 [00:18<00:00,  1.72it/s]\n",
      "100%|███████████████████████████████████████████████████████████████████████████████████| 31/31 [00:17<00:00,  1.73it/s]\n",
      "100%|███████████████████████████████████████████████████████████████████████████████████| 31/31 [00:17<00:00,  1.81it/s]\n",
      "100%|███████████████████████████████████████████████████████████████████████████████████| 31/31 [00:17<00:00,  1.82it/s]\n",
      "100%|███████████████████████████████████████████████████████████████████████████████████| 31/31 [00:16<00:00,  1.83it/s]\n",
      "100%|███████████████████████████████████████████████████████████████████████████████████| 31/31 [00:16<00:00,  1.82it/s]\n",
      "100%|███████████████████████████████████████████████████████████████████████████████████| 31/31 [00:17<00:00,  1.82it/s]\n",
      "100%|███████████████████████████████████████████████████████████████████████████████████| 31/31 [00:16<00:00,  1.86it/s]\n",
      "100%|███████████████████████████████████████████████████████████████████████████████████| 31/31 [00:17<00:00,  1.77it/s]\n"
     ]
    },
    {
     "name": "stdout",
     "output_type": "stream",
     "text": [
      "Epoch 5310 Validation Generator Loss: 17.0380\n",
      "17.037952423095703\n"
     ]
    },
    {
     "name": "stderr",
     "output_type": "stream",
     "text": [
      "100%|███████████████████████████████████████████████████████████████████████████████████| 31/31 [00:17<00:00,  1.78it/s]\n",
      "100%|███████████████████████████████████████████████████████████████████████████████████| 31/31 [00:17<00:00,  1.82it/s]\n",
      "100%|███████████████████████████████████████████████████████████████████████████████████| 31/31 [00:17<00:00,  1.79it/s]\n",
      "100%|███████████████████████████████████████████████████████████████████████████████████| 31/31 [00:16<00:00,  1.84it/s]\n",
      "100%|███████████████████████████████████████████████████████████████████████████████████| 31/31 [00:17<00:00,  1.82it/s]\n",
      "100%|███████████████████████████████████████████████████████████████████████████████████| 31/31 [00:17<00:00,  1.82it/s]\n",
      "100%|███████████████████████████████████████████████████████████████████████████████████| 31/31 [00:16<00:00,  1.82it/s]\n",
      "100%|███████████████████████████████████████████████████████████████████████████████████| 31/31 [00:17<00:00,  1.78it/s]\n",
      "100%|███████████████████████████████████████████████████████████████████████████████████| 31/31 [00:16<00:00,  1.84it/s]\n",
      "100%|███████████████████████████████████████████████████████████████████████████████████| 31/31 [00:17<00:00,  1.82it/s]\n"
     ]
    },
    {
     "name": "stdout",
     "output_type": "stream",
     "text": [
      "Epoch 5320 Validation Generator Loss: 12.5367\n",
      "12.536737442016602\n"
     ]
    },
    {
     "name": "stderr",
     "output_type": "stream",
     "text": [
      "100%|███████████████████████████████████████████████████████████████████████████████████| 31/31 [00:17<00:00,  1.81it/s]\n",
      "100%|███████████████████████████████████████████████████████████████████████████████████| 31/31 [00:17<00:00,  1.78it/s]\n",
      "100%|███████████████████████████████████████████████████████████████████████████████████| 31/31 [00:17<00:00,  1.73it/s]\n",
      "100%|███████████████████████████████████████████████████████████████████████████████████| 31/31 [00:18<00:00,  1.72it/s]\n",
      "100%|███████████████████████████████████████████████████████████████████████████████████| 31/31 [00:17<00:00,  1.76it/s]\n",
      "100%|███████████████████████████████████████████████████████████████████████████████████| 31/31 [00:17<00:00,  1.78it/s]\n",
      "100%|███████████████████████████████████████████████████████████████████████████████████| 31/31 [00:18<00:00,  1.71it/s]\n",
      "100%|███████████████████████████████████████████████████████████████████████████████████| 31/31 [00:17<00:00,  1.72it/s]\n",
      "100%|███████████████████████████████████████████████████████████████████████████████████| 31/31 [00:18<00:00,  1.71it/s]\n",
      "100%|███████████████████████████████████████████████████████████████████████████████████| 31/31 [00:18<00:00,  1.71it/s]\n"
     ]
    },
    {
     "name": "stdout",
     "output_type": "stream",
     "text": [
      "Epoch 5330 Validation Generator Loss: 13.3589\n",
      "13.358939170837402\n"
     ]
    },
    {
     "name": "stderr",
     "output_type": "stream",
     "text": [
      "100%|███████████████████████████████████████████████████████████████████████████████████| 31/31 [00:18<00:00,  1.71it/s]\n",
      "100%|███████████████████████████████████████████████████████████████████████████████████| 31/31 [00:18<00:00,  1.66it/s]\n",
      "100%|███████████████████████████████████████████████████████████████████████████████████| 31/31 [00:17<00:00,  1.76it/s]\n",
      "100%|███████████████████████████████████████████████████████████████████████████████████| 31/31 [00:17<00:00,  1.72it/s]\n",
      "100%|███████████████████████████████████████████████████████████████████████████████████| 31/31 [00:18<00:00,  1.69it/s]\n",
      "100%|███████████████████████████████████████████████████████████████████████████████████| 31/31 [00:18<00:00,  1.71it/s]\n",
      "100%|███████████████████████████████████████████████████████████████████████████████████| 31/31 [00:17<00:00,  1.74it/s]\n",
      "100%|███████████████████████████████████████████████████████████████████████████████████| 31/31 [00:17<00:00,  1.74it/s]\n",
      "100%|███████████████████████████████████████████████████████████████████████████████████| 31/31 [00:18<00:00,  1.69it/s]\n",
      "100%|███████████████████████████████████████████████████████████████████████████████████| 31/31 [00:18<00:00,  1.72it/s]\n"
     ]
    },
    {
     "name": "stdout",
     "output_type": "stream",
     "text": [
      "Epoch 5340 Validation Generator Loss: 11.3790\n",
      "11.378958702087402\n"
     ]
    },
    {
     "name": "stderr",
     "output_type": "stream",
     "text": [
      "100%|███████████████████████████████████████████████████████████████████████████████████| 31/31 [00:18<00:00,  1.70it/s]\n",
      "100%|███████████████████████████████████████████████████████████████████████████████████| 31/31 [00:18<00:00,  1.71it/s]\n",
      "100%|███████████████████████████████████████████████████████████████████████████████████| 31/31 [00:17<00:00,  1.78it/s]\n",
      "100%|███████████████████████████████████████████████████████████████████████████████████| 31/31 [00:17<00:00,  1.73it/s]\n",
      "100%|███████████████████████████████████████████████████████████████████████████████████| 31/31 [00:17<00:00,  1.73it/s]\n",
      "100%|███████████████████████████████████████████████████████████████████████████████████| 31/31 [00:17<00:00,  1.74it/s]\n",
      "100%|███████████████████████████████████████████████████████████████████████████████████| 31/31 [00:17<00:00,  1.75it/s]\n",
      "100%|███████████████████████████████████████████████████████████████████████████████████| 31/31 [00:18<00:00,  1.72it/s]\n",
      "100%|███████████████████████████████████████████████████████████████████████████████████| 31/31 [00:17<00:00,  1.76it/s]\n",
      "100%|███████████████████████████████████████████████████████████████████████████████████| 31/31 [00:17<00:00,  1.77it/s]\n"
     ]
    },
    {
     "name": "stdout",
     "output_type": "stream",
     "text": [
      "Epoch 5350 Validation Generator Loss: 12.4495\n",
      "12.449483871459961\n",
      "=> Saving checkpoint\n",
      "=> Saving checkpoint\n"
     ]
    },
    {
     "name": "stderr",
     "output_type": "stream",
     "text": [
      "100%|███████████████████████████████████████████████████████████████████████████████████| 31/31 [00:18<00:00,  1.72it/s]\n",
      "100%|███████████████████████████████████████████████████████████████████████████████████| 31/31 [00:17<00:00,  1.77it/s]\n",
      "100%|███████████████████████████████████████████████████████████████████████████████████| 31/31 [00:17<00:00,  1.76it/s]\n",
      "100%|███████████████████████████████████████████████████████████████████████████████████| 31/31 [00:17<00:00,  1.74it/s]\n",
      "100%|███████████████████████████████████████████████████████████████████████████████████| 31/31 [00:18<00:00,  1.70it/s]\n",
      "100%|███████████████████████████████████████████████████████████████████████████████████| 31/31 [00:17<00:00,  1.74it/s]\n",
      "100%|███████████████████████████████████████████████████████████████████████████████████| 31/31 [00:17<00:00,  1.77it/s]\n",
      "100%|███████████████████████████████████████████████████████████████████████████████████| 31/31 [00:17<00:00,  1.73it/s]\n",
      "100%|███████████████████████████████████████████████████████████████████████████████████| 31/31 [00:18<00:00,  1.67it/s]\n",
      "100%|███████████████████████████████████████████████████████████████████████████████████| 31/31 [00:17<00:00,  1.75it/s]\n"
     ]
    },
    {
     "name": "stdout",
     "output_type": "stream",
     "text": [
      "Epoch 5360 Validation Generator Loss: 13.9620\n",
      "13.96204948425293\n"
     ]
    },
    {
     "name": "stderr",
     "output_type": "stream",
     "text": [
      "100%|███████████████████████████████████████████████████████████████████████████████████| 31/31 [00:17<00:00,  1.75it/s]\n",
      "100%|███████████████████████████████████████████████████████████████████████████████████| 31/31 [00:17<00:00,  1.75it/s]\n",
      "100%|███████████████████████████████████████████████████████████████████████████████████| 31/31 [00:17<00:00,  1.80it/s]\n",
      "100%|███████████████████████████████████████████████████████████████████████████████████| 31/31 [00:17<00:00,  1.73it/s]\n",
      "100%|███████████████████████████████████████████████████████████████████████████████████| 31/31 [00:17<00:00,  1.79it/s]\n",
      "100%|███████████████████████████████████████████████████████████████████████████████████| 31/31 [00:17<00:00,  1.73it/s]\n",
      "100%|███████████████████████████████████████████████████████████████████████████████████| 31/31 [00:17<00:00,  1.74it/s]\n",
      "100%|███████████████████████████████████████████████████████████████████████████████████| 31/31 [00:16<00:00,  1.83it/s]\n",
      "100%|███████████████████████████████████████████████████████████████████████████████████| 31/31 [00:16<00:00,  1.85it/s]\n",
      "100%|███████████████████████████████████████████████████████████████████████████████████| 31/31 [00:17<00:00,  1.82it/s]\n"
     ]
    },
    {
     "name": "stdout",
     "output_type": "stream",
     "text": [
      "Epoch 5370 Validation Generator Loss: 14.6323\n",
      "14.632331848144531\n"
     ]
    },
    {
     "name": "stderr",
     "output_type": "stream",
     "text": [
      "100%|███████████████████████████████████████████████████████████████████████████████████| 31/31 [00:17<00:00,  1.76it/s]\n",
      "100%|███████████████████████████████████████████████████████████████████████████████████| 31/31 [00:17<00:00,  1.80it/s]\n",
      "100%|███████████████████████████████████████████████████████████████████████████████████| 31/31 [00:17<00:00,  1.79it/s]\n",
      "100%|███████████████████████████████████████████████████████████████████████████████████| 31/31 [00:16<00:00,  1.84it/s]\n",
      "100%|███████████████████████████████████████████████████████████████████████████████████| 31/31 [00:16<00:00,  1.83it/s]\n",
      "100%|███████████████████████████████████████████████████████████████████████████████████| 31/31 [00:16<00:00,  1.83it/s]\n",
      "100%|███████████████████████████████████████████████████████████████████████████████████| 31/31 [00:16<00:00,  1.83it/s]\n",
      "100%|███████████████████████████████████████████████████████████████████████████████████| 31/31 [00:17<00:00,  1.75it/s]\n",
      "100%|███████████████████████████████████████████████████████████████████████████████████| 31/31 [00:18<00:00,  1.71it/s]\n",
      "100%|███████████████████████████████████████████████████████████████████████████████████| 31/31 [00:17<00:00,  1.73it/s]\n"
     ]
    },
    {
     "name": "stdout",
     "output_type": "stream",
     "text": [
      "Epoch 5380 Validation Generator Loss: 13.4034\n",
      "13.403366088867188\n"
     ]
    },
    {
     "name": "stderr",
     "output_type": "stream",
     "text": [
      "100%|███████████████████████████████████████████████████████████████████████████████████| 31/31 [00:17<00:00,  1.76it/s]\n",
      "100%|███████████████████████████████████████████████████████████████████████████████████| 31/31 [00:17<00:00,  1.74it/s]\n",
      "100%|███████████████████████████████████████████████████████████████████████████████████| 31/31 [00:18<00:00,  1.72it/s]\n",
      "100%|███████████████████████████████████████████████████████████████████████████████████| 31/31 [00:17<00:00,  1.72it/s]\n",
      "100%|███████████████████████████████████████████████████████████████████████████████████| 31/31 [00:17<00:00,  1.77it/s]\n",
      "100%|███████████████████████████████████████████████████████████████████████████████████| 31/31 [00:17<00:00,  1.72it/s]\n",
      "100%|███████████████████████████████████████████████████████████████████████████████████| 31/31 [00:18<00:00,  1.68it/s]\n",
      "100%|███████████████████████████████████████████████████████████████████████████████████| 31/31 [00:18<00:00,  1.69it/s]\n",
      "100%|███████████████████████████████████████████████████████████████████████████████████| 31/31 [00:17<00:00,  1.73it/s]\n",
      "100%|███████████████████████████████████████████████████████████████████████████████████| 31/31 [00:18<00:00,  1.66it/s]\n"
     ]
    },
    {
     "name": "stdout",
     "output_type": "stream",
     "text": [
      "Epoch 5390 Validation Generator Loss: 18.5647\n",
      "18.564678192138672\n"
     ]
    },
    {
     "name": "stderr",
     "output_type": "stream",
     "text": [
      "100%|███████████████████████████████████████████████████████████████████████████████████| 31/31 [00:17<00:00,  1.72it/s]\n",
      "100%|███████████████████████████████████████████████████████████████████████████████████| 31/31 [00:17<00:00,  1.77it/s]\n",
      "100%|███████████████████████████████████████████████████████████████████████████████████| 31/31 [00:17<00:00,  1.75it/s]\n",
      "100%|███████████████████████████████████████████████████████████████████████████████████| 31/31 [00:17<00:00,  1.74it/s]\n",
      "100%|███████████████████████████████████████████████████████████████████████████████████| 31/31 [00:17<00:00,  1.74it/s]\n",
      "100%|███████████████████████████████████████████████████████████████████████████████████| 31/31 [00:17<00:00,  1.78it/s]\n",
      "100%|███████████████████████████████████████████████████████████████████████████████████| 31/31 [00:18<00:00,  1.72it/s]\n",
      "100%|███████████████████████████████████████████████████████████████████████████████████| 31/31 [00:18<00:00,  1.71it/s]\n",
      "100%|███████████████████████████████████████████████████████████████████████████████████| 31/31 [00:17<00:00,  1.79it/s]\n",
      "100%|███████████████████████████████████████████████████████████████████████████████████| 31/31 [00:17<00:00,  1.79it/s]\n"
     ]
    },
    {
     "name": "stdout",
     "output_type": "stream",
     "text": [
      "Epoch 5400 Validation Generator Loss: 18.7361\n",
      "18.736082077026367\n",
      "=> Saving checkpoint\n",
      "=> Saving checkpoint\n"
     ]
    },
    {
     "name": "stderr",
     "output_type": "stream",
     "text": [
      "100%|███████████████████████████████████████████████████████████████████████████████████| 31/31 [00:17<00:00,  1.73it/s]\n",
      "100%|███████████████████████████████████████████████████████████████████████████████████| 31/31 [00:18<00:00,  1.72it/s]\n",
      "100%|███████████████████████████████████████████████████████████████████████████████████| 31/31 [00:17<00:00,  1.74it/s]\n",
      "100%|███████████████████████████████████████████████████████████████████████████████████| 31/31 [00:17<00:00,  1.76it/s]\n",
      "100%|███████████████████████████████████████████████████████████████████████████████████| 31/31 [00:17<00:00,  1.75it/s]\n",
      "100%|███████████████████████████████████████████████████████████████████████████████████| 31/31 [00:17<00:00,  1.79it/s]\n",
      "100%|███████████████████████████████████████████████████████████████████████████████████| 31/31 [00:18<00:00,  1.68it/s]\n",
      "100%|███████████████████████████████████████████████████████████████████████████████████| 31/31 [00:17<00:00,  1.75it/s]\n",
      "100%|███████████████████████████████████████████████████████████████████████████████████| 31/31 [00:18<00:00,  1.66it/s]\n",
      "100%|███████████████████████████████████████████████████████████████████████████████████| 31/31 [00:17<00:00,  1.73it/s]\n"
     ]
    },
    {
     "name": "stdout",
     "output_type": "stream",
     "text": [
      "Epoch 5410 Validation Generator Loss: 18.1081\n",
      "18.10811424255371\n"
     ]
    },
    {
     "name": "stderr",
     "output_type": "stream",
     "text": [
      "100%|███████████████████████████████████████████████████████████████████████████████████| 31/31 [00:17<00:00,  1.73it/s]\n",
      "100%|███████████████████████████████████████████████████████████████████████████████████| 31/31 [00:17<00:00,  1.76it/s]\n",
      "100%|███████████████████████████████████████████████████████████████████████████████████| 31/31 [00:18<00:00,  1.68it/s]\n",
      "100%|███████████████████████████████████████████████████████████████████████████████████| 31/31 [00:18<00:00,  1.72it/s]\n",
      "100%|███████████████████████████████████████████████████████████████████████████████████| 31/31 [00:17<00:00,  1.74it/s]\n",
      "100%|███████████████████████████████████████████████████████████████████████████████████| 31/31 [00:17<00:00,  1.77it/s]\n",
      "100%|███████████████████████████████████████████████████████████████████████████████████| 31/31 [00:17<00:00,  1.74it/s]\n",
      "100%|███████████████████████████████████████████████████████████████████████████████████| 31/31 [00:17<00:00,  1.74it/s]\n",
      "100%|███████████████████████████████████████████████████████████████████████████████████| 31/31 [00:17<00:00,  1.77it/s]\n",
      "100%|███████████████████████████████████████████████████████████████████████████████████| 31/31 [00:18<00:00,  1.66it/s]\n"
     ]
    },
    {
     "name": "stdout",
     "output_type": "stream",
     "text": [
      "Epoch 5420 Validation Generator Loss: 13.5688\n",
      "13.568780899047852\n"
     ]
    },
    {
     "name": "stderr",
     "output_type": "stream",
     "text": [
      "100%|███████████████████████████████████████████████████████████████████████████████████| 31/31 [00:17<00:00,  1.75it/s]\n",
      "100%|███████████████████████████████████████████████████████████████████████████████████| 31/31 [00:17<00:00,  1.76it/s]\n",
      "100%|███████████████████████████████████████████████████████████████████████████████████| 31/31 [00:17<00:00,  1.77it/s]\n",
      "100%|███████████████████████████████████████████████████████████████████████████████████| 31/31 [00:17<00:00,  1.74it/s]\n",
      "100%|███████████████████████████████████████████████████████████████████████████████████| 31/31 [00:17<00:00,  1.74it/s]\n",
      "100%|███████████████████████████████████████████████████████████████████████████████████| 31/31 [00:18<00:00,  1.70it/s]\n",
      "100%|███████████████████████████████████████████████████████████████████████████████████| 31/31 [00:17<00:00,  1.73it/s]\n",
      "100%|███████████████████████████████████████████████████████████████████████████████████| 31/31 [00:17<00:00,  1.76it/s]\n",
      "100%|███████████████████████████████████████████████████████████████████████████████████| 31/31 [00:17<00:00,  1.75it/s]\n",
      "100%|███████████████████████████████████████████████████████████████████████████████████| 31/31 [00:18<00:00,  1.72it/s]\n"
     ]
    },
    {
     "name": "stdout",
     "output_type": "stream",
     "text": [
      "Epoch 5430 Validation Generator Loss: 17.0629\n",
      "17.06285858154297\n"
     ]
    },
    {
     "name": "stderr",
     "output_type": "stream",
     "text": [
      "100%|███████████████████████████████████████████████████████████████████████████████████| 31/31 [00:17<00:00,  1.73it/s]\n",
      "100%|███████████████████████████████████████████████████████████████████████████████████| 31/31 [00:18<00:00,  1.71it/s]\n",
      "100%|███████████████████████████████████████████████████████████████████████████████████| 31/31 [00:17<00:00,  1.73it/s]\n",
      "100%|███████████████████████████████████████████████████████████████████████████████████| 31/31 [00:17<00:00,  1.76it/s]\n",
      "100%|███████████████████████████████████████████████████████████████████████████████████| 31/31 [00:17<00:00,  1.77it/s]\n",
      "100%|███████████████████████████████████████████████████████████████████████████████████| 31/31 [00:18<00:00,  1.66it/s]\n",
      "100%|███████████████████████████████████████████████████████████████████████████████████| 31/31 [00:17<00:00,  1.77it/s]\n",
      "100%|███████████████████████████████████████████████████████████████████████████████████| 31/31 [00:17<00:00,  1.80it/s]\n",
      "100%|███████████████████████████████████████████████████████████████████████████████████| 31/31 [00:17<00:00,  1.76it/s]\n",
      "100%|███████████████████████████████████████████████████████████████████████████████████| 31/31 [00:17<00:00,  1.78it/s]\n"
     ]
    },
    {
     "name": "stdout",
     "output_type": "stream",
     "text": [
      "Epoch 5440 Validation Generator Loss: 11.2146\n",
      "11.214632987976074\n"
     ]
    },
    {
     "name": "stderr",
     "output_type": "stream",
     "text": [
      "100%|███████████████████████████████████████████████████████████████████████████████████| 31/31 [00:18<00:00,  1.69it/s]\n",
      "100%|███████████████████████████████████████████████████████████████████████████████████| 31/31 [00:18<00:00,  1.72it/s]\n",
      "100%|███████████████████████████████████████████████████████████████████████████████████| 31/31 [00:17<00:00,  1.74it/s]\n",
      "100%|███████████████████████████████████████████████████████████████████████████████████| 31/31 [00:18<00:00,  1.70it/s]\n",
      "100%|███████████████████████████████████████████████████████████████████████████████████| 31/31 [00:17<00:00,  1.75it/s]\n",
      "100%|███████████████████████████████████████████████████████████████████████████████████| 31/31 [00:17<00:00,  1.73it/s]\n",
      "100%|███████████████████████████████████████████████████████████████████████████████████| 31/31 [00:18<00:00,  1.67it/s]\n",
      "100%|███████████████████████████████████████████████████████████████████████████████████| 31/31 [00:18<00:00,  1.67it/s]\n",
      "100%|███████████████████████████████████████████████████████████████████████████████████| 31/31 [00:18<00:00,  1.72it/s]\n",
      "100%|███████████████████████████████████████████████████████████████████████████████████| 31/31 [00:17<00:00,  1.75it/s]\n"
     ]
    },
    {
     "name": "stdout",
     "output_type": "stream",
     "text": [
      "Epoch 5450 Validation Generator Loss: 11.2834\n",
      "11.283422470092773\n",
      "=> Saving checkpoint\n",
      "=> Saving checkpoint\n"
     ]
    },
    {
     "name": "stderr",
     "output_type": "stream",
     "text": [
      "100%|███████████████████████████████████████████████████████████████████████████████████| 31/31 [00:17<00:00,  1.74it/s]\n",
      "100%|███████████████████████████████████████████████████████████████████████████████████| 31/31 [00:17<00:00,  1.74it/s]\n",
      "100%|███████████████████████████████████████████████████████████████████████████████████| 31/31 [00:18<00:00,  1.71it/s]\n",
      "100%|███████████████████████████████████████████████████████████████████████████████████| 31/31 [00:18<00:00,  1.71it/s]\n",
      "100%|███████████████████████████████████████████████████████████████████████████████████| 31/31 [00:17<00:00,  1.76it/s]\n",
      "100%|███████████████████████████████████████████████████████████████████████████████████| 31/31 [00:18<00:00,  1.66it/s]\n",
      "100%|███████████████████████████████████████████████████████████████████████████████████| 31/31 [00:17<00:00,  1.73it/s]\n",
      "100%|███████████████████████████████████████████████████████████████████████████████████| 31/31 [00:18<00:00,  1.67it/s]\n",
      "100%|███████████████████████████████████████████████████████████████████████████████████| 31/31 [00:18<00:00,  1.65it/s]\n",
      "100%|███████████████████████████████████████████████████████████████████████████████████| 31/31 [00:18<00:00,  1.72it/s]\n"
     ]
    },
    {
     "name": "stdout",
     "output_type": "stream",
     "text": [
      "Epoch 5460 Validation Generator Loss: 9.7566\n",
      "9.756567001342773\n"
     ]
    },
    {
     "name": "stderr",
     "output_type": "stream",
     "text": [
      "100%|███████████████████████████████████████████████████████████████████████████████████| 31/31 [00:17<00:00,  1.75it/s]\n",
      "100%|███████████████████████████████████████████████████████████████████████████████████| 31/31 [00:17<00:00,  1.73it/s]\n",
      "100%|███████████████████████████████████████████████████████████████████████████████████| 31/31 [00:18<00:00,  1.69it/s]\n",
      "100%|███████████████████████████████████████████████████████████████████████████████████| 31/31 [00:18<00:00,  1.68it/s]\n",
      "100%|███████████████████████████████████████████████████████████████████████████████████| 31/31 [00:17<00:00,  1.74it/s]\n",
      "100%|███████████████████████████████████████████████████████████████████████████████████| 31/31 [00:17<00:00,  1.73it/s]\n",
      "100%|███████████████████████████████████████████████████████████████████████████████████| 31/31 [00:17<00:00,  1.74it/s]\n",
      "100%|███████████████████████████████████████████████████████████████████████████████████| 31/31 [00:17<00:00,  1.78it/s]\n",
      "100%|███████████████████████████████████████████████████████████████████████████████████| 31/31 [00:18<00:00,  1.71it/s]\n",
      "100%|███████████████████████████████████████████████████████████████████████████████████| 31/31 [00:18<00:00,  1.72it/s]\n"
     ]
    },
    {
     "name": "stdout",
     "output_type": "stream",
     "text": [
      "Epoch 5470 Validation Generator Loss: 18.1859\n",
      "18.185949325561523\n"
     ]
    },
    {
     "name": "stderr",
     "output_type": "stream",
     "text": [
      "100%|███████████████████████████████████████████████████████████████████████████████████| 31/31 [00:18<00:00,  1.69it/s]\n",
      "100%|███████████████████████████████████████████████████████████████████████████████████| 31/31 [00:17<00:00,  1.74it/s]\n",
      "100%|███████████████████████████████████████████████████████████████████████████████████| 31/31 [00:17<00:00,  1.75it/s]\n",
      "100%|███████████████████████████████████████████████████████████████████████████████████| 31/31 [00:18<00:00,  1.71it/s]\n",
      "100%|███████████████████████████████████████████████████████████████████████████████████| 31/31 [00:18<00:00,  1.68it/s]\n",
      "100%|███████████████████████████████████████████████████████████████████████████████████| 31/31 [00:17<00:00,  1.74it/s]\n",
      "100%|███████████████████████████████████████████████████████████████████████████████████| 31/31 [00:17<00:00,  1.75it/s]\n",
      "100%|███████████████████████████████████████████████████████████████████████████████████| 31/31 [00:17<00:00,  1.75it/s]\n",
      "100%|███████████████████████████████████████████████████████████████████████████████████| 31/31 [00:18<00:00,  1.69it/s]\n",
      "100%|███████████████████████████████████████████████████████████████████████████████████| 31/31 [00:17<00:00,  1.76it/s]\n"
     ]
    },
    {
     "name": "stdout",
     "output_type": "stream",
     "text": [
      "Epoch 5480 Validation Generator Loss: 14.1214\n",
      "14.121404647827148\n"
     ]
    },
    {
     "name": "stderr",
     "output_type": "stream",
     "text": [
      "100%|███████████████████████████████████████████████████████████████████████████████████| 31/31 [00:17<00:00,  1.74it/s]\n",
      "100%|███████████████████████████████████████████████████████████████████████████████████| 31/31 [00:18<00:00,  1.72it/s]\n",
      "100%|███████████████████████████████████████████████████████████████████████████████████| 31/31 [00:18<00:00,  1.68it/s]\n",
      "100%|███████████████████████████████████████████████████████████████████████████████████| 31/31 [00:17<00:00,  1.73it/s]\n",
      "100%|███████████████████████████████████████████████████████████████████████████████████| 31/31 [00:17<00:00,  1.75it/s]\n",
      "100%|███████████████████████████████████████████████████████████████████████████████████| 31/31 [00:17<00:00,  1.75it/s]\n",
      "100%|███████████████████████████████████████████████████████████████████████████████████| 31/31 [00:18<00:00,  1.69it/s]\n",
      "100%|███████████████████████████████████████████████████████████████████████████████████| 31/31 [00:18<00:00,  1.71it/s]\n",
      "100%|███████████████████████████████████████████████████████████████████████████████████| 31/31 [00:17<00:00,  1.75it/s]\n",
      "100%|███████████████████████████████████████████████████████████████████████████████████| 31/31 [00:18<00:00,  1.69it/s]\n"
     ]
    },
    {
     "name": "stdout",
     "output_type": "stream",
     "text": [
      "Epoch 5490 Validation Generator Loss: 19.0764\n",
      "19.07638168334961\n"
     ]
    },
    {
     "name": "stderr",
     "output_type": "stream",
     "text": [
      "100%|███████████████████████████████████████████████████████████████████████████████████| 31/31 [00:17<00:00,  1.75it/s]\n",
      "100%|███████████████████████████████████████████████████████████████████████████████████| 31/31 [00:18<00:00,  1.70it/s]\n",
      "100%|███████████████████████████████████████████████████████████████████████████████████| 31/31 [00:17<00:00,  1.75it/s]\n",
      "100%|███████████████████████████████████████████████████████████████████████████████████| 31/31 [00:18<00:00,  1.70it/s]\n",
      "100%|███████████████████████████████████████████████████████████████████████████████████| 31/31 [00:17<00:00,  1.76it/s]\n",
      "100%|███████████████████████████████████████████████████████████████████████████████████| 31/31 [00:17<00:00,  1.75it/s]\n",
      "100%|███████████████████████████████████████████████████████████████████████████████████| 31/31 [00:17<00:00,  1.74it/s]\n",
      "100%|███████████████████████████████████████████████████████████████████████████████████| 31/31 [00:17<00:00,  1.74it/s]\n",
      "100%|███████████████████████████████████████████████████████████████████████████████████| 31/31 [00:17<00:00,  1.79it/s]\n",
      "100%|███████████████████████████████████████████████████████████████████████████████████| 31/31 [00:17<00:00,  1.79it/s]\n"
     ]
    },
    {
     "name": "stdout",
     "output_type": "stream",
     "text": [
      "Epoch 5500 Validation Generator Loss: 18.8572\n",
      "18.85720443725586\n",
      "=> Saving checkpoint\n",
      "=> Saving checkpoint\n"
     ]
    },
    {
     "name": "stderr",
     "output_type": "stream",
     "text": [
      "100%|███████████████████████████████████████████████████████████████████████████████████| 31/31 [00:17<00:00,  1.75it/s]\n",
      "100%|███████████████████████████████████████████████████████████████████████████████████| 31/31 [00:17<00:00,  1.79it/s]\n",
      "100%|███████████████████████████████████████████████████████████████████████████████████| 31/31 [00:17<00:00,  1.74it/s]\n",
      "100%|███████████████████████████████████████████████████████████████████████████████████| 31/31 [00:17<00:00,  1.76it/s]\n",
      "100%|███████████████████████████████████████████████████████████████████████████████████| 31/31 [00:18<00:00,  1.66it/s]\n",
      "100%|███████████████████████████████████████████████████████████████████████████████████| 31/31 [00:17<00:00,  1.76it/s]\n",
      "100%|███████████████████████████████████████████████████████████████████████████████████| 31/31 [00:17<00:00,  1.73it/s]\n",
      "100%|███████████████████████████████████████████████████████████████████████████████████| 31/31 [00:17<00:00,  1.74it/s]\n",
      "100%|███████████████████████████████████████████████████████████████████████████████████| 31/31 [00:17<00:00,  1.74it/s]\n",
      "100%|███████████████████████████████████████████████████████████████████████████████████| 31/31 [00:18<00:00,  1.71it/s]\n"
     ]
    },
    {
     "name": "stdout",
     "output_type": "stream",
     "text": [
      "Epoch 5510 Validation Generator Loss: 13.3010\n",
      "13.300999641418457\n"
     ]
    },
    {
     "name": "stderr",
     "output_type": "stream",
     "text": [
      "100%|███████████████████████████████████████████████████████████████████████████████████| 31/31 [00:18<00:00,  1.66it/s]\n",
      "100%|███████████████████████████████████████████████████████████████████████████████████| 31/31 [00:17<00:00,  1.76it/s]\n",
      "100%|███████████████████████████████████████████████████████████████████████████████████| 31/31 [00:17<00:00,  1.73it/s]\n",
      "100%|███████████████████████████████████████████████████████████████████████████████████| 31/31 [00:17<00:00,  1.74it/s]\n",
      "100%|███████████████████████████████████████████████████████████████████████████████████| 31/31 [00:17<00:00,  1.76it/s]\n",
      "100%|███████████████████████████████████████████████████████████████████████████████████| 31/31 [00:17<00:00,  1.78it/s]\n",
      "100%|███████████████████████████████████████████████████████████████████████████████████| 31/31 [00:18<00:00,  1.72it/s]\n",
      "100%|███████████████████████████████████████████████████████████████████████████████████| 31/31 [00:17<00:00,  1.73it/s]\n",
      "100%|███████████████████████████████████████████████████████████████████████████████████| 31/31 [00:17<00:00,  1.77it/s]\n",
      "100%|███████████████████████████████████████████████████████████████████████████████████| 31/31 [00:17<00:00,  1.75it/s]\n"
     ]
    },
    {
     "name": "stdout",
     "output_type": "stream",
     "text": [
      "Epoch 5520 Validation Generator Loss: 18.2679\n",
      "18.267908096313477\n"
     ]
    },
    {
     "name": "stderr",
     "output_type": "stream",
     "text": [
      "100%|███████████████████████████████████████████████████████████████████████████████████| 31/31 [00:18<00:00,  1.71it/s]\n",
      "100%|███████████████████████████████████████████████████████████████████████████████████| 31/31 [00:18<00:00,  1.71it/s]\n",
      "100%|███████████████████████████████████████████████████████████████████████████████████| 31/31 [00:18<00:00,  1.63it/s]\n",
      "100%|███████████████████████████████████████████████████████████████████████████████████| 31/31 [00:18<00:00,  1.71it/s]\n",
      "100%|███████████████████████████████████████████████████████████████████████████████████| 31/31 [00:17<00:00,  1.72it/s]\n",
      "100%|███████████████████████████████████████████████████████████████████████████████████| 31/31 [00:17<00:00,  1.74it/s]\n",
      "100%|███████████████████████████████████████████████████████████████████████████████████| 31/31 [00:17<00:00,  1.76it/s]\n",
      "100%|███████████████████████████████████████████████████████████████████████████████████| 31/31 [00:18<00:00,  1.71it/s]\n",
      "100%|███████████████████████████████████████████████████████████████████████████████████| 31/31 [00:17<00:00,  1.73it/s]\n",
      "100%|███████████████████████████████████████████████████████████████████████████████████| 31/31 [00:18<00:00,  1.71it/s]\n"
     ]
    },
    {
     "name": "stdout",
     "output_type": "stream",
     "text": [
      "Epoch 5530 Validation Generator Loss: 9.3416\n",
      "9.341556549072266\n"
     ]
    },
    {
     "name": "stderr",
     "output_type": "stream",
     "text": [
      "100%|███████████████████████████████████████████████████████████████████████████████████| 31/31 [00:17<00:00,  1.75it/s]\n",
      "100%|███████████████████████████████████████████████████████████████████████████████████| 31/31 [00:17<00:00,  1.76it/s]\n",
      "100%|███████████████████████████████████████████████████████████████████████████████████| 31/31 [00:18<00:00,  1.68it/s]\n",
      "100%|███████████████████████████████████████████████████████████████████████████████████| 31/31 [00:18<00:00,  1.71it/s]\n",
      "100%|███████████████████████████████████████████████████████████████████████████████████| 31/31 [00:18<00:00,  1.72it/s]\n",
      "100%|███████████████████████████████████████████████████████████████████████████████████| 31/31 [00:17<00:00,  1.73it/s]\n",
      "100%|███████████████████████████████████████████████████████████████████████████████████| 31/31 [00:17<00:00,  1.75it/s]\n",
      "100%|███████████████████████████████████████████████████████████████████████████████████| 31/31 [00:18<00:00,  1.69it/s]\n",
      "100%|███████████████████████████████████████████████████████████████████████████████████| 31/31 [00:18<00:00,  1.72it/s]\n",
      "100%|███████████████████████████████████████████████████████████████████████████████████| 31/31 [00:17<00:00,  1.80it/s]\n"
     ]
    },
    {
     "name": "stdout",
     "output_type": "stream",
     "text": [
      "Epoch 5540 Validation Generator Loss: 22.6829\n",
      "22.682884216308594\n"
     ]
    },
    {
     "name": "stderr",
     "output_type": "stream",
     "text": [
      "100%|███████████████████████████████████████████████████████████████████████████████████| 31/31 [00:18<00:00,  1.72it/s]\n",
      "100%|███████████████████████████████████████████████████████████████████████████████████| 31/31 [00:17<00:00,  1.73it/s]\n",
      "100%|███████████████████████████████████████████████████████████████████████████████████| 31/31 [00:17<00:00,  1.73it/s]\n",
      "100%|███████████████████████████████████████████████████████████████████████████████████| 31/31 [00:18<00:00,  1.70it/s]\n",
      "100%|███████████████████████████████████████████████████████████████████████████████████| 31/31 [00:18<00:00,  1.72it/s]\n",
      "100%|███████████████████████████████████████████████████████████████████████████████████| 31/31 [00:17<00:00,  1.75it/s]\n",
      "100%|███████████████████████████████████████████████████████████████████████████████████| 31/31 [00:17<00:00,  1.75it/s]\n",
      "100%|███████████████████████████████████████████████████████████████████████████████████| 31/31 [00:18<00:00,  1.70it/s]\n",
      "100%|███████████████████████████████████████████████████████████████████████████████████| 31/31 [00:18<00:00,  1.65it/s]\n",
      "100%|███████████████████████████████████████████████████████████████████████████████████| 31/31 [00:18<00:00,  1.69it/s]\n"
     ]
    },
    {
     "name": "stdout",
     "output_type": "stream",
     "text": [
      "Epoch 5550 Validation Generator Loss: 14.2940\n",
      "14.29401969909668\n",
      "=> Saving checkpoint\n",
      "=> Saving checkpoint\n"
     ]
    },
    {
     "name": "stderr",
     "output_type": "stream",
     "text": [
      "100%|███████████████████████████████████████████████████████████████████████████████████| 31/31 [00:17<00:00,  1.77it/s]\n",
      "100%|███████████████████████████████████████████████████████████████████████████████████| 31/31 [00:18<00:00,  1.72it/s]\n",
      "100%|███████████████████████████████████████████████████████████████████████████████████| 31/31 [00:17<00:00,  1.74it/s]\n",
      "100%|███████████████████████████████████████████████████████████████████████████████████| 31/31 [00:18<00:00,  1.70it/s]\n",
      "100%|███████████████████████████████████████████████████████████████████████████████████| 31/31 [00:18<00:00,  1.71it/s]\n",
      "100%|███████████████████████████████████████████████████████████████████████████████████| 31/31 [00:17<00:00,  1.75it/s]\n",
      "100%|███████████████████████████████████████████████████████████████████████████████████| 31/31 [00:17<00:00,  1.74it/s]\n",
      "100%|███████████████████████████████████████████████████████████████████████████████████| 31/31 [00:18<00:00,  1.68it/s]\n",
      "100%|███████████████████████████████████████████████████████████████████████████████████| 31/31 [00:17<00:00,  1.74it/s]\n",
      "100%|███████████████████████████████████████████████████████████████████████████████████| 31/31 [00:17<00:00,  1.73it/s]\n"
     ]
    },
    {
     "name": "stdout",
     "output_type": "stream",
     "text": [
      "Epoch 5560 Validation Generator Loss: 16.8937\n",
      "16.893686294555664\n"
     ]
    },
    {
     "name": "stderr",
     "output_type": "stream",
     "text": [
      "100%|███████████████████████████████████████████████████████████████████████████████████| 31/31 [00:17<00:00,  1.73it/s]\n",
      "100%|███████████████████████████████████████████████████████████████████████████████████| 31/31 [00:18<00:00,  1.71it/s]\n",
      "100%|███████████████████████████████████████████████████████████████████████████████████| 31/31 [00:18<00:00,  1.68it/s]\n",
      "100%|███████████████████████████████████████████████████████████████████████████████████| 31/31 [00:18<00:00,  1.72it/s]\n",
      "100%|███████████████████████████████████████████████████████████████████████████████████| 31/31 [00:17<00:00,  1.73it/s]\n",
      "100%|███████████████████████████████████████████████████████████████████████████████████| 31/31 [00:18<00:00,  1.71it/s]\n",
      "100%|███████████████████████████████████████████████████████████████████████████████████| 31/31 [00:17<00:00,  1.76it/s]\n",
      "100%|███████████████████████████████████████████████████████████████████████████████████| 31/31 [00:18<00:00,  1.71it/s]\n",
      "100%|███████████████████████████████████████████████████████████████████████████████████| 31/31 [00:17<00:00,  1.79it/s]\n",
      "100%|███████████████████████████████████████████████████████████████████████████████████| 31/31 [00:16<00:00,  1.85it/s]\n"
     ]
    },
    {
     "name": "stdout",
     "output_type": "stream",
     "text": [
      "Epoch 5570 Validation Generator Loss: 11.0952\n",
      "11.095220565795898\n"
     ]
    },
    {
     "name": "stderr",
     "output_type": "stream",
     "text": [
      "100%|███████████████████████████████████████████████████████████████████████████████████| 31/31 [00:17<00:00,  1.81it/s]\n",
      "100%|███████████████████████████████████████████████████████████████████████████████████| 31/31 [00:17<00:00,  1.79it/s]\n",
      "100%|███████████████████████████████████████████████████████████████████████████████████| 31/31 [00:16<00:00,  1.84it/s]\n",
      "100%|███████████████████████████████████████████████████████████████████████████████████| 31/31 [00:16<00:00,  1.83it/s]\n",
      "100%|███████████████████████████████████████████████████████████████████████████████████| 31/31 [00:17<00:00,  1.79it/s]\n",
      "100%|███████████████████████████████████████████████████████████████████████████████████| 31/31 [00:18<00:00,  1.69it/s]\n",
      "100%|███████████████████████████████████████████████████████████████████████████████████| 31/31 [00:18<00:00,  1.70it/s]\n",
      "100%|███████████████████████████████████████████████████████████████████████████████████| 31/31 [00:17<00:00,  1.75it/s]\n",
      "100%|███████████████████████████████████████████████████████████████████████████████████| 31/31 [00:18<00:00,  1.72it/s]\n",
      "100%|███████████████████████████████████████████████████████████████████████████████████| 31/31 [00:17<00:00,  1.76it/s]\n"
     ]
    },
    {
     "name": "stdout",
     "output_type": "stream",
     "text": [
      "Epoch 5580 Validation Generator Loss: 12.6781\n",
      "12.678083419799805\n"
     ]
    },
    {
     "name": "stderr",
     "output_type": "stream",
     "text": [
      "100%|███████████████████████████████████████████████████████████████████████████████████| 31/31 [00:18<00:00,  1.70it/s]\n",
      "100%|███████████████████████████████████████████████████████████████████████████████████| 31/31 [00:17<00:00,  1.77it/s]\n",
      "100%|███████████████████████████████████████████████████████████████████████████████████| 31/31 [00:16<00:00,  1.86it/s]\n",
      "100%|███████████████████████████████████████████████████████████████████████████████████| 31/31 [00:17<00:00,  1.81it/s]\n",
      "100%|███████████████████████████████████████████████████████████████████████████████████| 31/31 [00:17<00:00,  1.80it/s]\n",
      "100%|███████████████████████████████████████████████████████████████████████████████████| 31/31 [00:17<00:00,  1.79it/s]\n",
      "100%|███████████████████████████████████████████████████████████████████████████████████| 31/31 [00:16<00:00,  1.84it/s]\n",
      "100%|███████████████████████████████████████████████████████████████████████████████████| 31/31 [00:17<00:00,  1.79it/s]\n",
      "100%|███████████████████████████████████████████████████████████████████████████████████| 31/31 [00:18<00:00,  1.71it/s]\n",
      "100%|███████████████████████████████████████████████████████████████████████████████████| 31/31 [00:17<00:00,  1.75it/s]\n"
     ]
    },
    {
     "name": "stdout",
     "output_type": "stream",
     "text": [
      "Epoch 5590 Validation Generator Loss: 12.7288\n",
      "12.728813171386719\n"
     ]
    },
    {
     "name": "stderr",
     "output_type": "stream",
     "text": [
      "100%|███████████████████████████████████████████████████████████████████████████████████| 31/31 [00:17<00:00,  1.79it/s]\n",
      "100%|███████████████████████████████████████████████████████████████████████████████████| 31/31 [00:17<00:00,  1.74it/s]\n",
      "100%|███████████████████████████████████████████████████████████████████████████████████| 31/31 [00:17<00:00,  1.75it/s]\n",
      "100%|███████████████████████████████████████████████████████████████████████████████████| 31/31 [00:17<00:00,  1.76it/s]\n",
      "100%|███████████████████████████████████████████████████████████████████████████████████| 31/31 [00:18<00:00,  1.68it/s]\n",
      "100%|███████████████████████████████████████████████████████████████████████████████████| 31/31 [00:18<00:00,  1.67it/s]\n",
      "100%|███████████████████████████████████████████████████████████████████████████████████| 31/31 [00:16<00:00,  1.83it/s]\n",
      "100%|███████████████████████████████████████████████████████████████████████████████████| 31/31 [00:17<00:00,  1.81it/s]\n",
      "100%|███████████████████████████████████████████████████████████████████████████████████| 31/31 [00:17<00:00,  1.73it/s]\n",
      "100%|███████████████████████████████████████████████████████████████████████████████████| 31/31 [00:17<00:00,  1.72it/s]\n"
     ]
    },
    {
     "name": "stdout",
     "output_type": "stream",
     "text": [
      "Epoch 5600 Validation Generator Loss: 12.4272\n",
      "12.427162170410156\n",
      "=> Saving checkpoint\n",
      "=> Saving checkpoint\n"
     ]
    },
    {
     "name": "stderr",
     "output_type": "stream",
     "text": [
      "100%|███████████████████████████████████████████████████████████████████████████████████| 31/31 [00:17<00:00,  1.79it/s]\n",
      "100%|███████████████████████████████████████████████████████████████████████████████████| 31/31 [00:17<00:00,  1.79it/s]\n",
      "100%|███████████████████████████████████████████████████████████████████████████████████| 31/31 [00:16<00:00,  1.84it/s]\n",
      "100%|███████████████████████████████████████████████████████████████████████████████████| 31/31 [00:16<00:00,  1.84it/s]\n",
      "100%|███████████████████████████████████████████████████████████████████████████████████| 31/31 [00:17<00:00,  1.72it/s]\n",
      "100%|███████████████████████████████████████████████████████████████████████████████████| 31/31 [00:17<00:00,  1.72it/s]\n",
      "100%|███████████████████████████████████████████████████████████████████████████████████| 31/31 [00:18<00:00,  1.67it/s]\n",
      "100%|███████████████████████████████████████████████████████████████████████████████████| 31/31 [00:17<00:00,  1.78it/s]\n",
      "100%|███████████████████████████████████████████████████████████████████████████████████| 31/31 [00:17<00:00,  1.81it/s]\n",
      "100%|███████████████████████████████████████████████████████████████████████████████████| 31/31 [00:17<00:00,  1.82it/s]\n"
     ]
    },
    {
     "name": "stdout",
     "output_type": "stream",
     "text": [
      "Epoch 5610 Validation Generator Loss: 15.3657\n",
      "15.365669250488281\n"
     ]
    },
    {
     "name": "stderr",
     "output_type": "stream",
     "text": [
      "100%|███████████████████████████████████████████████████████████████████████████████████| 31/31 [00:17<00:00,  1.73it/s]\n",
      "100%|███████████████████████████████████████████████████████████████████████████████████| 31/31 [00:17<00:00,  1.77it/s]\n",
      "100%|███████████████████████████████████████████████████████████████████████████████████| 31/31 [00:18<00:00,  1.68it/s]\n",
      "100%|███████████████████████████████████████████████████████████████████████████████████| 31/31 [00:17<00:00,  1.74it/s]\n",
      "100%|███████████████████████████████████████████████████████████████████████████████████| 31/31 [00:17<00:00,  1.77it/s]\n",
      "100%|███████████████████████████████████████████████████████████████████████████████████| 31/31 [00:17<00:00,  1.81it/s]\n",
      "100%|███████████████████████████████████████████████████████████████████████████████████| 31/31 [00:16<00:00,  1.85it/s]\n",
      "100%|███████████████████████████████████████████████████████████████████████████████████| 31/31 [00:17<00:00,  1.82it/s]\n",
      "100%|███████████████████████████████████████████████████████████████████████████████████| 31/31 [00:16<00:00,  1.83it/s]\n",
      "100%|███████████████████████████████████████████████████████████████████████████████████| 31/31 [00:16<00:00,  1.83it/s]\n"
     ]
    },
    {
     "name": "stdout",
     "output_type": "stream",
     "text": [
      "Epoch 5620 Validation Generator Loss: 11.8018\n",
      "11.801824569702148\n"
     ]
    },
    {
     "name": "stderr",
     "output_type": "stream",
     "text": [
      "100%|███████████████████████████████████████████████████████████████████████████████████| 31/31 [00:17<00:00,  1.81it/s]\n",
      "100%|███████████████████████████████████████████████████████████████████████████████████| 31/31 [00:17<00:00,  1.79it/s]\n",
      "100%|███████████████████████████████████████████████████████████████████████████████████| 31/31 [00:17<00:00,  1.82it/s]\n",
      "100%|███████████████████████████████████████████████████████████████████████████████████| 31/31 [00:17<00:00,  1.80it/s]\n",
      "100%|███████████████████████████████████████████████████████████████████████████████████| 31/31 [00:17<00:00,  1.80it/s]\n",
      "100%|███████████████████████████████████████████████████████████████████████████████████| 31/31 [00:17<00:00,  1.79it/s]\n",
      "100%|███████████████████████████████████████████████████████████████████████████████████| 31/31 [00:16<00:00,  1.84it/s]\n",
      "100%|███████████████████████████████████████████████████████████████████████████████████| 31/31 [00:17<00:00,  1.81it/s]\n",
      "100%|███████████████████████████████████████████████████████████████████████████████████| 31/31 [00:17<00:00,  1.82it/s]\n",
      "100%|███████████████████████████████████████████████████████████████████████████████████| 31/31 [00:16<00:00,  1.83it/s]\n"
     ]
    },
    {
     "name": "stdout",
     "output_type": "stream",
     "text": [
      "Epoch 5630 Validation Generator Loss: 14.3153\n",
      "14.315311431884766\n"
     ]
    },
    {
     "name": "stderr",
     "output_type": "stream",
     "text": [
      "100%|███████████████████████████████████████████████████████████████████████████████████| 31/31 [00:16<00:00,  1.83it/s]\n",
      "100%|███████████████████████████████████████████████████████████████████████████████████| 31/31 [00:16<00:00,  1.86it/s]\n",
      "100%|███████████████████████████████████████████████████████████████████████████████████| 31/31 [00:17<00:00,  1.82it/s]\n",
      "100%|███████████████████████████████████████████████████████████████████████████████████| 31/31 [00:16<00:00,  1.83it/s]\n",
      "100%|███████████████████████████████████████████████████████████████████████████████████| 31/31 [00:16<00:00,  1.84it/s]\n",
      "100%|███████████████████████████████████████████████████████████████████████████████████| 31/31 [00:17<00:00,  1.82it/s]\n",
      "100%|███████████████████████████████████████████████████████████████████████████████████| 31/31 [00:17<00:00,  1.81it/s]\n",
      "100%|███████████████████████████████████████████████████████████████████████████████████| 31/31 [00:16<00:00,  1.83it/s]\n",
      "100%|███████████████████████████████████████████████████████████████████████████████████| 31/31 [00:16<00:00,  1.85it/s]\n",
      "100%|███████████████████████████████████████████████████████████████████████████████████| 31/31 [00:17<00:00,  1.80it/s]\n"
     ]
    },
    {
     "name": "stdout",
     "output_type": "stream",
     "text": [
      "Epoch 5640 Validation Generator Loss: 18.1093\n",
      "18.109283447265625\n"
     ]
    },
    {
     "name": "stderr",
     "output_type": "stream",
     "text": [
      "100%|███████████████████████████████████████████████████████████████████████████████████| 31/31 [00:16<00:00,  1.87it/s]\n",
      "100%|███████████████████████████████████████████████████████████████████████████████████| 31/31 [00:16<00:00,  1.83it/s]\n",
      "100%|███████████████████████████████████████████████████████████████████████████████████| 31/31 [00:16<00:00,  1.83it/s]\n",
      "100%|███████████████████████████████████████████████████████████████████████████████████| 31/31 [00:17<00:00,  1.80it/s]\n",
      "100%|███████████████████████████████████████████████████████████████████████████████████| 31/31 [00:16<00:00,  1.86it/s]\n",
      "100%|███████████████████████████████████████████████████████████████████████████████████| 31/31 [00:16<00:00,  1.86it/s]\n",
      "100%|███████████████████████████████████████████████████████████████████████████████████| 31/31 [00:17<00:00,  1.82it/s]\n",
      "100%|███████████████████████████████████████████████████████████████████████████████████| 31/31 [00:16<00:00,  1.84it/s]\n",
      "100%|███████████████████████████████████████████████████████████████████████████████████| 31/31 [00:17<00:00,  1.81it/s]\n",
      "100%|███████████████████████████████████████████████████████████████████████████████████| 31/31 [00:16<00:00,  1.87it/s]\n"
     ]
    },
    {
     "name": "stdout",
     "output_type": "stream",
     "text": [
      "Epoch 5650 Validation Generator Loss: 21.5442\n",
      "21.544174194335938\n",
      "=> Saving checkpoint\n",
      "=> Saving checkpoint\n"
     ]
    },
    {
     "name": "stderr",
     "output_type": "stream",
     "text": [
      "100%|███████████████████████████████████████████████████████████████████████████████████| 31/31 [00:16<00:00,  1.85it/s]\n",
      "100%|███████████████████████████████████████████████████████████████████████████████████| 31/31 [00:16<00:00,  1.83it/s]\n",
      "100%|███████████████████████████████████████████████████████████████████████████████████| 31/31 [00:16<00:00,  1.84it/s]\n",
      "100%|███████████████████████████████████████████████████████████████████████████████████| 31/31 [00:17<00:00,  1.80it/s]\n",
      "100%|███████████████████████████████████████████████████████████████████████████████████| 31/31 [00:16<00:00,  1.83it/s]\n",
      "100%|███████████████████████████████████████████████████████████████████████████████████| 31/31 [00:16<00:00,  1.83it/s]\n",
      "100%|███████████████████████████████████████████████████████████████████████████████████| 31/31 [00:16<00:00,  1.86it/s]\n",
      "100%|███████████████████████████████████████████████████████████████████████████████████| 31/31 [00:17<00:00,  1.79it/s]\n",
      "100%|███████████████████████████████████████████████████████████████████████████████████| 31/31 [00:16<00:00,  1.85it/s]\n",
      "100%|███████████████████████████████████████████████████████████████████████████████████| 31/31 [00:17<00:00,  1.79it/s]\n"
     ]
    },
    {
     "name": "stdout",
     "output_type": "stream",
     "text": [
      "Epoch 5660 Validation Generator Loss: 23.5917\n",
      "23.591705322265625\n"
     ]
    },
    {
     "name": "stderr",
     "output_type": "stream",
     "text": [
      "100%|███████████████████████████████████████████████████████████████████████████████████| 31/31 [00:17<00:00,  1.75it/s]\n",
      "100%|███████████████████████████████████████████████████████████████████████████████████| 31/31 [00:16<00:00,  1.85it/s]\n",
      "100%|███████████████████████████████████████████████████████████████████████████████████| 31/31 [00:17<00:00,  1.82it/s]\n",
      "100%|███████████████████████████████████████████████████████████████████████████████████| 31/31 [00:16<00:00,  1.83it/s]\n",
      "100%|███████████████████████████████████████████████████████████████████████████████████| 31/31 [00:16<00:00,  1.85it/s]\n",
      "100%|███████████████████████████████████████████████████████████████████████████████████| 31/31 [00:16<00:00,  1.83it/s]\n",
      "100%|███████████████████████████████████████████████████████████████████████████████████| 31/31 [00:16<00:00,  1.83it/s]\n",
      "100%|███████████████████████████████████████████████████████████████████████████████████| 31/31 [00:17<00:00,  1.82it/s]\n",
      "100%|███████████████████████████████████████████████████████████████████████████████████| 31/31 [00:16<00:00,  1.86it/s]\n",
      "100%|███████████████████████████████████████████████████████████████████████████████████| 31/31 [00:16<00:00,  1.83it/s]\n"
     ]
    },
    {
     "name": "stdout",
     "output_type": "stream",
     "text": [
      "Epoch 5670 Validation Generator Loss: 12.6000\n",
      "12.600011825561523\n"
     ]
    },
    {
     "name": "stderr",
     "output_type": "stream",
     "text": [
      "100%|███████████████████████████████████████████████████████████████████████████████████| 31/31 [00:16<00:00,  1.84it/s]\n",
      "100%|███████████████████████████████████████████████████████████████████████████████████| 31/31 [00:16<00:00,  1.84it/s]\n",
      "100%|███████████████████████████████████████████████████████████████████████████████████| 31/31 [00:16<00:00,  1.83it/s]\n",
      "100%|███████████████████████████████████████████████████████████████████████████████████| 31/31 [00:16<00:00,  1.83it/s]\n",
      "100%|███████████████████████████████████████████████████████████████████████████████████| 31/31 [00:16<00:00,  1.83it/s]\n",
      "100%|███████████████████████████████████████████████████████████████████████████████████| 31/31 [00:16<00:00,  1.83it/s]\n",
      "100%|███████████████████████████████████████████████████████████████████████████████████| 31/31 [00:17<00:00,  1.81it/s]\n",
      "100%|███████████████████████████████████████████████████████████████████████████████████| 31/31 [00:16<00:00,  1.87it/s]\n",
      "100%|███████████████████████████████████████████████████████████████████████████████████| 31/31 [00:16<00:00,  1.83it/s]\n",
      "100%|███████████████████████████████████████████████████████████████████████████████████| 31/31 [00:17<00:00,  1.82it/s]\n"
     ]
    },
    {
     "name": "stdout",
     "output_type": "stream",
     "text": [
      "Epoch 5680 Validation Generator Loss: 18.4229\n",
      "18.42294692993164\n"
     ]
    },
    {
     "name": "stderr",
     "output_type": "stream",
     "text": [
      "100%|███████████████████████████████████████████████████████████████████████████████████| 31/31 [00:16<00:00,  1.83it/s]\n",
      "100%|███████████████████████████████████████████████████████████████████████████████████| 31/31 [00:16<00:00,  1.82it/s]\n",
      "100%|███████████████████████████████████████████████████████████████████████████████████| 31/31 [00:16<00:00,  1.84it/s]\n",
      "100%|███████████████████████████████████████████████████████████████████████████████████| 31/31 [00:16<00:00,  1.83it/s]\n",
      "100%|███████████████████████████████████████████████████████████████████████████████████| 31/31 [00:16<00:00,  1.86it/s]\n",
      "100%|███████████████████████████████████████████████████████████████████████████████████| 31/31 [00:16<00:00,  1.85it/s]\n",
      "100%|███████████████████████████████████████████████████████████████████████████████████| 31/31 [00:16<00:00,  1.86it/s]\n",
      "100%|███████████████████████████████████████████████████████████████████████████████████| 31/31 [00:17<00:00,  1.81it/s]\n",
      "100%|███████████████████████████████████████████████████████████████████████████████████| 31/31 [00:16<00:00,  1.83it/s]\n",
      "100%|███████████████████████████████████████████████████████████████████████████████████| 31/31 [00:17<00:00,  1.80it/s]\n"
     ]
    },
    {
     "name": "stdout",
     "output_type": "stream",
     "text": [
      "Epoch 5690 Validation Generator Loss: 17.8236\n",
      "17.82358169555664\n"
     ]
    },
    {
     "name": "stderr",
     "output_type": "stream",
     "text": [
      "100%|███████████████████████████████████████████████████████████████████████████████████| 31/31 [00:16<00:00,  1.85it/s]\n",
      "100%|███████████████████████████████████████████████████████████████████████████████████| 31/31 [00:17<00:00,  1.82it/s]\n",
      "100%|███████████████████████████████████████████████████████████████████████████████████| 31/31 [00:17<00:00,  1.82it/s]\n",
      "100%|███████████████████████████████████████████████████████████████████████████████████| 31/31 [00:16<00:00,  1.87it/s]\n",
      "100%|███████████████████████████████████████████████████████████████████████████████████| 31/31 [00:17<00:00,  1.80it/s]\n",
      "100%|███████████████████████████████████████████████████████████████████████████████████| 31/31 [00:16<00:00,  1.87it/s]\n",
      "100%|███████████████████████████████████████████████████████████████████████████████████| 31/31 [00:16<00:00,  1.84it/s]\n",
      "100%|███████████████████████████████████████████████████████████████████████████████████| 31/31 [00:16<00:00,  1.87it/s]\n",
      "100%|███████████████████████████████████████████████████████████████████████████████████| 31/31 [00:16<00:00,  1.82it/s]\n",
      "100%|███████████████████████████████████████████████████████████████████████████████████| 31/31 [00:16<00:00,  1.84it/s]\n"
     ]
    },
    {
     "name": "stdout",
     "output_type": "stream",
     "text": [
      "Epoch 5700 Validation Generator Loss: 13.2092\n",
      "13.209192276000977\n",
      "=> Saving checkpoint\n",
      "=> Saving checkpoint\n"
     ]
    },
    {
     "name": "stderr",
     "output_type": "stream",
     "text": [
      "100%|███████████████████████████████████████████████████████████████████████████████████| 31/31 [00:17<00:00,  1.81it/s]\n",
      "100%|███████████████████████████████████████████████████████████████████████████████████| 31/31 [00:17<00:00,  1.80it/s]\n",
      "100%|███████████████████████████████████████████████████████████████████████████████████| 31/31 [00:16<00:00,  1.83it/s]\n",
      "100%|███████████████████████████████████████████████████████████████████████████████████| 31/31 [00:16<00:00,  1.85it/s]\n",
      "100%|███████████████████████████████████████████████████████████████████████████████████| 31/31 [00:17<00:00,  1.78it/s]\n",
      "100%|███████████████████████████████████████████████████████████████████████████████████| 31/31 [00:17<00:00,  1.81it/s]\n",
      "100%|███████████████████████████████████████████████████████████████████████████████████| 31/31 [00:16<00:00,  1.83it/s]\n",
      "100%|███████████████████████████████████████████████████████████████████████████████████| 31/31 [00:17<00:00,  1.82it/s]\n",
      "100%|███████████████████████████████████████████████████████████████████████████████████| 31/31 [00:17<00:00,  1.82it/s]\n",
      "100%|███████████████████████████████████████████████████████████████████████████████████| 31/31 [00:17<00:00,  1.81it/s]\n"
     ]
    },
    {
     "name": "stdout",
     "output_type": "stream",
     "text": [
      "Epoch 5710 Validation Generator Loss: 13.9992\n",
      "13.999235153198242\n"
     ]
    },
    {
     "name": "stderr",
     "output_type": "stream",
     "text": [
      "100%|███████████████████████████████████████████████████████████████████████████████████| 31/31 [00:17<00:00,  1.79it/s]\n",
      "100%|███████████████████████████████████████████████████████████████████████████████████| 31/31 [00:16<00:00,  1.84it/s]\n",
      "100%|███████████████████████████████████████████████████████████████████████████████████| 31/31 [00:16<00:00,  1.84it/s]\n",
      "100%|███████████████████████████████████████████████████████████████████████████████████| 31/31 [00:16<00:00,  1.85it/s]\n",
      "100%|███████████████████████████████████████████████████████████████████████████████████| 31/31 [00:17<00:00,  1.82it/s]\n",
      "100%|███████████████████████████████████████████████████████████████████████████████████| 31/31 [00:16<00:00,  1.87it/s]\n",
      "100%|███████████████████████████████████████████████████████████████████████████████████| 31/31 [00:17<00:00,  1.79it/s]\n",
      "100%|███████████████████████████████████████████████████████████████████████████████████| 31/31 [00:17<00:00,  1.82it/s]\n",
      "100%|███████████████████████████████████████████████████████████████████████████████████| 31/31 [00:17<00:00,  1.80it/s]\n",
      "100%|███████████████████████████████████████████████████████████████████████████████████| 31/31 [00:16<00:00,  1.85it/s]\n"
     ]
    },
    {
     "name": "stdout",
     "output_type": "stream",
     "text": [
      "Epoch 5720 Validation Generator Loss: 11.1366\n",
      "11.136551856994629\n"
     ]
    },
    {
     "name": "stderr",
     "output_type": "stream",
     "text": [
      "100%|███████████████████████████████████████████████████████████████████████████████████| 31/31 [00:17<00:00,  1.81it/s]\n",
      "100%|███████████████████████████████████████████████████████████████████████████████████| 31/31 [00:17<00:00,  1.82it/s]\n",
      "100%|███████████████████████████████████████████████████████████████████████████████████| 31/31 [00:17<00:00,  1.82it/s]\n",
      "100%|███████████████████████████████████████████████████████████████████████████████████| 31/31 [00:16<00:00,  1.85it/s]\n",
      "100%|███████████████████████████████████████████████████████████████████████████████████| 31/31 [00:17<00:00,  1.82it/s]\n",
      "100%|███████████████████████████████████████████████████████████████████████████████████| 31/31 [00:16<00:00,  1.85it/s]\n",
      "100%|███████████████████████████████████████████████████████████████████████████████████| 31/31 [00:16<00:00,  1.84it/s]\n",
      "100%|███████████████████████████████████████████████████████████████████████████████████| 31/31 [00:16<00:00,  1.83it/s]\n",
      "100%|███████████████████████████████████████████████████████████████████████████████████| 31/31 [00:16<00:00,  1.82it/s]\n",
      "100%|███████████████████████████████████████████████████████████████████████████████████| 31/31 [00:16<00:00,  1.88it/s]\n"
     ]
    },
    {
     "name": "stdout",
     "output_type": "stream",
     "text": [
      "Epoch 5730 Validation Generator Loss: 11.3793\n",
      "11.379278182983398\n"
     ]
    },
    {
     "name": "stderr",
     "output_type": "stream",
     "text": [
      "100%|███████████████████████████████████████████████████████████████████████████████████| 31/31 [00:17<00:00,  1.82it/s]\n",
      "100%|███████████████████████████████████████████████████████████████████████████████████| 31/31 [00:17<00:00,  1.81it/s]\n",
      "100%|███████████████████████████████████████████████████████████████████████████████████| 31/31 [00:16<00:00,  1.83it/s]\n",
      "100%|███████████████████████████████████████████████████████████████████████████████████| 31/31 [00:16<00:00,  1.83it/s]\n",
      "100%|███████████████████████████████████████████████████████████████████████████████████| 31/31 [00:16<00:00,  1.84it/s]\n",
      "100%|███████████████████████████████████████████████████████████████████████████████████| 31/31 [00:17<00:00,  1.82it/s]\n",
      "100%|███████████████████████████████████████████████████████████████████████████████████| 31/31 [00:16<00:00,  1.84it/s]\n",
      "100%|███████████████████████████████████████████████████████████████████████████████████| 31/31 [00:16<00:00,  1.85it/s]\n",
      "100%|███████████████████████████████████████████████████████████████████████████████████| 31/31 [00:16<00:00,  1.84it/s]\n",
      "100%|███████████████████████████████████████████████████████████████████████████████████| 31/31 [00:17<00:00,  1.82it/s]\n"
     ]
    },
    {
     "name": "stdout",
     "output_type": "stream",
     "text": [
      "Epoch 5740 Validation Generator Loss: 12.5010\n",
      "12.501018524169922\n"
     ]
    },
    {
     "name": "stderr",
     "output_type": "stream",
     "text": [
      "100%|███████████████████████████████████████████████████████████████████████████████████| 31/31 [00:17<00:00,  1.81it/s]\n",
      "100%|███████████████████████████████████████████████████████████████████████████████████| 31/31 [00:17<00:00,  1.80it/s]\n",
      "100%|███████████████████████████████████████████████████████████████████████████████████| 31/31 [00:17<00:00,  1.82it/s]\n",
      "100%|███████████████████████████████████████████████████████████████████████████████████| 31/31 [00:16<00:00,  1.84it/s]\n",
      "100%|███████████████████████████████████████████████████████████████████████████████████| 31/31 [00:17<00:00,  1.77it/s]\n",
      "100%|███████████████████████████████████████████████████████████████████████████████████| 31/31 [00:16<00:00,  1.85it/s]\n",
      "100%|███████████████████████████████████████████████████████████████████████████████████| 31/31 [00:16<00:00,  1.83it/s]\n",
      "100%|███████████████████████████████████████████████████████████████████████████████████| 31/31 [00:17<00:00,  1.82it/s]\n",
      "100%|███████████████████████████████████████████████████████████████████████████████████| 31/31 [00:16<00:00,  1.85it/s]\n",
      "100%|███████████████████████████████████████████████████████████████████████████████████| 31/31 [00:16<00:00,  1.86it/s]\n"
     ]
    },
    {
     "name": "stdout",
     "output_type": "stream",
     "text": [
      "Epoch 5750 Validation Generator Loss: 10.9677\n",
      "10.967727661132812\n",
      "=> Saving checkpoint\n",
      "=> Saving checkpoint\n"
     ]
    },
    {
     "name": "stderr",
     "output_type": "stream",
     "text": [
      "100%|███████████████████████████████████████████████████████████████████████████████████| 31/31 [00:16<00:00,  1.86it/s]\n",
      "100%|███████████████████████████████████████████████████████████████████████████████████| 31/31 [00:16<00:00,  1.83it/s]\n",
      "100%|███████████████████████████████████████████████████████████████████████████████████| 31/31 [00:17<00:00,  1.82it/s]\n",
      "100%|███████████████████████████████████████████████████████████████████████████████████| 31/31 [00:16<00:00,  1.83it/s]\n",
      "100%|███████████████████████████████████████████████████████████████████████████████████| 31/31 [00:16<00:00,  1.84it/s]\n",
      "100%|███████████████████████████████████████████████████████████████████████████████████| 31/31 [00:16<00:00,  1.85it/s]\n",
      "100%|███████████████████████████████████████████████████████████████████████████████████| 31/31 [00:17<00:00,  1.82it/s]\n",
      "100%|███████████████████████████████████████████████████████████████████████████████████| 31/31 [00:16<00:00,  1.86it/s]\n",
      "100%|███████████████████████████████████████████████████████████████████████████████████| 31/31 [00:17<00:00,  1.78it/s]\n",
      "100%|███████████████████████████████████████████████████████████████████████████████████| 31/31 [00:16<00:00,  1.87it/s]\n"
     ]
    },
    {
     "name": "stdout",
     "output_type": "stream",
     "text": [
      "Epoch 5760 Validation Generator Loss: 9.3961\n",
      "9.396147727966309\n"
     ]
    },
    {
     "name": "stderr",
     "output_type": "stream",
     "text": [
      "100%|███████████████████████████████████████████████████████████████████████████████████| 31/31 [00:16<00:00,  1.85it/s]\n",
      "100%|███████████████████████████████████████████████████████████████████████████████████| 31/31 [00:17<00:00,  1.73it/s]\n",
      "100%|███████████████████████████████████████████████████████████████████████████████████| 31/31 [00:18<00:00,  1.66it/s]\n",
      "100%|███████████████████████████████████████████████████████████████████████████████████| 31/31 [00:18<00:00,  1.71it/s]\n",
      "100%|███████████████████████████████████████████████████████████████████████████████████| 31/31 [00:16<00:00,  1.82it/s]\n",
      "100%|███████████████████████████████████████████████████████████████████████████████████| 31/31 [00:17<00:00,  1.81it/s]\n",
      "100%|███████████████████████████████████████████████████████████████████████████████████| 31/31 [00:17<00:00,  1.82it/s]\n",
      "100%|███████████████████████████████████████████████████████████████████████████████████| 31/31 [00:17<00:00,  1.77it/s]\n",
      "100%|███████████████████████████████████████████████████████████████████████████████████| 31/31 [00:18<00:00,  1.70it/s]\n",
      "100%|███████████████████████████████████████████████████████████████████████████████████| 31/31 [00:17<00:00,  1.76it/s]\n"
     ]
    },
    {
     "name": "stdout",
     "output_type": "stream",
     "text": [
      "Epoch 5770 Validation Generator Loss: 14.0089\n",
      "14.00892162322998\n"
     ]
    },
    {
     "name": "stderr",
     "output_type": "stream",
     "text": [
      "100%|███████████████████████████████████████████████████████████████████████████████████| 31/31 [00:17<00:00,  1.76it/s]\n",
      "100%|███████████████████████████████████████████████████████████████████████████████████| 31/31 [00:18<00:00,  1.70it/s]\n",
      "100%|███████████████████████████████████████████████████████████████████████████████████| 31/31 [00:17<00:00,  1.74it/s]\n",
      " 52%|██████████████████████████████████████████▊                                        | 16/31 [00:09<00:08,  1.71it/s]\n"
     ]
    },
    {
     "ename": "KeyboardInterrupt",
     "evalue": "",
     "output_type": "error",
     "traceback": [
      "\u001b[0;31m---------------------------------------------------------------------------\u001b[0m",
      "\u001b[0;31mKeyboardInterrupt\u001b[0m                         Traceback (most recent call last)",
      "Cell \u001b[0;32mIn[9], line 11\u001b[0m\n\u001b[1;32m      8\u001b[0m \u001b[38;5;28;01mfor\u001b[39;00m epoch \u001b[38;5;129;01min\u001b[39;00m \u001b[38;5;28mrange\u001b[39m(start_epoch, num_epochs):\n\u001b[1;32m      9\u001b[0m     loop \u001b[38;5;241m=\u001b[39m tqdm(train_loader, leave\u001b[38;5;241m=\u001b[39m\u001b[38;5;28;01mTrue\u001b[39;00m)\n\u001b[0;32m---> 11\u001b[0m \u001b[43m    \u001b[49m\u001b[38;5;28;43;01mfor\u001b[39;49;00m\u001b[43m \u001b[49m\u001b[43mi\u001b[49m\u001b[43m,\u001b[49m\u001b[43m \u001b[49m\u001b[43m(\u001b[49m\u001b[43mx\u001b[49m\u001b[43m,\u001b[49m\u001b[43my\u001b[49m\u001b[43m)\u001b[49m\u001b[43m \u001b[49m\u001b[38;5;129;43;01min\u001b[39;49;00m\u001b[43m \u001b[49m\u001b[38;5;28;43menumerate\u001b[39;49m\u001b[43m(\u001b[49m\u001b[43mloop\u001b[49m\u001b[43m)\u001b[49m\u001b[43m:\u001b[49m\n\u001b[1;32m     12\u001b[0m \u001b[43m        \u001b[49m\u001b[43mnasal\u001b[49m\u001b[43m,\u001b[49m\u001b[43m \u001b[49m\u001b[43mtemporal\u001b[49m\u001b[43m \u001b[49m\u001b[38;5;241;43m=\u001b[39;49m\u001b[43m \u001b[49m\u001b[43my\u001b[49m\n\u001b[1;32m     14\u001b[0m \u001b[43m        \u001b[49m\u001b[43mx\u001b[49m\u001b[43m \u001b[49m\u001b[38;5;241;43m=\u001b[39;49m\u001b[43m \u001b[49m\u001b[43mx\u001b[49m\u001b[38;5;241;43m.\u001b[39;49m\u001b[43mto\u001b[49m\u001b[43m(\u001b[49m\u001b[43mdevice\u001b[49m\u001b[43m)\u001b[49m\u001b[38;5;241;43m.\u001b[39;49m\u001b[43mfloat\u001b[49m\u001b[43m(\u001b[49m\u001b[43m)\u001b[49m\n",
      "File \u001b[0;32m/usr/local/lib/python3.12/site-packages/tqdm/std.py:1181\u001b[0m, in \u001b[0;36mtqdm.__iter__\u001b[0;34m(self)\u001b[0m\n\u001b[1;32m   1178\u001b[0m time \u001b[38;5;241m=\u001b[39m \u001b[38;5;28mself\u001b[39m\u001b[38;5;241m.\u001b[39m_time\n\u001b[1;32m   1180\u001b[0m \u001b[38;5;28;01mtry\u001b[39;00m:\n\u001b[0;32m-> 1181\u001b[0m \u001b[43m    \u001b[49m\u001b[38;5;28;43;01mfor\u001b[39;49;00m\u001b[43m \u001b[49m\u001b[43mobj\u001b[49m\u001b[43m \u001b[49m\u001b[38;5;129;43;01min\u001b[39;49;00m\u001b[43m \u001b[49m\u001b[43miterable\u001b[49m\u001b[43m:\u001b[49m\n\u001b[1;32m   1182\u001b[0m \u001b[43m        \u001b[49m\u001b[38;5;28;43;01myield\u001b[39;49;00m\u001b[43m \u001b[49m\u001b[43mobj\u001b[49m\n\u001b[1;32m   1183\u001b[0m \u001b[43m        \u001b[49m\u001b[38;5;66;43;03m# Update and possibly print the progressbar.\u001b[39;49;00m\n\u001b[1;32m   1184\u001b[0m \u001b[43m        \u001b[49m\u001b[38;5;66;43;03m# Note: does not call self.update(1) for speed optimisation.\u001b[39;49;00m\n",
      "File \u001b[0;32m/usr/local/lib/python3.12/site-packages/torch/utils/data/dataloader.py:708\u001b[0m, in \u001b[0;36m_BaseDataLoaderIter.__next__\u001b[0;34m(self)\u001b[0m\n\u001b[1;32m    705\u001b[0m \u001b[38;5;28;01mif\u001b[39;00m \u001b[38;5;28mself\u001b[39m\u001b[38;5;241m.\u001b[39m_sampler_iter \u001b[38;5;129;01mis\u001b[39;00m \u001b[38;5;28;01mNone\u001b[39;00m:\n\u001b[1;32m    706\u001b[0m     \u001b[38;5;66;03m# TODO(https://github.com/pytorch/pytorch/issues/76750)\u001b[39;00m\n\u001b[1;32m    707\u001b[0m     \u001b[38;5;28mself\u001b[39m\u001b[38;5;241m.\u001b[39m_reset()  \u001b[38;5;66;03m# type: ignore[call-arg]\u001b[39;00m\n\u001b[0;32m--> 708\u001b[0m data \u001b[38;5;241m=\u001b[39m \u001b[38;5;28;43mself\u001b[39;49m\u001b[38;5;241;43m.\u001b[39;49m\u001b[43m_next_data\u001b[49m\u001b[43m(\u001b[49m\u001b[43m)\u001b[49m\n\u001b[1;32m    709\u001b[0m \u001b[38;5;28mself\u001b[39m\u001b[38;5;241m.\u001b[39m_num_yielded \u001b[38;5;241m+\u001b[39m\u001b[38;5;241m=\u001b[39m \u001b[38;5;241m1\u001b[39m\n\u001b[1;32m    710\u001b[0m \u001b[38;5;28;01mif\u001b[39;00m (\n\u001b[1;32m    711\u001b[0m     \u001b[38;5;28mself\u001b[39m\u001b[38;5;241m.\u001b[39m_dataset_kind \u001b[38;5;241m==\u001b[39m _DatasetKind\u001b[38;5;241m.\u001b[39mIterable\n\u001b[1;32m    712\u001b[0m     \u001b[38;5;129;01mand\u001b[39;00m \u001b[38;5;28mself\u001b[39m\u001b[38;5;241m.\u001b[39m_IterableDataset_len_called \u001b[38;5;129;01mis\u001b[39;00m \u001b[38;5;129;01mnot\u001b[39;00m \u001b[38;5;28;01mNone\u001b[39;00m\n\u001b[1;32m    713\u001b[0m     \u001b[38;5;129;01mand\u001b[39;00m \u001b[38;5;28mself\u001b[39m\u001b[38;5;241m.\u001b[39m_num_yielded \u001b[38;5;241m>\u001b[39m \u001b[38;5;28mself\u001b[39m\u001b[38;5;241m.\u001b[39m_IterableDataset_len_called\n\u001b[1;32m    714\u001b[0m ):\n",
      "File \u001b[0;32m/usr/local/lib/python3.12/site-packages/torch/utils/data/dataloader.py:1458\u001b[0m, in \u001b[0;36m_MultiProcessingDataLoaderIter._next_data\u001b[0;34m(self)\u001b[0m\n\u001b[1;32m   1455\u001b[0m     \u001b[38;5;28;01mreturn\u001b[39;00m \u001b[38;5;28mself\u001b[39m\u001b[38;5;241m.\u001b[39m_process_data(data)\n\u001b[1;32m   1457\u001b[0m \u001b[38;5;28;01massert\u001b[39;00m \u001b[38;5;129;01mnot\u001b[39;00m \u001b[38;5;28mself\u001b[39m\u001b[38;5;241m.\u001b[39m_shutdown \u001b[38;5;129;01mand\u001b[39;00m \u001b[38;5;28mself\u001b[39m\u001b[38;5;241m.\u001b[39m_tasks_outstanding \u001b[38;5;241m>\u001b[39m \u001b[38;5;241m0\u001b[39m\n\u001b[0;32m-> 1458\u001b[0m idx, data \u001b[38;5;241m=\u001b[39m \u001b[38;5;28;43mself\u001b[39;49m\u001b[38;5;241;43m.\u001b[39;49m\u001b[43m_get_data\u001b[49m\u001b[43m(\u001b[49m\u001b[43m)\u001b[49m\n\u001b[1;32m   1459\u001b[0m \u001b[38;5;28mself\u001b[39m\u001b[38;5;241m.\u001b[39m_tasks_outstanding \u001b[38;5;241m-\u001b[39m\u001b[38;5;241m=\u001b[39m \u001b[38;5;241m1\u001b[39m\n\u001b[1;32m   1460\u001b[0m \u001b[38;5;28;01mif\u001b[39;00m \u001b[38;5;28mself\u001b[39m\u001b[38;5;241m.\u001b[39m_dataset_kind \u001b[38;5;241m==\u001b[39m _DatasetKind\u001b[38;5;241m.\u001b[39mIterable:\n\u001b[1;32m   1461\u001b[0m     \u001b[38;5;66;03m# Check for _IterableDatasetStopIteration\u001b[39;00m\n",
      "File \u001b[0;32m/usr/local/lib/python3.12/site-packages/torch/utils/data/dataloader.py:1410\u001b[0m, in \u001b[0;36m_MultiProcessingDataLoaderIter._get_data\u001b[0;34m(self)\u001b[0m\n\u001b[1;32m   1408\u001b[0m \u001b[38;5;28;01melif\u001b[39;00m \u001b[38;5;28mself\u001b[39m\u001b[38;5;241m.\u001b[39m_pin_memory:\n\u001b[1;32m   1409\u001b[0m     \u001b[38;5;28;01mwhile\u001b[39;00m \u001b[38;5;28mself\u001b[39m\u001b[38;5;241m.\u001b[39m_pin_memory_thread\u001b[38;5;241m.\u001b[39mis_alive():\n\u001b[0;32m-> 1410\u001b[0m         success, data \u001b[38;5;241m=\u001b[39m \u001b[38;5;28;43mself\u001b[39;49m\u001b[38;5;241;43m.\u001b[39;49m\u001b[43m_try_get_data\u001b[49m\u001b[43m(\u001b[49m\u001b[43m)\u001b[49m\n\u001b[1;32m   1411\u001b[0m         \u001b[38;5;28;01mif\u001b[39;00m success:\n\u001b[1;32m   1412\u001b[0m             \u001b[38;5;28;01mreturn\u001b[39;00m data\n",
      "File \u001b[0;32m/usr/local/lib/python3.12/site-packages/torch/utils/data/dataloader.py:1251\u001b[0m, in \u001b[0;36m_MultiProcessingDataLoaderIter._try_get_data\u001b[0;34m(self, timeout)\u001b[0m\n\u001b[1;32m   1238\u001b[0m \u001b[38;5;28;01mdef\u001b[39;00m\u001b[38;5;250m \u001b[39m\u001b[38;5;21m_try_get_data\u001b[39m(\u001b[38;5;28mself\u001b[39m, timeout\u001b[38;5;241m=\u001b[39m_utils\u001b[38;5;241m.\u001b[39mMP_STATUS_CHECK_INTERVAL):\n\u001b[1;32m   1239\u001b[0m     \u001b[38;5;66;03m# Tries to fetch data from `self._data_queue` once for a given timeout.\u001b[39;00m\n\u001b[1;32m   1240\u001b[0m     \u001b[38;5;66;03m# This can also be used as inner loop of fetching without timeout, with\u001b[39;00m\n\u001b[0;32m   (...)\u001b[0m\n\u001b[1;32m   1248\u001b[0m     \u001b[38;5;66;03m# Returns a 2-tuple:\u001b[39;00m\n\u001b[1;32m   1249\u001b[0m     \u001b[38;5;66;03m#   (bool: whether successfully get data, any: data if successful else None)\u001b[39;00m\n\u001b[1;32m   1250\u001b[0m     \u001b[38;5;28;01mtry\u001b[39;00m:\n\u001b[0;32m-> 1251\u001b[0m         data \u001b[38;5;241m=\u001b[39m \u001b[38;5;28;43mself\u001b[39;49m\u001b[38;5;241;43m.\u001b[39;49m\u001b[43m_data_queue\u001b[49m\u001b[38;5;241;43m.\u001b[39;49m\u001b[43mget\u001b[49m\u001b[43m(\u001b[49m\u001b[43mtimeout\u001b[49m\u001b[38;5;241;43m=\u001b[39;49m\u001b[43mtimeout\u001b[49m\u001b[43m)\u001b[49m\n\u001b[1;32m   1252\u001b[0m         \u001b[38;5;28;01mreturn\u001b[39;00m (\u001b[38;5;28;01mTrue\u001b[39;00m, data)\n\u001b[1;32m   1253\u001b[0m     \u001b[38;5;28;01mexcept\u001b[39;00m \u001b[38;5;167;01mException\u001b[39;00m \u001b[38;5;28;01mas\u001b[39;00m e:\n\u001b[1;32m   1254\u001b[0m         \u001b[38;5;66;03m# At timeout and error, we manually check whether any worker has\u001b[39;00m\n\u001b[1;32m   1255\u001b[0m         \u001b[38;5;66;03m# failed. Note that this is the only mechanism for Windows to detect\u001b[39;00m\n\u001b[1;32m   1256\u001b[0m         \u001b[38;5;66;03m# worker failures.\u001b[39;00m\n",
      "File \u001b[0;32m/usr/local/lib/python3.12/queue.py:180\u001b[0m, in \u001b[0;36mQueue.get\u001b[0;34m(self, block, timeout)\u001b[0m\n\u001b[1;32m    178\u001b[0m         \u001b[38;5;28;01mif\u001b[39;00m remaining \u001b[38;5;241m<\u001b[39m\u001b[38;5;241m=\u001b[39m \u001b[38;5;241m0.0\u001b[39m:\n\u001b[1;32m    179\u001b[0m             \u001b[38;5;28;01mraise\u001b[39;00m Empty\n\u001b[0;32m--> 180\u001b[0m         \u001b[38;5;28;43mself\u001b[39;49m\u001b[38;5;241;43m.\u001b[39;49m\u001b[43mnot_empty\u001b[49m\u001b[38;5;241;43m.\u001b[39;49m\u001b[43mwait\u001b[49m\u001b[43m(\u001b[49m\u001b[43mremaining\u001b[49m\u001b[43m)\u001b[49m\n\u001b[1;32m    181\u001b[0m item \u001b[38;5;241m=\u001b[39m \u001b[38;5;28mself\u001b[39m\u001b[38;5;241m.\u001b[39m_get()\n\u001b[1;32m    182\u001b[0m \u001b[38;5;28mself\u001b[39m\u001b[38;5;241m.\u001b[39mnot_full\u001b[38;5;241m.\u001b[39mnotify()\n",
      "File \u001b[0;32m/usr/local/lib/python3.12/threading.py:359\u001b[0m, in \u001b[0;36mCondition.wait\u001b[0;34m(self, timeout)\u001b[0m\n\u001b[1;32m    357\u001b[0m \u001b[38;5;28;01melse\u001b[39;00m:\n\u001b[1;32m    358\u001b[0m     \u001b[38;5;28;01mif\u001b[39;00m timeout \u001b[38;5;241m>\u001b[39m \u001b[38;5;241m0\u001b[39m:\n\u001b[0;32m--> 359\u001b[0m         gotit \u001b[38;5;241m=\u001b[39m \u001b[43mwaiter\u001b[49m\u001b[38;5;241;43m.\u001b[39;49m\u001b[43macquire\u001b[49m\u001b[43m(\u001b[49m\u001b[38;5;28;43;01mTrue\u001b[39;49;00m\u001b[43m,\u001b[49m\u001b[43m \u001b[49m\u001b[43mtimeout\u001b[49m\u001b[43m)\u001b[49m\n\u001b[1;32m    360\u001b[0m     \u001b[38;5;28;01melse\u001b[39;00m:\n\u001b[1;32m    361\u001b[0m         gotit \u001b[38;5;241m=\u001b[39m waiter\u001b[38;5;241m.\u001b[39macquire(\u001b[38;5;28;01mFalse\u001b[39;00m)\n",
      "\u001b[0;31mKeyboardInterrupt\u001b[0m: "
     ]
    }
   ],
   "source": [
    "load_checkpoint(\"./SavedModel/c_to_nt/fixed/c_to_nt_disc_4300.pth.tar\", disc, disc_opt, lr, device)\n",
    "load_checkpoint(\"./SavedModel/c_to_nt/fixed/c_to_nt_gen_4300.pth.tar\", gen, gen_opt, lr, device)\n",
    "\n",
    "best_val = float('inf')\n",
    "val_results = {}\n",
    "\n",
    "start_epoch = 4300\n",
    "for epoch in range(start_epoch, num_epochs):\n",
    "    loop = tqdm(train_loader, leave=True)\n",
    "\n",
    "    for i, (x,y) in enumerate(loop):\n",
    "        nasal, temporal = y\n",
    "        \n",
    "        x = x.to(device).float()\n",
    "        nasal = nasal.to(device).float()\n",
    "        temporal = temporal.to(device).float()\n",
    "        nasal_fake, temporal_fake = gen(x)\n",
    "\n",
    "        # ------------------\n",
    "        # Train Discriminator\n",
    "        # ------------------\n",
    "        # Evaluate on real images for nasal branch\n",
    "        d_nasal_real = disc(x, nasal)\n",
    "        # Evaluate on fake nasal images\n",
    "        d_nasal_fake = disc(x, nasal_fake.detach())\n",
    "        d_nasal_real_loss = BCE_loss(d_nasal_real, torch.ones_like(d_nasal_real))\n",
    "        d_nasal_fake_loss = BCE_loss(d_nasal_fake, torch.zeros_like(d_nasal_fake))\n",
    "        d_nasal_loss = (d_nasal_real_loss + d_nasal_fake_loss) / 2\n",
    "        \n",
    "        # Evaluate on real images for temporal branch\n",
    "        d_temporal_real = disc(x, temporal)\n",
    "        # Evaluate on fake temporal images\n",
    "        d_temporal_fake = disc(x, temporal_fake.detach())\n",
    "        d_temporal_real_loss = BCE_loss(d_temporal_real, torch.ones_like(d_temporal_real))\n",
    "        d_temporal_fake_loss = BCE_loss(d_temporal_fake, torch.zeros_like(d_temporal_fake))\n",
    "        d_temporal_loss = (d_temporal_real_loss + d_temporal_fake_loss) / 2\n",
    "        \n",
    "        # Combine discriminator losses (you could also weight these differently if needed)\n",
    "        d_loss = d_nasal_loss + d_temporal_loss\n",
    "        \n",
    "        # ------------------\n",
    "        # Train Generator\n",
    "        # ------------------\n",
    "        # Re-evaluate fake images with updated discriminator\n",
    "        d_nasal_fake = disc(x, nasal_fake)\n",
    "        d_temporal_fake = disc(x, temporal_fake)\n",
    "        \n",
    "        # Generator loss from fooling the discriminator\n",
    "        g_nasal_fake_loss = BCE_loss(d_nasal_fake, torch.ones_like(d_nasal_fake))\n",
    "        g_temporal_fake_loss = BCE_loss(d_temporal_fake, torch.ones_like(d_temporal_fake))\n",
    "        g_fake_loss = g_nasal_fake_loss + g_temporal_fake_loss\n",
    "        \n",
    "        # L1 Loss for both outputs (to encourage similarity to ground truth)\n",
    "        l1_nasal = L1_loss(nasal_fake, nasal)\n",
    "        l1_temporal = L1_loss(temporal_fake, temporal)\n",
    "        l1 = (l1_nasal + l1_temporal) * l1_lambda\n",
    "        \n",
    "        g_loss = g_fake_loss + l1\n",
    "        \n",
    "        gen_opt.zero_grad()\n",
    "        g_loss.backward()\n",
    "        gen_opt.step()\n",
    "\n",
    "    if epoch % 10 == 0:\n",
    "        best_val, val_loss = save_some_examples(gen, disc, val_loader, epoch, best_val, l1_lambda, folder=\"evaluation/retinal/c_to_nt\")\n",
    "        val_results[epoch] = val_loss.item()\n",
    "        print(val_results[epoch])\n",
    "    if epoch % 50 == 0 and epoch >= 3000:\n",
    "        save_checkpoint(disc, disc_opt, filename=\"./SavedModel/c_to_nt/fixed/c_to_nt_disc_\" + str(epoch) + \".pth.tar\")\n",
    "        save_checkpoint(gen, gen_opt, filename=\"./SavedModel/c_to_nt/fixed/c_to_nt_gen_\" + str(epoch) + \".pth.tar\")\n",
    "    if epoch % 200 == 0 and epoch < 3000:\n",
    "        save_checkpoint(disc, disc_opt, filename=\"./SavedModel/c_to_nt/fixed/c_to_nt_disc_\" + str(epoch) + \".pth.tar\")\n",
    "        save_checkpoint(gen, gen_opt, filename=\"./SavedModel/c_to_nt/fixed/c_to_nt_gen_\" + str(epoch) + \".pth.tar\")"
   ]
  },
  {
   "cell_type": "code",
   "execution_count": 10,
   "id": "019109a7-cb7d-4160-92bf-c6d11040dfb4",
   "metadata": {},
   "outputs": [
    {
     "name": "stdout",
     "output_type": "stream",
     "text": [
      "{4300: 12.907947540283203, 4310: 17.976451873779297, 4320: 18.546764373779297, 4330: 12.286130905151367, 4340: 11.124577522277832, 4350: 9.609702110290527, 4360: 17.32052230834961, 4370: 10.686064720153809, 4380: 18.982343673706055, 4390: 16.98190689086914, 4400: 12.098970413208008, 4410: 9.721601486206055, 4420: 16.962060928344727, 4430: 9.644420623779297, 4440: 10.85970401763916, 4450: 21.716384887695312, 4460: 12.447635650634766, 4470: 16.403470993041992, 4480: 23.083709716796875, 4490: 13.552044868469238, 4500: 10.671058654785156, 4510: 14.692817687988281, 4520: 9.104450225830078, 4530: 13.864392280578613, 4540: 17.657596588134766, 4550: 14.225327491760254, 4560: 14.19590950012207, 4570: 13.875663757324219, 4580: 22.525463104248047, 4590: 11.633895874023438, 4600: 16.365116119384766, 4610: 14.676251411437988, 4620: 25.526290893554688, 4630: 11.177009582519531, 4640: 14.640522003173828, 4650: 14.470771789550781, 4660: 12.663121223449707, 4670: 14.43937873840332, 4680: 20.194255828857422, 4690: 12.793481826782227, 4700: 11.835575103759766, 4710: 17.047489166259766, 4720: 27.192340850830078, 4730: 13.787275314331055, 4740: 18.226696014404297, 4750: 12.746983528137207, 4760: 9.939029693603516, 4770: 21.824085235595703, 4780: 12.020320892333984, 4790: 17.96141815185547, 4800: 13.756153106689453, 4810: 26.276445388793945, 4820: 17.94127082824707, 4830: 13.38200569152832, 4840: 22.258136749267578, 4850: 11.301898956298828, 4860: 18.183414459228516, 4870: 14.160974502563477, 4880: 17.081573486328125, 4890: 13.844507217407227, 4900: 16.833616256713867, 4910: 18.726890563964844, 4920: 24.071739196777344, 4930: 21.712888717651367, 4940: 14.370931625366211, 4950: 16.74321746826172, 4960: 21.29378890991211, 4970: 10.072858810424805, 4980: 12.277978897094727, 4990: 9.313840866088867, 5000: 12.998882293701172, 5010: 11.787518501281738, 5020: 14.11133861541748, 5030: 14.037345886230469, 5040: 12.188281059265137, 5050: 12.866287231445312, 5060: 14.572412490844727, 5070: 18.23361587524414, 5080: 19.981311798095703, 5090: 11.557741165161133, 5100: 15.010383605957031, 5110: 13.479537963867188, 5120: 13.546100616455078, 5130: 16.3496036529541, 5140: 12.662607192993164, 5150: 17.57513427734375, 5160: 26.584278106689453, 5170: 18.646373748779297, 5180: 12.986030578613281, 5190: 16.599679946899414, 5200: 12.415186882019043, 5210: 19.481735229492188, 5220: 26.2570858001709, 5230: 13.542314529418945, 5240: 11.194622039794922, 5250: 13.937398910522461, 5260: 14.48476791381836, 5270: 13.063701629638672, 5280: 13.756916046142578, 5290: 11.505427360534668, 5300: 14.411368370056152, 5310: 17.037952423095703, 5320: 12.536737442016602, 5330: 13.358939170837402, 5340: 11.378958702087402, 5350: 12.449483871459961, 5360: 13.96204948425293, 5370: 14.632331848144531, 5380: 13.403366088867188, 5390: 18.564678192138672, 5400: 18.736082077026367, 5410: 18.10811424255371, 5420: 13.568780899047852, 5430: 17.06285858154297, 5440: 11.214632987976074, 5450: 11.283422470092773, 5460: 9.756567001342773, 5470: 18.185949325561523, 5480: 14.121404647827148, 5490: 19.07638168334961, 5500: 18.85720443725586, 5510: 13.300999641418457, 5520: 18.267908096313477, 5530: 9.341556549072266, 5540: 22.682884216308594, 5550: 14.29401969909668, 5560: 16.893686294555664, 5570: 11.095220565795898, 5580: 12.678083419799805, 5590: 12.728813171386719, 5600: 12.427162170410156, 5610: 15.365669250488281, 5620: 11.801824569702148, 5630: 14.315311431884766, 5640: 18.109283447265625, 5650: 21.544174194335938, 5660: 23.591705322265625, 5670: 12.600011825561523, 5680: 18.42294692993164, 5690: 17.82358169555664, 5700: 13.209192276000977, 5710: 13.999235153198242, 5720: 11.136551856994629, 5730: 11.379278182983398, 5740: 12.501018524169922, 5750: 10.967727661132812, 5760: 9.396147727966309, 5770: 14.00892162322998}\n"
     ]
    }
   ],
   "source": [
    "print(val_results)"
   ]
  },
  {
   "cell_type": "code",
   "execution_count": 14,
   "id": "26962dbf-fb29-4b72-8d15-b18e64d9a185",
   "metadata": {},
   "outputs": [],
   "source": [
    "def save_test_examples(gen, disc, test_loader, folder, device):\n",
    "    # Set both generator and discriminator to evaluation mode\n",
    "    gen.eval()\n",
    "    disc.eval()\n",
    "\n",
    "    with torch.no_grad():\n",
    "        epoch = 0\n",
    "        for x,y in test_loader:\n",
    "            x = x.to(device).float()\n",
    "            nasal, temporal = y\n",
    "            nasal.to(device).float()\n",
    "            temporal.to(device).float()\n",
    "            \n",
    "            # Generate the fake image using the generator\n",
    "            nasal_fake, temporal_fake = gen(x)\n",
    "            \n",
    "            # Ensure the folder exists\n",
    "            os.makedirs(folder, exist_ok=True)\n",
    "            os.makedirs(folder + \"/fake_nasal\", exist_ok=True)\n",
    "            os.makedirs(folder + \"/fake_temporal\", exist_ok=True)\n",
    "            os.makedirs(folder + \"/real\", exist_ok=True)\n",
    "            os.makedirs(folder + \"/target_nasal\", exist_ok=True)\n",
    "            os.makedirs(folder + \"/target_temporal\", exist_ok=True)\n",
    "    \n",
    "            # Save the images for visual comparison\n",
    "            save_image(nasal_fake, os.path.join(folder + \"/fake_nasal\", f\"fake_nasal{epoch}.png\"))\n",
    "            save_image(temporal_fake, os.path.join(folder + \"/fake_temporal\", f\"fake_temporal{epoch}.png\"))\n",
    "            save_image(x, os.path.join(folder + \"/real\", f\"real_{epoch}.png\"))\n",
    "            save_image(nasal, os.path.join(folder + \"/target_nasal\", f\"target_nasal{epoch}.png\"))\n",
    "            save_image(temporal, os.path.join(folder + \"/target_temporal\", f\"target_temporal{epoch}.png\"))\n",
    "\n",
    "            epoch += 1\n",
    "\n",
    "    # Optionally, set the models back to training mode if needed\n",
    "    gen.train()\n",
    "    disc.train()"
   ]
  },
  {
   "cell_type": "code",
   "execution_count": 19,
   "id": "25253c21-6421-4209-98fa-0fd8bd0df26a",
   "metadata": {},
   "outputs": [
    {
     "name": "stdout",
     "output_type": "stream",
     "text": [
      "Testing 4520th...\n",
      "=> Loading checkpoint\n",
      "=> Loading checkpoint\n"
     ]
    },
    {
     "name": "stderr",
     "output_type": "stream",
     "text": [
      "100%|█████████████████████████████████████████████████████████████████████████████████████| 2/2 [00:00<00:00,  5.48it/s]\n",
      "100%|█████████████████████████████████████████████████████████████████████████████████████| 2/2 [00:00<00:00,  5.05it/s]\n",
      "100%|█████████████████████████████████████████████████████████████████████████████████████| 2/2 [00:00<00:00,  5.56it/s]\n",
      "100%|█████████████████████████████████████████████████████████████████████████████████████| 2/2 [00:00<00:00,  5.02it/s]\n"
     ]
    },
    {
     "name": "stdout",
     "output_type": "stream",
     "text": [
      "Computed comparison: {'Epoch': 4520, 'FID Score Nasal': np.float64(159.8155720787399), 'FID Score Temporal': np.float64(124.41423625243425), 'Val Loss': 9.1045}\n"
     ]
    }
   ],
   "source": [
    "from pytorch_fid import fid_score\n",
    "\n",
    "# From 4550 to 5750, every 50 epochs\n",
    "\n",
    "test_dataset = RetinaDataSet(root_dir=\"./dataset/retinal/test\")\n",
    "test_loader = DataLoader(test_dataset, batch_size=1, shuffle=False)\n",
    "results = []\n",
    "\n",
    "for itera in range(4520, 4521, 50):\n",
    "    print(f\"Testing {itera}th...\")\n",
    "    load_checkpoint(\"./SavedModel/c_to_nt/fixed/c_to_nt_disc_\" + str(itera) + \".pth.tar\", disc, disc_opt, lr, device)\n",
    "    load_checkpoint(\"./SavedModel/c_to_nt/fixed/c_to_nt_gen_\" + str(itera) + \".pth.tar\", gen, gen_opt, lr, device)\n",
    "    save_test_examples(gen, disc, test_loader, \"evaluation/retinal/c_to_nt_test_\" + str(itera) + \"/\", device)\n",
    "\n",
    "    # Define the paths for fake and target images\n",
    "    test_output_dir = \"evaluation/retinal/c_to_nt_test_\" + str(itera) + \"/\"\n",
    "    fake_path = os.path.join(test_output_dir, \"fake\")\n",
    "    target_path = os.path.join(test_output_dir, \"target\")\n",
    "    \n",
    "    # Calculate the FID score between the fake and target image folders.\n",
    "    # Adjust batch_size and dims (typically 2048 for InceptionV3) as needed.\n",
    "    fid_value_nasal = fid_score.calculate_fid_given_paths([fake_path + \"_nasal\", target_path + \"_nasal\"], batch_size=50, device=device, dims=2048)\n",
    "    fid_value_temporal = fid_score.calculate_fid_given_paths([fake_path + \"_temporal\", target_path + \"_temporal\"], batch_size=50, device=device, dims=2048)\n",
    "\n",
    "    results.append({\n",
    "        \"Epoch\": itera,\n",
    "        \"FID Score Nasal\": fid_value_nasal,\n",
    "        \"FID Score Temporal\": fid_value_temporal,\n",
    "        \"Val Loss\": round(val_results[itera], 4)\n",
    "    })\n",
    "    print(f\"Computed comparison: {results[-1]}\")"
   ]
  },
  {
   "cell_type": "code",
   "execution_count": 17,
   "id": "25a4b7a8-06a0-44ed-bc5a-cfa0c4807e93",
   "metadata": {},
   "outputs": [
    {
     "name": "stdout",
     "output_type": "stream",
     "text": [
      "[{'Epoch': 4550, 'FID Score Nasal': np.float64(157.81012886889832), 'FID Score Temporal': np.float64(124.5465908510347), 'Val Loss': 14.2253}, {'Epoch': 4600, 'FID Score Nasal': np.float64(160.83084534486346), 'FID Score Temporal': np.float64(124.6330226748218), 'Val Loss': 16.3651}, {'Epoch': 4650, 'FID Score Nasal': np.float64(159.78952695704783), 'FID Score Temporal': np.float64(123.61495706561973), 'Val Loss': 14.4708}, {'Epoch': 4700, 'FID Score Nasal': np.float64(159.92110697514357), 'FID Score Temporal': np.float64(125.04078239909445), 'Val Loss': 11.8356}, {'Epoch': 4750, 'FID Score Nasal': np.float64(160.7920922429446), 'FID Score Temporal': np.float64(123.79687462816702), 'Val Loss': 12.747}, {'Epoch': 4800, 'FID Score Nasal': np.float64(159.85242103357388), 'FID Score Temporal': np.float64(122.64551888471442), 'Val Loss': 13.7562}, {'Epoch': 4850, 'FID Score Nasal': np.float64(160.99329505614855), 'FID Score Temporal': np.float64(126.43159694575786), 'Val Loss': 11.3019}, {'Epoch': 4900, 'FID Score Nasal': np.float64(159.19869181849583), 'FID Score Temporal': np.float64(125.81297485579726), 'Val Loss': 16.8336}, {'Epoch': 4950, 'FID Score Nasal': np.float64(160.51026598792066), 'FID Score Temporal': np.float64(125.11805632658857), 'Val Loss': 16.7432}, {'Epoch': 5000, 'FID Score Nasal': np.float64(157.5527175752082), 'FID Score Temporal': np.float64(126.93570171735901), 'Val Loss': 12.9989}, {'Epoch': 5050, 'FID Score Nasal': np.float64(159.66004886383573), 'FID Score Temporal': np.float64(124.84259778423737), 'Val Loss': 12.8663}, {'Epoch': 5100, 'FID Score Nasal': np.float64(158.65132238756945), 'FID Score Temporal': np.float64(125.57757595516638), 'Val Loss': 15.0104}, {'Epoch': 5150, 'FID Score Nasal': np.float64(159.40140562090005), 'FID Score Temporal': np.float64(122.34908588023171), 'Val Loss': 17.5751}, {'Epoch': 5200, 'FID Score Nasal': np.float64(157.2744224069408), 'FID Score Temporal': np.float64(124.58508410242399), 'Val Loss': 12.4152}, {'Epoch': 5250, 'FID Score Nasal': np.float64(158.0537929986348), 'FID Score Temporal': np.float64(125.40797156762659), 'Val Loss': 13.9374}, {'Epoch': 5300, 'FID Score Nasal': np.float64(159.26282365060547), 'FID Score Temporal': np.float64(127.12514059868118), 'Val Loss': 14.4114}, {'Epoch': 5350, 'FID Score Nasal': np.float64(157.95498754394112), 'FID Score Temporal': np.float64(122.30275140218158), 'Val Loss': 12.4495}, {'Epoch': 5400, 'FID Score Nasal': np.float64(156.35093056861666), 'FID Score Temporal': np.float64(124.44158281012015), 'Val Loss': 18.7361}, {'Epoch': 5450, 'FID Score Nasal': np.float64(160.32517005871046), 'FID Score Temporal': np.float64(125.32181994064314), 'Val Loss': 11.2834}, {'Epoch': 5500, 'FID Score Nasal': np.float64(158.49717787056358), 'FID Score Temporal': np.float64(124.06499218529136), 'Val Loss': 18.8572}, {'Epoch': 5550, 'FID Score Nasal': np.float64(161.35510823419898), 'FID Score Temporal': np.float64(125.46652392384844), 'Val Loss': 14.294}, {'Epoch': 5600, 'FID Score Nasal': np.float64(158.95047204295935), 'FID Score Temporal': np.float64(128.6160072051131), 'Val Loss': 12.4272}, {'Epoch': 5650, 'FID Score Nasal': np.float64(160.62209075495048), 'FID Score Temporal': np.float64(123.51336459383347), 'Val Loss': 21.5442}, {'Epoch': 5700, 'FID Score Nasal': np.float64(159.83842527457682), 'FID Score Temporal': np.float64(123.53604672696518), 'Val Loss': 13.2092}, {'Epoch': 5750, 'FID Score Nasal': np.float64(158.88833438918815), 'FID Score Temporal': np.float64(127.90565989648792), 'Val Loss': 10.9677}]\n"
     ]
    }
   ],
   "source": [
    "print(results)"
   ]
  },
  {
   "cell_type": "code",
   "execution_count": null,
   "id": "00ade13a-9f05-49a3-89b0-4737ac58396b",
   "metadata": {},
   "outputs": [],
   "source": [
    "load_checkpoint(\"./SavedModel/c_to_t/c_to_t_disc_3310.pth.tar\", disc, disc_opt, lr, device)\n",
    "load_checkpoint(\"./SavedModel/c_to_t/c_to_t_gen_3310.pth.tar\", gen, gen_opt, lr, device)\n",
    "print(val_loader)\n",
    "for i in range(64):\n",
    "    save_some_examples(gen, disc, val_loader, i, best_val, l1_lambda, folder=\"evaluation/retinal/c_to_t_test_3310\")"
   ]
  },
  {
   "cell_type": "code",
   "execution_count": 18,
   "id": "6135ce99-652c-4b8e-a563-598dd4c6c9cb",
   "metadata": {},
   "outputs": [
    {
     "name": "stdout",
     "output_type": "stream",
     "text": [
      "{'Epoch': 4550, 'FID Score Nasal': np.float64(157.81012886889832), 'FID Score Temporal': np.float64(124.5465908510347), 'Val Loss': 14.2253}\n",
      "{'Epoch': 4600, 'FID Score Nasal': np.float64(160.83084534486346), 'FID Score Temporal': np.float64(124.6330226748218), 'Val Loss': 16.3651}\n",
      "{'Epoch': 4650, 'FID Score Nasal': np.float64(159.78952695704783), 'FID Score Temporal': np.float64(123.61495706561973), 'Val Loss': 14.4708}\n",
      "{'Epoch': 4700, 'FID Score Nasal': np.float64(159.92110697514357), 'FID Score Temporal': np.float64(125.04078239909445), 'Val Loss': 11.8356}\n",
      "{'Epoch': 4750, 'FID Score Nasal': np.float64(160.7920922429446), 'FID Score Temporal': np.float64(123.79687462816702), 'Val Loss': 12.747}\n",
      "{'Epoch': 4800, 'FID Score Nasal': np.float64(159.85242103357388), 'FID Score Temporal': np.float64(122.64551888471442), 'Val Loss': 13.7562}\n",
      "{'Epoch': 4850, 'FID Score Nasal': np.float64(160.99329505614855), 'FID Score Temporal': np.float64(126.43159694575786), 'Val Loss': 11.3019}\n",
      "{'Epoch': 4900, 'FID Score Nasal': np.float64(159.19869181849583), 'FID Score Temporal': np.float64(125.81297485579726), 'Val Loss': 16.8336}\n",
      "{'Epoch': 4950, 'FID Score Nasal': np.float64(160.51026598792066), 'FID Score Temporal': np.float64(125.11805632658857), 'Val Loss': 16.7432}\n",
      "{'Epoch': 5000, 'FID Score Nasal': np.float64(157.5527175752082), 'FID Score Temporal': np.float64(126.93570171735901), 'Val Loss': 12.9989}\n",
      "{'Epoch': 5050, 'FID Score Nasal': np.float64(159.66004886383573), 'FID Score Temporal': np.float64(124.84259778423737), 'Val Loss': 12.8663}\n",
      "{'Epoch': 5100, 'FID Score Nasal': np.float64(158.65132238756945), 'FID Score Temporal': np.float64(125.57757595516638), 'Val Loss': 15.0104}\n",
      "{'Epoch': 5150, 'FID Score Nasal': np.float64(159.40140562090005), 'FID Score Temporal': np.float64(122.34908588023171), 'Val Loss': 17.5751}\n",
      "{'Epoch': 5200, 'FID Score Nasal': np.float64(157.2744224069408), 'FID Score Temporal': np.float64(124.58508410242399), 'Val Loss': 12.4152}\n",
      "{'Epoch': 5250, 'FID Score Nasal': np.float64(158.0537929986348), 'FID Score Temporal': np.float64(125.40797156762659), 'Val Loss': 13.9374}\n",
      "{'Epoch': 5300, 'FID Score Nasal': np.float64(159.26282365060547), 'FID Score Temporal': np.float64(127.12514059868118), 'Val Loss': 14.4114}\n",
      "{'Epoch': 5350, 'FID Score Nasal': np.float64(157.95498754394112), 'FID Score Temporal': np.float64(122.30275140218158), 'Val Loss': 12.4495}\n",
      "{'Epoch': 5400, 'FID Score Nasal': np.float64(156.35093056861666), 'FID Score Temporal': np.float64(124.44158281012015), 'Val Loss': 18.7361}\n",
      "{'Epoch': 5450, 'FID Score Nasal': np.float64(160.32517005871046), 'FID Score Temporal': np.float64(125.32181994064314), 'Val Loss': 11.2834}\n",
      "{'Epoch': 5500, 'FID Score Nasal': np.float64(158.49717787056358), 'FID Score Temporal': np.float64(124.06499218529136), 'Val Loss': 18.8572}\n",
      "{'Epoch': 5550, 'FID Score Nasal': np.float64(161.35510823419898), 'FID Score Temporal': np.float64(125.46652392384844), 'Val Loss': 14.294}\n",
      "{'Epoch': 5600, 'FID Score Nasal': np.float64(158.95047204295935), 'FID Score Temporal': np.float64(128.6160072051131), 'Val Loss': 12.4272}\n",
      "{'Epoch': 5650, 'FID Score Nasal': np.float64(160.62209075495048), 'FID Score Temporal': np.float64(123.51336459383347), 'Val Loss': 21.5442}\n",
      "{'Epoch': 5700, 'FID Score Nasal': np.float64(159.83842527457682), 'FID Score Temporal': np.float64(123.53604672696518), 'Val Loss': 13.2092}\n",
      "{'Epoch': 5750, 'FID Score Nasal': np.float64(158.88833438918815), 'FID Score Temporal': np.float64(127.90565989648792), 'Val Loss': 10.9677}\n"
     ]
    }
   ],
   "source": [
    "for r in results:\n",
    "    print(r)"
   ]
  },
  {
   "cell_type": "code",
   "execution_count": null,
   "id": "82255214-d4b6-46af-95e2-ef6788afd185",
   "metadata": {},
   "outputs": [],
   "source": []
  }
 ],
 "metadata": {
  "kernelspec": {
   "display_name": "Python 3 (ipykernel)",
   "language": "python",
   "name": "python3"
  },
  "language_info": {
   "codemirror_mode": {
    "name": "ipython",
    "version": 3
   },
   "file_extension": ".py",
   "mimetype": "text/x-python",
   "name": "python",
   "nbconvert_exporter": "python",
   "pygments_lexer": "ipython3",
   "version": "3.12.9"
  }
 },
 "nbformat": 4,
 "nbformat_minor": 5
}
